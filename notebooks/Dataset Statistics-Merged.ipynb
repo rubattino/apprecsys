{
 "cells": [
  {
   "cell_type": "code",
   "execution_count": 33,
   "metadata": {
    "collapsed": false
   },
   "outputs": [
    {
     "data": {
      "text/plain": [
       "[(163385,\n",
       "  77275,\n",
       "  1421009506,\n",
       "  47.237476,\n",
       "  -122.530884,\n",
       "  13209,\n",
       "  6,\n",
       "  12,\n",
       "  u'App_Opened'),\n",
       " (163385,\n",
       "  44053,\n",
       "  1421029924,\n",
       "  47.237476,\n",
       "  -122.530891,\n",
       "  13209,\n",
       "  6,\n",
       "  18,\n",
       "  u'App_Opened'),\n",
       " (163385,\n",
       "  83370,\n",
       "  1421015988,\n",
       "  47.237461,\n",
       "  -122.530899,\n",
       "  13209,\n",
       "  6,\n",
       "  14,\n",
       "  u'App_Opened')]"
      ]
     },
     "execution_count": 33,
     "metadata": {},
     "output_type": "execute_result"
    }
   ],
   "source": [
    "eventsPath = os.environ[\"YAHOO_DATA\"]\n",
    "rawEventsRdd = sc.textFile(eventsPath + \"events.txt\")\n",
    "rawInstallsRdd = sc.textFile(eventsPath + \"installs.txt\")\n",
    "rawMergedRdd = rawEventsRdd.union(rawInstallsRdd)\n",
    "def parseRawData(line):\n",
    "    lineSplit = line.split(\"\\t\")\n",
    "    return (lineSplit[0], #userid\n",
    "              lineSplit[1], #itemid\n",
    "              int(lineSplit[2]), #ts\n",
    "              float(lineSplit[3]), #lat\n",
    "              float(lineSplit[4]), #lon\n",
    "              lineSplit[5], #city\n",
    "              int(lineSplit[6]), #day_of_week\n",
    "              int(lineSplit[7]), #time_of_day\n",
    "              lineSplit[-1]) #event_type\n",
    "    \n",
    "\n",
    "eventsRdd = rawMergedRdd.map(parseRawData).cache()\n",
    "#userIdConversionDictionary = eventsRdd.map(lambda x: x[0]).distinct().zipWithIndex().collectAsMap()\n",
    "#itemIdConversionDictionary = eventsRdd.map(lambda x: x[1]).distinct().zipWithIndex().collectAsMap()\n",
    "#cityConversionDictionary = eventsRdd.map(lambda x: x[5]).distinct().zipWithIndex().collectAsMap()\n",
    "#USE the same id map always\n",
    "import json\n",
    "userIdConversionDictionary = json.load(open(eventsPath  + \"/userIdConversionDictionary.txt\"))\n",
    "itemIdConversionDictionary = json.load(open(eventsPath  + \"/itemIdConversionDictionary.txt\"))\n",
    "cityConversionDictionary = json.load(open(eventsPath  + \"/cityConversionDictionary.txt\"))\n",
    "eventsConvertedRdd = eventsRdd.map(lambda x: (userIdConversionDictionary[x[0]],\n",
    "    itemIdConversionDictionary[x[1]],\n",
    "    x[2],\n",
    "    x[3],\n",
    "    x[4],\n",
    "    cityConversionDictionary[x[5]],\n",
    "    x[6],\n",
    "    x[7],\n",
    "    x[8]\n",
    "    ))\n",
    "\n",
    "eventsConvertedRdd.take(3)"
   ]
  },
  {
   "cell_type": "markdown",
   "metadata": {},
   "source": [
    "# Graphs on app usage"
   ]
  },
  {
   "cell_type": "code",
   "execution_count": 34,
   "metadata": {
    "collapsed": false
   },
   "outputs": [
    {
     "data": {
      "text/plain": [
       "[(29345, 9712865), (60075, 8431821), (79614, 7840438)]"
      ]
     },
     "execution_count": 34,
     "metadata": {},
     "output_type": "execute_result"
    }
   ],
   "source": [
    "onlyOpenEvents = rawEventsRdd.map(\n",
    "    parseRawData).map(lambda x : (itemIdConversionDictionary[x[1]],1))\n",
    "appvsruntime = onlyOpenEvents.reduceByKey(lambda a,b : a + b).sortBy(lambda x: x[1], ascending=False)\n",
    "appvsruntime.take(3)\n"
   ]
  },
  {
   "cell_type": "code",
   "execution_count": 36,
   "metadata": {
    "collapsed": false
   },
   "outputs": [],
   "source": [
    "import json\n",
    "userappmap = json.load(open(eventsPath + \"/userAppMap.txt\"))\n",
    "def findKey(d, v):\n",
    "    for k, val in d.iteritems():\n",
    "        if val == v:\n",
    "            return k\n",
    "listofapps = [ (findKey(itemIdConversionDictionary, v[0]), v[1]) for v in appvsruntime.take(100)]\n",
    "stats_dir = eventsPath + \"/stats/\"\n",
    "if not os.path.exists(stats_dir):\n",
    "    os.makedirs(stats_dir)\n",
    "numberOfEvents = float(eventsRdd.count())\n",
    "outfile = open(stats_dir + \"topapps_run_byusers.csv\",'w')\n",
    "outfile.write(\"App,#usersruntheapp, percentage\\n\")\n",
    "for el in listofapps:\n",
    "    outfile.write(str(el[0]) + \",\" + str(el[1]) + \",\" + str(el[1]/numberOfEvents) + '\\n')\n",
    "outfile.close()"
   ]
  },
  {
   "cell_type": "markdown",
   "metadata": {},
   "source": [
    "### Number of open events vs application"
   ]
  },
  {
   "cell_type": "code",
   "execution_count": 44,
   "metadata": {
    "collapsed": false
   },
   "outputs": [
    {
     "data": {
      "image/png": "[encoded data removed]",
      "text/plain": [
       "<matplotlib.figure.Figure at 0x7f7f58386250>"
      ]
     },
     "metadata": {},
     "output_type": "display_data"
    }
   ],
   "source": [
    "import matplotlib.pyplot as plt\n",
    "import time\n",
    "import os\n",
    "%matplotlib inline\n",
    "data= appvsruntime.map(lambda x : x[1]).collect()\n",
    "plt.plot(data)\n",
    "plt.ylabel('Number of usages')\n",
    "plt.xlabel('Apps')\n",
    "plt.axis([0,200,0 , 1e7])\n",
    "figure_dir = eventsPath + \"/figures/\"\n",
    "if not os.path.exists(figure_dir):\n",
    "    os.makedirs(figure_dir)\n",
    "plt.savefig(figure_dir + \"numberofusagevsapp\" + str(int(time.time())) + \".png\")\n",
    "plt.show()"
   ]
  },
  {
   "cell_type": "markdown",
   "metadata": {},
   "source": [
    "### Percentage of usage over all events per app"
   ]
  },
  {
   "cell_type": "code",
   "execution_count": 42,
   "metadata": {
    "collapsed": false
   },
   "outputs": [
    {
     "data": {
      "image/png": "[encoded data removed]",
      "text/plain": [
       "<matplotlib.figure.Figure at 0x7f7f436223d0>"
      ]
     },
     "metadata": {},
     "output_type": "display_data"
    }
   ],
   "source": [
    "import matplotlib.pyplot as plt\n",
    "import time\n",
    "import os\n",
    "%matplotlib inline\n",
    "try:\n",
    "    data\n",
    "except NameError:\n",
    "    data= appvsruntime.map(lambda x : x[1]).collect()\n",
    "itemCount = float(len(data))\n",
    "plt.plot([el/itemCount for el in data])\n",
    "plt.ylabel('Percentage of usages')\n",
    "plt.xlabel('Apps')\n",
    "plt.axis([0,200,0 , 100])\n",
    "figure_dir = eventsPath + \"/figures/\"\n",
    "if not os.path.exists(figure_dir):\n",
    "    os.makedirs(figure_dir)\n",
    "plt.savefig(figure_dir + \"percentageofusagevsapp\" + str(int(time.time())) + \".png\")\n",
    "plt.show()\n"
   ]
  },
  {
   "cell_type": "markdown",
   "metadata": {},
   "source": [
    "## Graphs of users installed per application"
   ]
  },
  {
   "cell_type": "code",
   "execution_count": null,
   "metadata": {
    "collapsed": false
   },
   "outputs": [],
   "source": [
    "userappmaprdd = sc.parallelize([ (int(k), userappmap[k]) for k in userappmap.keys()])\n",
    "userappmaprdd = userappmaprdd.flatMap(lambda x : [ (k, 1) for k in x[1] ] ) #(itemid, 1) format\n",
    "userappmaprdd = userappmaprdd.reduceByKey(\n",
    "    lambda a,b : a + b).sortBy(lambda x : x[1], ascending=False)"
   ]
  },
  {
   "cell_type": "code",
   "execution_count": null,
   "metadata": {
    "collapsed": false
   },
   "outputs": [],
   "source": [
    "def findKey(d, v):\n",
    "    for k, val in d.iteritems():\n",
    "        if val == v:\n",
    "            return k\n",
    "listofapps = [ (findKey(itemIdConversionDictionary, v[0]), v[1]) for v in userappmaprdd.take(100)]\n",
    "stats_dir = eventsPath + \"/stats/\"\n",
    "if not os.path.exists(stats_dir):\n",
    "    os.makedirs(stats_dir)\n",
    "numberOfUsers = float(len(userappmap))\n",
    "outfile = open(stats_dir + \"topapps_owned_byusers.csv\",'w')\n",
    "outfile.write(\"App,#usersowntheapp, percentage\\n\")\n",
    "for el in listofapps:\n",
    "    outfile.write(str(el[0]) + \",\" + str(el[1]) + \",\" + str(el[1]/numberOfUsers) + '\\n')\n",
    "outfile.close()\n"
   ]
  },
  {
   "cell_type": "markdown",
   "metadata": {},
   "source": [
    "### Number of users installed per application"
   ]
  },
  {
   "cell_type": "code",
   "execution_count": null,
   "metadata": {
    "collapsed": false
   },
   "outputs": [],
   "source": [
    "import matplotlib.pyplot as plt\n",
    "import time\n",
    "import os\n",
    "%matplotlib inline\n",
    "dataiteminstall= userappmaprdd.map(lambda x : x[1]).collect()\n",
    "plt.plot(dataiteminstall)\n",
    "plt.ylabel('Number of installs')\n",
    "plt.xlabel('Apps')\n",
    "plt.axis([0,10000, 0, 2000])\n",
    "figure_dir = eventsPath + \"/figures/\"\n",
    "if not os.path.exists(figure_dir):\n",
    "    os.makedirs(figure_dir)\n",
    "plt.savefig(figure_dir + \"numberofinstallperapp\" + str(int(time.time())) + \".png\")\n",
    "plt.show()"
   ]
  },
  {
   "cell_type": "markdown",
   "metadata": {},
   "source": [
    "### Percentage of users installed per application"
   ]
  },
  {
   "cell_type": "code",
   "execution_count": null,
   "metadata": {
    "collapsed": false,
    "scrolled": true
   },
   "outputs": [],
   "source": [
    "import matplotlib.pyplot as plt\n",
    "import time\n",
    "import os\n",
    "%matplotlib inline\n",
    "try:\n",
    "    dataiteminstall\n",
    "except NameError:\n",
    "    dataiteminstall= userappmaprdd.map(lambda x : x[1]).collect()\n",
    "numberOfUsers = float(len(userappmap))\n",
    "plt.plot([el/numberOfUsers for el in dataiteminstall])\n",
    "plt.ylabel('Percentage of users own the app')\n",
    "plt.xlabel('Apps')\n",
    "plt.axis([0,1000, 0.0, 0.5])\n",
    "figure_dir = eventsPath + \"/figures/\"\n",
    "if not os.path.exists(figure_dir):\n",
    "    os.makedirs(figure_dir)\n",
    "plt.savefig(figure_dir + \"percentageofusersownedvsapp\" + str(int(time.time())) + \".png\")\n",
    "plt.show()"
   ]
  },
  {
   "cell_type": "markdown",
   "metadata": {},
   "source": [
    "# Histogram of users having certain number of apps"
   ]
  },
  {
   "cell_type": "code",
   "execution_count": 10,
   "metadata": {
    "collapsed": false
   },
   "outputs": [],
   "source": [
    "import os\n",
    "import numpy as np\n",
    "execfile(\"../script/utils.py\")\n",
    "eventsPath = os.environ[\"YAHOO_DATA\"]\n",
    "splitedRdd = sc.textFile(eventsPath + \"/splitedData\")\n",
    "splitedRdd = splitedRdd.map(parseContextData2).map(lambda x :  (len(x[1][1]) + len(x[1][0])))\n",
    "intervalsLarge = np.arange(0,9001,1000).tolist()\n",
    "histDataOpenlarge = splitedRdd.histogram(intervalsLarge)\n",
    "intervalsSmall = np.arange(0,8601,100).tolist()\n",
    "histDataOpenSmall = splitedRdd.histogram(intervalsSmall)\n",
    "#splitedRdd.max() 8597"
   ]
  },
  {
   "cell_type": "code",
   "execution_count": 17,
   "metadata": {
    "collapsed": false
   },
   "outputs": [
    {
     "data": {
      "text/plain": [
       "([0, 1000, 2000, 3000, 4000, 5000, 6000, 7000, 8000, 9000],\n",
       " [170547, 26967, 3287, 498, 113, 21, 11, 3, 3])"
      ]
     },
     "execution_count": 17,
     "metadata": {},
     "output_type": "execute_result"
    }
   ],
   "source": [
    "histDataOpenlarge"
   ]
  },
  {
   "cell_type": "markdown",
   "metadata": {
    "collapsed": true
   },
   "source": [
    "### Histogram of number opens per user 1000 interval adopted"
   ]
  },
  {
   "cell_type": "code",
   "execution_count": 24,
   "metadata": {
    "collapsed": false
   },
   "outputs": [
    {
     "data": {
      "image/png": "[encoded data removed]",
      "text/plain": [
       "<matplotlib.figure.Figure at 0x7f7f43161e50>"
      ]
     },
     "metadata": {},
     "output_type": "display_data"
    }
   ],
   "source": [
    "import matplotlib.pyplot as plt\n",
    "import time\n",
    "import os\n",
    "%matplotlib inline\n",
    "plt.bar(histDataOpenlarge[0][:-1], histDataOpenlarge[1], width=1000 )\n",
    "plt.ylabel('Number of users')\n",
    "plt.xlabel('Number of events')\n",
    "figure_dir = eventsPath + \"/figures/\"\n",
    "if not os.path.exists(figure_dir):\n",
    "    os.makedirs(figure_dir)\n",
    "plt.savefig(figure_dir + \"histof_#opens_peruser_1000int\" + str(int(time.time())) + \".png\")\n",
    "plt.show()"
   ]
  },
  {
   "cell_type": "markdown",
   "metadata": {},
   "source": [
    "### Histogram of number opens per user 100 interval adopted"
   ]
  },
  {
   "cell_type": "code",
   "execution_count": 25,
   "metadata": {
    "collapsed": false
   },
   "outputs": [
    {
     "data": {
      "image/png": "[encoded data removed]",
      "text/plain": [
       "<matplotlib.figure.Figure at 0x7f7f43187110>"
      ]
     },
     "metadata": {},
     "output_type": "display_data"
    }
   ],
   "source": [
    "import matplotlib.pyplot as plt\n",
    "import time\n",
    "import os\n",
    "%matplotlib inline\n",
    "plt.bar(histDataOpenSmall[0][:-1], histDataOpenSmall[1], width=100 )\n",
    "plt.ylabel('Number of users')\n",
    "plt.xlabel('Number of events')\n",
    "plt.axis([0,2000,0,35000])\n",
    "figure_dir = eventsPath + \"/figures/\"\n",
    "if not os.path.exists(figure_dir):\n",
    "    os.makedirs(figure_dir)\n",
    "plt.savefig(figure_dir + \"histof_#opens_peruser_100int\" + str(int(time.time())) + \".png\")\n",
    "plt.show()"
   ]
  },
  {
   "cell_type": "markdown",
   "metadata": {},
   "source": [
    "### Histogram of the number of applications owned by each user"
   ]
  },
  {
   "cell_type": "code",
   "execution_count": 28,
   "metadata": {
    "collapsed": false
   },
   "outputs": [
    {
     "data": {
      "text/plain": [
       "(33.15867957309499, 257, 201450)"
      ]
     },
     "execution_count": 28,
     "metadata": {},
     "output_type": "execute_result"
    }
   ],
   "source": [
    "import json\n",
    "userappmap = json.load(open(eventsPath + \"/userAppMap.txt\"))\n",
    "userappcountrdd = sc.parallelize([len(v) for k,v in userappmap.iteritems()])\n",
    "intervalAppCount = [0,10,20,30,40,50,60,70,100,150,200,260]\n",
    "histDataAppcount = userappcountrdd.histogram(intervalAppCount)\n",
    "userappcountrdd.mean(), userappcountrdd.max(), userappcountrdd.count()"
   ]
  },
  {
   "cell_type": "code",
   "execution_count": 30,
   "metadata": {
    "collapsed": false
   },
   "outputs": [
    {
     "data": {
      "text/plain": [
       "([0, 10, 20, 30, 40, 50, 60, 70, 100, 150, 200, 260],\n",
       " [10369, 28266, 47468, 52043, 35778, 17107, 6501, 3589, 303, 23, 3])"
      ]
     },
     "execution_count": 30,
     "metadata": {},
     "output_type": "execute_result"
    }
   ],
   "source": [
    "histDataAppcount"
   ]
  },
  {
   "cell_type": "code",
   "execution_count": 31,
   "metadata": {
    "collapsed": false
   },
   "outputs": [
    {
     "data": {
      "image/png": "[encoded data removed]",
      "text/plain": [
       "<matplotlib.figure.Figure at 0x7f7f43525d90>"
      ]
     },
     "metadata": {},
     "output_type": "display_data"
    }
   ],
   "source": [
    "import matplotlib.pyplot as plt\n",
    "import time\n",
    "import os\n",
    "%matplotlib inline\n",
    "plt.bar(histDataAppcount[0][:-1], histDataAppcount[1],\n",
    "        width=[x - intervalAppCount[i - 1] for i, x in enumerate(intervalAppCount)][1:])\n",
    "plt.ylabel('Number of users')\n",
    "plt.xlabel('Number of apps')\n",
    "\n",
    "#figure_dir = eventsPath + \"/figures/\"\n",
    "#if not os.path.exists(figure_dir):\n",
    "#    os.makedirs(figure_dir)\n",
    "#plt.savefig(figure_dir + \"histof_#opens_peruser_100int\" + str(int(time.time())) + \".png\")\n",
    "plt.show()"
   ]
  },
  {
   "cell_type": "code",
   "execution_count": 32,
   "metadata": {
    "collapsed": false
   },
   "outputs": [
    {
     "data": {
      "text/plain": [
       "100259"
      ]
     },
     "execution_count": 32,
     "metadata": {},
     "output_type": "execute_result"
    }
   ],
   "source": [
    "len(itemIdConversionDictionary)"
   ]
  },
  {
   "cell_type": "code",
   "execution_count": 2,
   "metadata": {
    "collapsed": false
   },
   "outputs": [],
   "source": [
    "eventRDD = eventsConvertedRdd.groupBy(lambda x: x[0]).map(lambda (x,y): (x, sorted(list(y),key=lambda a: a[2])))\n",
    "def tempRemoveUserIdDup(line):\n",
    "    data = line[1]\n",
    "    newData = [el[1:] for el in data]\n",
    "    return line[0], newData\n",
    "eventRDD2 = eventRDD.map(tempRemoveUserIdDup)"
   ]
  },
  {
   "cell_type": "code",
   "execution_count": null,
   "metadata": {
    "collapsed": false,
    "scrolled": true
   },
   "outputs": [],
   "source": [
    "def splitRddMerged(line):\n",
    "    open_events = [el for el in line[1] if el[7] == \"App_Opened\"]\n",
    "    install_events = [el for el in line[1] if el[7] == \"install\"]\n",
    "    uninstall_events = [el for el in line[1] if el[7] == \"uninstall\"]\n",
    "    return line[0],open_events, install_events, uninstall_events\n",
    "splited = eventRDD2.map(splitRddMerged)\n",
    "splited.collect()"
   ]
  },
  {
   "cell_type": "code",
   "execution_count": null,
   "metadata": {
    "collapsed": true
   },
   "outputs": [],
   "source": []
  },
  {
   "cell_type": "code",
   "execution_count": 4,
   "metadata": {
    "collapsed": false
   },
   "outputs": [],
   "source": [
    "outp = open(eventsPath + \"/outputstat.txt\",\"a\")\n",
    "import datetime\n",
    "import time\n",
    "outp.write(\"--------------------------------------------------------\\n\") #separator\n",
    "outp.write(datetime.datetime.fromtimestamp(time.time()).strftime('%Y-%m-%d %H:%M:%S'))\n",
    "outp.write(\"\\n\")\n",
    "numberofusers = splited.count()\n",
    "outp.write(\"Number of users : \" + str(numberofusers) + \"\\n\")\n",
    "install = eventsConvertedRdd.filter(lambda x : x[8]==\"install\").count()\n",
    "uninstall = eventsConvertedRdd.filter(lambda x : x[8]==\"uninstall\").count()\n",
    "app_open = eventsConvertedRdd.filter(lambda x : x[8]==\"App_Opened\").count()\n",
    "outp.write(\"Number of events(install, uninstall, open, all) : \" \n",
    "           + str((install, uninstall, app_open, install + uninstall + app_open)) + \"\\n\")\n",
    "outp.write(\"Average number of events per user(install, uninstall, open, all) : \" \n",
    "           + str((install/float(numberofusers), uninstall/float(numberofusers), \n",
    "                  app_open/float(numberofusers), \n",
    "                  (install + uninstall + app_open)/float(numberofusers))) + \"\\n\")\n",
    "outp.close()"
   ]
  },
  {
   "cell_type": "code",
   "execution_count": 19,
   "metadata": {
    "collapsed": false
   },
   "outputs": [
    {
     "data": {
      "text/plain": [
       "200"
      ]
     },
     "execution_count": 19,
     "metadata": {},
     "output_type": "execute_result"
    }
   ],
   "source": []
  },
  {
   "cell_type": "code",
   "execution_count": null,
   "metadata": {
    "collapsed": true
   },
   "outputs": [],
   "source": []
  }
 ],
 "metadata": {
  "kernelspec": {
   "display_name": "Python 2",
   "language": "python",
   "name": "python2"
  },
  "language_info": {
   "codemirror_mode": {
    "name": "ipython",
    "version": 2
   },
   "file_extension": ".py",
   "mimetype": "text/x-python",
   "name": "python",
   "nbconvert_exporter": "python",
   "pygments_lexer": "ipython2",
   "version": "2.7.10"
  }
 },
 "nbformat": 4,
 "nbformat_minor": 0
}
