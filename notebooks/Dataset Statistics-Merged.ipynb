{
 "cells": [
  {
   "cell_type": "code",
   "execution_count": null,
   "metadata": {
    "collapsed": false
   },
   "outputs": [],
   "source": [
    "eventsPath = os.environ[\"YAHOO_DATA\"]\n",
    "rawEventsRdd = sc.parallelize(sc.textFile(eventsPath + \"/events.txt\").take(100))\n",
    "rawInstallsRdd = sc.parallelize(sc.textFile(eventsPath + \"/installs.txt\").take(100))\n",
    "rawMergedRdd = rawEventsRdd.union(rawInstallsRdd)\n",
    "def parseRawData(line):\n",
    "    lineSplit = line.split(\"\\t\")\n",
    "    return (lineSplit[0], #userid\n",
    "              lineSplit[1], #itemid\n",
    "              int(lineSplit[2]), #ts\n",
    "              float(lineSplit[3]), #lat\n",
    "              float(lineSplit[4]), #lon\n",
    "              lineSplit[5], #city\n",
    "              int(lineSplit[6]), #day_of_week\n",
    "              int(lineSplit[7]), #time_of_day\n",
    "              lineSplit[-1]) #event_type\n",
    "    \n",
    "\n",
    "eventsRdd = rawMergedRdd.map(parseRawData).cache()\n",
    "#userIdConversionDictionary = eventsRdd.map(lambda x: x[0]).distinct().zipWithIndex().collectAsMap()\n",
    "#itemIdConversionDictionary = eventsRdd.map(lambda x: x[1]).distinct().zipWithIndex().collectAsMap()\n",
    "#cityConversionDictionary = eventsRdd.map(lambda x: x[5]).distinct().zipWithIndex().collectAsMap()\n",
    "#USE the same id map always\n",
    "import json\n",
    "userIdConversionDictionary = json.load(open(eventsPath  + \"/userIdConversionDictionary.txt\"))\n",
    "itemIdConversionDictionary = json.load(open(eventsPath  + \"/itemIdConversionDictionary.txt\"))\n",
    "cityConversionDictionary = json.load(open(eventsPath  + \"/cityConversionDictionary.txt\"))\n",
    "eventsConvertedRdd = eventsRdd.map(lambda x: (userIdConversionDictionary[x[0]],\n",
    "    itemIdConversionDictionary[x[1]],\n",
    "    x[2],\n",
    "    x[3],\n",
    "    x[4],\n",
    "    cityConversionDictionary[x[5]],\n",
    "    x[6],\n",
    "    x[7],\n",
    "    x[8]\n",
    "    ))\n",
    "\n",
    "eventsConvertedRdd.take(3)"
   ]
  },
  {
   "cell_type": "markdown",
   "metadata": {},
   "source": [
    "# Graphs on app usage"
   ]
  },
  {
   "cell_type": "code",
   "execution_count": 6,
   "metadata": {
    "collapsed": false
   },
   "outputs": [
    {
     "data": {
      "text/plain": [
       "[(60075, 10), (55396, 8), (14861, 8)]"
      ]
     },
     "execution_count": 6,
     "metadata": {},
     "output_type": "execute_result"
    }
   ],
   "source": [
    "onlyOpenEvents = rawEventsRdd.map(\n",
    "    parseRawData).map(lambda x : (itemIdConversionDictionary[x[1]],1))\n",
    "appvsruntime = onlyOpenEvents.reduceByKey(lambda a,b : a + b).sortBy(lambda x: x[1], ascending=False)\n",
    "appvsruntime.take(3)\n"
   ]
  },
  {
   "cell_type": "code",
   "execution_count": null,
   "metadata": {
    "collapsed": true
   },
   "outputs": [],
   "source": [
    "import json\n",
    "userappmap = json.load(open(eventsPath + \"/userAppMap.txt\"))\n",
    "def findKey(d, v):\n",
    "    for k, val in d.iteritems():\n",
    "        if val == v:\n",
    "            return k\n",
    "listofapps = [ (findKey(itemIdConversionDictionary, v[0]), v[1]) for v in appvsruntime.take(100)]\n",
    "stats_dir = eventsPath + \"/stats/\"\n",
    "if not os.path.exists(stats_dir):\n",
    "    os.makedirs(stats_dir)\n",
    "numberOfEvents = float(appvsruntime.count())\n",
    "outfile = open(stats_dir + \"topapps_run_byusers.csv\",'w')\n",
    "outfile.write(\"App,#usersruntheapp, percentage\\n\")\n",
    "for el in listofapps:\n",
    "    outfile.write(str(el[0]) + \",\" + str(el[1]) + \",\" + str(el[1]/numberOfEvents) + '\\n')\n",
    "outfile.close()"
   ]
  },
  {
   "cell_type": "markdown",
   "metadata": {},
   "source": [
    "### Number of open events vs application"
   ]
  },
  {
   "cell_type": "code",
   "execution_count": 9,
   "metadata": {
    "collapsed": false
   },
   "outputs": [
    {
     "data": {
      "image/png": "[encoded data removed]",
      "text/plain": [
       "<matplotlib.figure.Figure at 0x7fa5b24e0e10>"
      ]
     },
     "metadata": {},
     "output_type": "display_data"
    }
   ],
   "source": [
    "import matplotlib.pyplot as plt\n",
    "import time\n",
    "import os\n",
    "%matplotlib inline\n",
    "data= appvsruntime.map(lambda x : x[1]).collect()\n",
    "plt.plot(data)\n",
    "plt.ylabel('Number of usages')\n",
    "plt.xlabel('Apps')\n",
    "figure_dir = eventsPath + \"/figures/\"\n",
    "if not os.path.exists(figure_dir):\n",
    "    os.makedirs(figure_dir)\n",
    "plt.savefig(figure_dir + \"numberofusagevsapp\" + str(int(time.time())) + \".png\")\n",
    "plt.show()"
   ]
  },
  {
   "cell_type": "markdown",
   "metadata": {},
   "source": [
    "### Percentage of usage over all events per app"
   ]
  },
  {
   "cell_type": "code",
   "execution_count": 12,
   "metadata": {
    "collapsed": false
   },
   "outputs": [
    {
     "data": {
      "image/png": "[encoded data removed]",
      "text/plain": [
       "<matplotlib.figure.Figure at 0x7fa5b2546290>"
      ]
     },
     "metadata": {},
     "output_type": "display_data"
    }
   ],
   "source": [
    "import matplotlib.pyplot as plt\n",
    "import time\n",
    "import os\n",
    "%matplotlib inline\n",
    "try:\n",
    "    data\n",
    "except NameError:\n",
    "    data= appvsruntime.map(lambda x : x[1]).collect()\n",
    "itemCount = float(len(data))\n",
    "plt.plot([el/itemCount for el in data])\n",
    "plt.ylabel('Percentage of usages')\n",
    "plt.xlabel('Apps')\n",
    "figure_dir = eventsPath + \"/figures/\"\n",
    "if not os.path.exists(figure_dir):\n",
    "    os.makedirs(figure_dir)\n",
    "plt.savefig(figure_dir + \"percentageofusagevsapp\" + str(int(time.time())) + \".png\")\n",
    "plt.show()"
   ]
  },
  {
   "cell_type": "markdown",
   "metadata": {},
   "source": [
    "## Graphs of users installed per application"
   ]
  },
  {
   "cell_type": "code",
   "execution_count": 52,
   "metadata": {
    "collapsed": false
   },
   "outputs": [],
   "source": [
    "userappmaprdd = sc.parallelize([ (int(k), userappmap[k]) for k in userappmap.keys()])\n",
    "userappmaprdd = userappmaprdd.flatMap(lambda x : [ (k, 1) for k in x[1] ] ) #(itemid, 1) format\n",
    "userappmaprdd = userappmaprdd.reduceByKey(\n",
    "    lambda a,b : a + b).sortBy(lambda x : x[1], ascending=False)"
   ]
  },
  {
   "cell_type": "code",
   "execution_count": 68,
   "metadata": {
    "collapsed": false
   },
   "outputs": [],
   "source": [
    "def findKey(d, v):\n",
    "    for k, val in d.iteritems():\n",
    "        if val == v:\n",
    "            return k\n",
    "listofapps = [ (findKey(itemIdConversionDictionary, v[0]), v[1]) for v in userappmaprdd.take(100)]\n",
    "stats_dir = eventsPath + \"/stats/\"\n",
    "if not os.path.exists(stats_dir):\n",
    "    os.makedirs(stats_dir)\n",
    "numberOfUsers = float(len(userappmap))\n",
    "outfile = open(stats_dir + \"topapps_owned_byusers.csv\",'w')\n",
    "outfile.write(\"App,#usersowntheapp, percentage\\n\")\n",
    "for el in listofapps:\n",
    "    outfile.write(str(el[0]) + \",\" + str(el[1]) + \",\" + str(el[1]/numberOfUsers) + '\\n')\n",
    "outfile.close()\n"
   ]
  },
  {
   "cell_type": "markdown",
   "metadata": {},
   "source": [
    "### Number of users installed per application"
   ]
  },
  {
   "cell_type": "code",
   "execution_count": 61,
   "metadata": {
    "collapsed": false
   },
   "outputs": [
    {
     "data": {
      "image/png": "[encoded data removed]",
      "text/plain": [
       "<matplotlib.figure.Figure at 0x7fa5abd28ed0>"
      ]
     },
     "metadata": {},
     "output_type": "display_data"
    }
   ],
   "source": [
    "import matplotlib.pyplot as plt\n",
    "import time\n",
    "import os\n",
    "%matplotlib inline\n",
    "dataiteminstall= userappmaprdd.map(lambda x : x[1]).collect()\n",
    "plt.plot(dataiteminstall)\n",
    "plt.ylabel('Number of installs')\n",
    "plt.xlabel('Apps')\n",
    "plt.axis([0,10000, 0, 2000])\n",
    "figure_dir = eventsPath + \"/figures/\"\n",
    "if not os.path.exists(figure_dir):\n",
    "    os.makedirs(figure_dir)\n",
    "plt.savefig(figure_dir + \"numberofinstallperapp\" + str(int(time.time())) + \".png\")\n",
    "plt.show()"
   ]
  },
  {
   "cell_type": "markdown",
   "metadata": {},
   "source": [
    "### Percentage of users installed per application"
   ]
  },
  {
   "cell_type": "code",
   "execution_count": 67,
   "metadata": {
    "collapsed": false,
    "scrolled": true
   },
   "outputs": [
    {
     "data": {
      "image/png": "[encoded data removed]",
      "text/plain": [
       "<matplotlib.figure.Figure at 0x7fa5a9680450>"
      ]
     },
     "metadata": {},
     "output_type": "display_data"
    }
   ],
   "source": [
    "import matplotlib.pyplot as plt\n",
    "import time\n",
    "import os\n",
    "%matplotlib inline\n",
    "try:\n",
    "    dataiteminstall\n",
    "except NameError:\n",
    "    dataiteminstall= userappmaprdd.map(lambda x : x[1]).collect()\n",
    "numberOfUsers = float(len(userappmap))\n",
    "plt.plot([el/numberOfUsers for el in dataiteminstall])\n",
    "plt.ylabel('Percentage of users own the app')\n",
    "plt.xlabel('Apps')\n",
    "plt.axis([0,1000, 0.0, 0.5])\n",
    "figure_dir = eventsPath + \"/figures/\"\n",
    "if not os.path.exists(figure_dir):\n",
    "    os.makedirs(figure_dir)\n",
    "plt.savefig(figure_dir + \"percentageofusersownedvsapp\" + str(int(time.time())) + \".png\")\n",
    "plt.show()"
   ]
  },
  {
   "cell_type": "code",
   "execution_count": 2,
   "metadata": {
    "collapsed": false
   },
   "outputs": [],
   "source": [
    "eventRDD = eventsConvertedRdd.groupBy(lambda x: x[0]).map(lambda (x,y): (x, sorted(list(y),key=lambda a: a[2])))\n",
    "def tempRemoveUserIdDup(line):\n",
    "    data = line[1]\n",
    "    newData = [el[1:] for el in data]\n",
    "    return line[0], newData\n",
    "eventRDD2 = eventRDD.map(tempRemoveUserIdDup)"
   ]
  },
  {
   "cell_type": "code",
   "execution_count": 6,
   "metadata": {
    "collapsed": false,
    "scrolled": true
   },
   "outputs": [
    {
     "data": {
      "text/plain": [
       "[(8,\n",
       "  [(94, 1420963236, 47.237469, -122.530891, 6, 6, 0, u'App_Opened'),\n",
       "   (51, 1420968301, 47.23745, -122.530884, 6, 6, 1, u'App_Opened'),\n",
       "   (95, 1420968678, 47.23745, -122.530884, 6, 6, 1, u'App_Opened'),\n",
       "   (78, 1420969386, 47.23745, -122.530884, 6, 6, 1, u'App_Opened'),\n",
       "   (47, 1421009495, 47.237476, -122.530884, 6, 6, 12, u'App_Opened'),\n",
       "   (95, 1421009504, 47.237476, -122.530884, 6, 6, 12, u'App_Opened'),\n",
       "   (65, 1421009506, 47.237476, -122.530884, 6, 6, 12, u'App_Opened'),\n",
       "   (29, 1421010378, 47.237495, -122.530807, 6, 6, 13, u'App_Opened'),\n",
       "   (12, 1421010854, 47.237469, -122.530907, 6, 6, 13, u'App_Opened'),\n",
       "   (94, 1421010856, 47.237469, -122.530907, 6, 6, 13, u'App_Opened'),\n",
       "   (93, 1421015988, 47.237461, -122.530899, 6, 6, 14, u'App_Opened'),\n",
       "   (79, 1421028599, 47.237442, -122.530899, 6, 6, 18, u'App_Opened'),\n",
       "   (78, 1421029924, 47.237476, -122.530891, 6, 6, 18, u'App_Opened'),\n",
       "   (79, 1421033306, 47.237484, -122.530716, 6, 6, 19, u'App_Opened'),\n",
       "   (29, 1421037596, 47.237511, -122.530823, 6, 6, 20, u'App_Opened'),\n",
       "   (51, 1421037682, 47.237453, -122.530876, 6, 6, 20, u'App_Opened'),\n",
       "   (38, 1421038142, 47.237484, -122.53083, 6, 6, 20, u'App_Opened'),\n",
       "   (12, 1421049772, 47.252045, -122.50425, 6, 0, 0, u'App_Opened'),\n",
       "   (98, 1421050655, 47.233593, -122.536339, 6, 0, 0, u'App_Opened'),\n",
       "   (20, 1421050676, 47.233593, -122.536339, 6, 0, 0, u'App_Opened'),\n",
       "   (30, 1421050773, 47.233593, -122.536339, 6, 0, 0, u'App_Opened'),\n",
       "   (47, 1421058429, 47.252045, -122.50425, 6, 0, 2, u'App_Opened'),\n",
       "   (98, 1421059989, 47.241837, -122.515312, 6, 0, 2, u'App_Opened'),\n",
       "   (47, 1421060023, 47.233593, -122.536339, 6, 0, 2, u'App_Opened'),\n",
       "   (94, 1421060056, 47.233593, -122.536339, 6, 0, 2, u'App_Opened'),\n",
       "   (47, 1421068780, 47.237164, -122.530846, 6, 0, 5, u'App_Opened'),\n",
       "   (38, 1421074674, 47.237164, -122.530846, 6, 0, 6, u'App_Opened'),\n",
       "   (13, 1421078435, 47.252045, -122.50425, 6, 0, 8, u'App_Opened'),\n",
       "   (29, 1421078708, 47.243694, -122.513023, 6, 0, 8, u'App_Opened'),\n",
       "   (51, 1421078873, 47.235207, -122.521805, 6, 0, 8, u'App_Opened'),\n",
       "   (79, 1421081469, 47.233593, -122.536339, 6, 0, 8, u'App_Opened'),\n",
       "   (7, 1421083330, 47.233593, -122.536339, 6, 0, 9, u'App_Opened'),\n",
       "   (96, 1421091924, 47.24192, -122.435097, 6, 0, 11, u'App_Opened'),\n",
       "   (47, 1421102525, 47.107914, -122.427254, 6, 0, 14, u'App_Opened'),\n",
       "   (79, 1421104520, 47.111427, -122.434418, 12, 0, 15, u'App_Opened'),\n",
       "   (12, 1421116055, 47.23357, -122.536362, 6, 0, 18, u'App_Opened'),\n",
       "   (30, 1421147196, 47.233387, -122.536057, 6, 1, 3, u'App_Opened'),\n",
       "   (51, 1421188129, 47.252075, -122.504349, 6, 1, 14, u'App_Opened'),\n",
       "   (29, 1421189453, 47.251999, -122.504364, 6, 1, 14, u'App_Opened'),\n",
       "   (79, 1421220074, 47.24472, -122.517143, 6, 1, 23, u'App_Opened'),\n",
       "   (29, 1421222782, 47.23357, -122.536362, 6, 2, 0, u'App_Opened'),\n",
       "   (12, 1421224689, 47.237434, -122.531052, 6, 2, 0, u'App_Opened'),\n",
       "   (20, 1421224721, 47.237434, -122.531052, 6, 2, 0, u'App_Opened'),\n",
       "   (12, 1421224759, 47.237434, -122.531052, 6, 2, 0, u'App_Opened'),\n",
       "   (29, 1421226338, 47.237434, -122.531052, 6, 2, 1, u'App_Opened'),\n",
       "   (60, 1421226715, 47.237434, -122.531052, 6, 2, 1, u'App_Opened'),\n",
       "   (33, 1421227410, 47.237434, -122.531052, 6, 2, 1, u'App_Opened'),\n",
       "   (38, 1421243860, 47.237434, -122.531052, 6, 2, 5, u'App_Opened'),\n",
       "   (29, 1421243867, 47.237434, -122.531052, 6, 2, 5, u'App_Opened'),\n",
       "   (33, 1421254317, 47.251999, -122.504364, 6, 2, 8, u'App_Opened'),\n",
       "   (51, 1421277501, 47.233555, -122.536385, 6, 2, 15, u'App_Opened'),\n",
       "   (98, 1421288084, 47.245293, -122.511482, 6, 2, 18, u'App_Opened'),\n",
       "   (12, 1421288151, 47.247803, -122.508827, 6, 2, 18, u'App_Opened'),\n",
       "   (33, 1421289993, 47.235245, -122.52211, 6, 2, 18, u'App_Opened'),\n",
       "   (33, 1421293105, 47.235245, -122.52211, 6, 2, 19, u'App_Opened'),\n",
       "   (33, 1421317049, 47.251987, -122.504402, 6, 3, 2, u'App_Opened'),\n",
       "   (47, 1421318113, 47.243618, -122.513252, 6, 3, 2, u'App_Opened'),\n",
       "   (20, 1421318114, 47.243618, -122.513252, 6, 3, 2, u'App_Opened'),\n",
       "   (12, 1421318120, 47.243618, -122.513252, 6, 3, 2, u'App_Opened'),\n",
       "   (20, 1421321206, 47.252483, -122.503883, 6, 3, 3, u'App_Opened'),\n",
       "   (100, 1421329051, 47.233429, -122.536041, 6, 3, 5, u'App_Opened'),\n",
       "   (33, 1421331584, 47.233429, -122.536041, 6, 3, 6, u'App_Opened'),\n",
       "   (20, 1421355270, 47.245316, -122.51149, 6, 3, 12, u'App_Opened'),\n",
       "   (100, 1421355336, 47.237438, -122.530922, 6, 3, 12, u'App_Opened'),\n",
       "   (100, 1421355513, 47.237469, -122.530861, 6, 3, 12, u'App_Opened'),\n",
       "   (94, 1421355770, 47.237484, -122.530861, 6, 3, 13, u'App_Opened'),\n",
       "   (100, 1421359406, 47.237431, -122.530914, 6, 3, 14, u'App_Opened'),\n",
       "   (47, 1421375148, 47.23745, -122.530891, 6, 3, 18, u'App_Opened'),\n",
       "   (94, 1421399805, 47.237438, -122.530899, 6, 4, 1, u'App_Opened'),\n",
       "   (20, 1421399875, 47.237461, -122.530907, 6, 4, 1, u'App_Opened'),\n",
       "   (1, 1421403762, 47.233463, -122.53624, 6, 4, 2, u'App_Opened'),\n",
       "   (42, 1421404582, 47.233463, -122.53624, 6, 4, 2, u'App_Opened'),\n",
       "   (30, 1421425954, 47.247833, -122.508835, 6, 4, 8, u'App_Opened'),\n",
       "   (47, 1421435682, 47.233406, -122.536072, 6, 4, 11, u'App_Opened'),\n",
       "   (60, 1421438738, 47.253109, -122.51432, 6, 4, 12, u'App_Opened'),\n",
       "   (51, 1421444444, 47.235252, -122.52211, 6, 4, 13, u'App_Opened'),\n",
       "   (103, 1421449239, 47.233524, -122.536407, 6, 4, 15, u'App_Opened'),\n",
       "   (38, 1421454390, 47.246498, -122.510185, 6, 4, 16, u'App_Opened'),\n",
       "   (100, 1421459415, 47.252731, -122.511024, 6, 4, 17, u'App_Opened'),\n",
       "   (51, 1421470216, 47.233406, -122.536072, 6, 4, 20, u'App_Opened'),\n",
       "   (38, 1421484964, 47.233524, -122.536407, 6, 5, 0, u'App_Opened'),\n",
       "   (97, 1421485497, 47.233524, -122.536407, 6, 5, 1, u'App_Opened'),\n",
       "   (28, 1421487321, 47.235233, -122.521805, 6, 5, 1, u'App_Opened'),\n",
       "   (100, 1421488063, 47.252052, -122.504402, 6, 5, 1, u'App_Opened'),\n",
       "   (79, 1421509981, 47.245281, -122.511383, 6, 5, 7, u'App_Opened'),\n",
       "   (13, 1421510441, 47.243614, -122.513268, 6, 5, 8, u'App_Opened'),\n",
       "   (79, 1421518193, 47.237408, -122.531067, 6, 5, 10, u'App_Opened'),\n",
       "   (96, 1421521796, 47.23505, -122.534698, 6, 5, 11, u'App_Opened'),\n",
       "   (98, 1421522209, 47.23505, -122.534698, 6, 5, 11, u'App_Opened'),\n",
       "   (29, 1421522238, 47.23505, -122.534698, 6, 5, 11, u'App_Opened'),\n",
       "   (29, 1421522305, 47.23505, -122.534698, 6, 5, 11, u'App_Opened'),\n",
       "   (29, 1421522328, 47.23505, -122.534698, 6, 5, 11, u'App_Opened'),\n",
       "   (1, 1421526840, 47.237988, -122.519638, 6, 5, 12, u'App_Opened'),\n",
       "   (0, 1421527004, 47.254166, -122.524208, 6, 5, 12, u'App_Opened'),\n",
       "   (51, 1421554954, 47.245384, -122.511482, 6, 5, 20, u'App_Opened'),\n",
       "   (20, 1421555003, 47.24369, -122.513092, 6, 5, 20, u'App_Opened'),\n",
       "   (20, 1421557217, 47.23505, -122.534698, 6, 5, 21, u'App_Opened'),\n",
       "   (96, 1421558571, 47.23505, -122.534698, 6, 5, 21, u'App_Opened'),\n",
       "   (81, 1421558753, 47.23505, -122.534698, 6, 5, 21, u'App_Opened'),\n",
       "   (65, 1421559008, 47.23505, -122.534698, 6, 5, 21, u'App_Opened')],\n",
       "  [(93, 1420974077, 47.237461, -122.530907, 6, 6, 3, u'install')],\n",
       "  []),\n",
       " (0,\n",
       "  [],\n",
       "  [(62, 1421375112, 38.402515, -121.37767, 10, 3, 18, u'install'),\n",
       "   (54, 1421560157, 38.402534, -121.377693, 10, 5, 21, u'install')],\n",
       "  [(62, 1421375454, 38.402515, -121.377686, 10, 3, 18, u'uninstall'),\n",
       "   (57, 1421560092, 38.402534, -121.37767, 10, 5, 21, u'uninstall'),\n",
       "   (54, 1421560142, 38.402534, -121.37767, 10, 5, 21, u'uninstall'),\n",
       "   (18, 1421560148, 38.402534, -121.37767, 10, 5, 21, u'uninstall'),\n",
       "   (76, 1421560149, 38.402534, -121.37767, 10, 5, 21, u'uninstall')]),\n",
       " (1, [], [(10, 1421228526, 37.353397, -121.944977, 8, 2, 1, u'install')], []),\n",
       " (9, [], [(15, 1421376934, 36.554031, -87.287392, 9, 3, 20, u'install')], []),\n",
       " (10,\n",
       "  [],\n",
       "  [(61, 1420997251, 42.344044, -71.098061, 0, 6, 12, u'install'),\n",
       "   (91, 1421167646, 42.344044, -71.098015, 0, 1, 11, u'install'),\n",
       "   (26, 1421272967, 42.344067, -71.097969, 0, 2, 17, u'install'),\n",
       "   (89, 1421561927, 42.344055, -71.097977, 0, 6, 1, u'install'),\n",
       "   (5, 1421561951, 42.344055, -71.097977, 0, 6, 1, u'install'),\n",
       "   (55, 1421562101, 42.344036, -71.097984, 0, 6, 1, u'install'),\n",
       "   (64, 1421562141, 42.344036, -71.097984, 0, 6, 1, u'install')],\n",
       "  [(91, 1421261691, 42.344036, -71.098, 0, 2, 13, u'uninstall'),\n",
       "   (24, 1421272676, 42.344063, -71.097984, 0, 2, 16, u'uninstall')]),\n",
       " (2,\n",
       "  [],\n",
       "  [(45, 1421073930, 29.722906, -95.47364, 3, 0, 8, u'install'),\n",
       "   (82, 1421090224, 29.730745, -95.424805, 3, 0, 13, u'install'),\n",
       "   (99, 1421121878, 29.72287, -95.473679, 3, 0, 22, u'install'),\n",
       "   (66, 1421199776, 29.733973, -95.422302, 3, 1, 19, u'install'),\n",
       "   (80, 1421346831, 29.731365, -95.4217, 3, 3, 12, u'install')],\n",
       "  [(11, 1421023901, 29.722927, -95.473671, 3, 6, 18, u'uninstall'),\n",
       "   (84, 1421023916, 29.722927, -95.473671, 3, 6, 18, u'uninstall'),\n",
       "   (99, 1421122123, 29.722872, -95.473679, 3, 0, 22, u'uninstall'),\n",
       "   (82, 1421261599, 29.730778, -95.467712, 3, 2, 12, u'uninstall'),\n",
       "   (66, 1421261626, 29.73156, -95.464775, 3, 2, 12, u'uninstall'),\n",
       "   (58, 1421261639, 29.73156, -95.464775, 3, 2, 12, u'uninstall'),\n",
       "   (70, 1421299373, 29.722862, -95.473679, 3, 2, 23, u'uninstall')]),\n",
       " (11,\n",
       "  [],\n",
       "  [(85, 1421543917, 33.84227, -84.211357, 1, 5, 20, u'install'),\n",
       "   (36, 1421543961, 33.84227, -84.211357, 1, 5, 20, u'install'),\n",
       "   (73, 1421544179, 33.84229, -84.211235, 1, 5, 20, u'install')],\n",
       "  []),\n",
       " (3,\n",
       "  [],\n",
       "  [(6, 1421112365, 29.733828, -95.436478, 3, 0, 19, u'install'),\n",
       "   (9, 1421150094, 29.73278, -95.435844, 3, 1, 5, u'install'),\n",
       "   (16, 1421154653, 29.73278, -95.435844, 3, 1, 7, u'install'),\n",
       "   (49, 1421154681, 29.73278, -95.435844, 3, 1, 7, u'install'),\n",
       "   (101, 1421274869, 29.734446, -95.435928, 3, 2, 16, u'install'),\n",
       "   (2, 1421379627, 29.671509, -95.332939, 3, 3, 21, u'install'),\n",
       "   (6, 1421386383, 29.671509, -95.332939, 3, 3, 23, u'install')],\n",
       "  [(25, 1421081933, 29.733828, -95.436478, 3, 0, 10, u'uninstall'),\n",
       "   (4, 1421081941, 29.733828, -95.436478, 3, 0, 10, u'uninstall'),\n",
       "   (9, 1421150164, 29.73278, -95.435844, 3, 1, 5, u'uninstall'),\n",
       "   (2, 1421379737, 29.671509, -95.332939, 3, 3, 21, u'uninstall'),\n",
       "   (6, 1421384414, 29.671509, -95.332939, 3, 3, 23, u'uninstall'),\n",
       "   (75, 1421384420, 29.671509, -95.332939, 3, 3, 23, u'uninstall')]),\n",
       " (12, [], [(50, 1421511866, 37.729671, -120.953758, 7, 5, 8, u'install')], []),\n",
       " (4,\n",
       "  [],\n",
       "  [(102, 1421231538, 29.853319, -95.726196, 4, 2, 4, u'install')],\n",
       "  [(102, 1421233962, 29.853401, -95.726242, 4, 2, 5, u'uninstall')]),\n",
       " (5,\n",
       "  [],\n",
       "  [(87, 1421038065, 40.894566, -74.122978, 0, 6, 23, u'install'),\n",
       "   (88, 1421038113, 40.894566, -74.122978, 0, 6, 23, u'install'),\n",
       "   (3, 1421441897, 40.816166, -74.045105, 0, 4, 15, u'install'),\n",
       "   (53, 1421498719, 40.89468, -74.1231, 0, 5, 7, u'install')],\n",
       "  [(3, 1421441968, 40.768196, -74.027527, 0, 4, 15, u'uninstall')]),\n",
       " (13,\n",
       "  [],\n",
       "  [(74, 1420972403, 44.087959, -87.673485, 5, 6, 4, u'install'),\n",
       "   (19, 1420972468, 44.08802, -87.673508, 5, 6, 4, u'install'),\n",
       "   (39, 1421071734, 44.087917, -87.673302, 5, 0, 8, u'install'),\n",
       "   (27, 1421074563, 44.087994, -87.673454, 5, 0, 8, u'install'),\n",
       "   (90, 1421074643, 44.087975, -87.673454, 5, 0, 8, u'install'),\n",
       "   (32, 1421074660, 44.088017, -87.673439, 5, 0, 8, u'install'),\n",
       "   (8, 1421283319, 44.087986, -87.673416, 5, 2, 18, u'install'),\n",
       "   (83, 1421283392, 44.08799, -87.673439, 5, 2, 18, u'install'),\n",
       "   (52, 1421283723, 44.087997, -87.673454, 5, 2, 19, u'install'),\n",
       "   (40, 1421283740, 44.087997, -87.673454, 5, 2, 19, u'install'),\n",
       "   (14, 1421351129, 44.087997, -87.6735, 5, 3, 13, u'install'),\n",
       "   (63, 1421351223, 44.087963, -87.673485, 5, 3, 13, u'install'),\n",
       "   (86, 1421351337, 44.088005, -87.67347, 5, 3, 13, u'install'),\n",
       "   (35, 1421356593, 44.088005, -87.673485, 5, 3, 15, u'install'),\n",
       "   (37, 1421369152, 44.087971, -87.673477, 5, 3, 18, u'install'),\n",
       "   (92, 1421369448, 44.08799, -87.673576, 5, 3, 18, u'install'),\n",
       "   (41, 1421369564, 44.087925, -87.673271, 5, 3, 18, u'install'),\n",
       "   (71, 1421369730, 44.088005, -87.673515, 5, 3, 18, u'install'),\n",
       "   (67, 1421371025, 44.087978, -87.673576, 5, 3, 19, u'install'),\n",
       "   (77, 1421377054, 44.088051, -87.673721, 5, 3, 20, u'install'),\n",
       "   (31, 1421377117, 44.087978, -87.673737, 5, 3, 20, u'install'),\n",
       "   (43, 1421447189, 44.088051, -87.673576, 5, 4, 16, u'install'),\n",
       "   (48, 1421448363, 44.087986, -87.673424, 5, 4, 16, u'install'),\n",
       "   (44, 1421551611, 44.088001, -87.6735, 5, 5, 21, u'install'),\n",
       "   (22, 1421551746, 44.088051, -87.673576, 5, 5, 21, u'install'),\n",
       "   (68, 1421556976, 44.088032, -87.673569, 5, 5, 22, u'install')],\n",
       "  [(72, 1421284061, 44.088013, -87.673485, 5, 2, 19, u'uninstall'),\n",
       "   (23, 1421284079, 44.088013, -87.673485, 5, 2, 19, u'uninstall'),\n",
       "   (17, 1421284083, 44.088013, -87.673485, 5, 2, 19, u'uninstall'),\n",
       "   (63, 1421356343, 44.088062, -87.673569, 5, 3, 15, u'uninstall'),\n",
       "   (92, 1421369504, 44.087955, -87.673477, 5, 3, 18, u'uninstall'),\n",
       "   (41, 1421369628, 44.087978, -87.673477, 5, 3, 18, u'uninstall'),\n",
       "   (86, 1421447756, 44.087971, -87.673462, 5, 4, 16, u'uninstall'),\n",
       "   (37, 1421447771, 44.087975, -87.673447, 5, 4, 16, u'uninstall'),\n",
       "   (83, 1421447775, 44.087975, -87.673447, 5, 4, 16, u'uninstall'),\n",
       "   (69, 1421447795, 44.087975, -87.673447, 5, 4, 16, u'uninstall'),\n",
       "   (14, 1421447809, 44.087975, -87.673447, 5, 4, 16, u'uninstall'),\n",
       "   (21, 1421447817, 44.087975, -87.673447, 5, 4, 16, u'uninstall'),\n",
       "   (31, 1421447843, 44.087975, -87.673447, 5, 4, 16, u'uninstall'),\n",
       "   (34, 1421447862, 44.087975, -87.673447, 5, 4, 16, u'uninstall'),\n",
       "   (59, 1421447870, 44.087975, -87.673447, 5, 4, 16, u'uninstall'),\n",
       "   (56, 1421447881, 44.087975, -87.673447, 5, 4, 16, u'uninstall'),\n",
       "   (48, 1421514827, 44.087971, -87.673531, 5, 5, 11, u'uninstall')]),\n",
       " (6, [], [(12, 1420715459, 40.61467, -75.478882, 2, 3, 6, u'install')], []),\n",
       " (7,\n",
       "  [],\n",
       "  [],\n",
       "  [(46, 1421027841, 36.052818, -95.951889, 11, 6, 19, u'uninstall')])]"
      ]
     },
     "execution_count": 6,
     "metadata": {},
     "output_type": "execute_result"
    }
   ],
   "source": [
    "def splitRddMerged(line):\n",
    "    open_events = [el for el in line[1] if el[7] == \"App_Opened\"]\n",
    "    install_events = [el for el in line[1] if el[7] == \"install\"]\n",
    "    uninstall_events = [el for el in line[1] if el[7] == \"uninstall\"]\n",
    "    return line[0],open_events, install_events, uninstall_events\n",
    "splited = eventRDD2.map(splitRddMerged)\n",
    "splited.collect()"
   ]
  },
  {
   "cell_type": "code",
   "execution_count": null,
   "metadata": {
    "collapsed": true
   },
   "outputs": [],
   "source": []
  },
  {
   "cell_type": "code",
   "execution_count": 4,
   "metadata": {
    "collapsed": false
   },
   "outputs": [],
   "source": [
    "outp = open(eventsPath + \"/outputstat.txt\",\"a\")\n",
    "import datetime\n",
    "import time\n",
    "outp.write(\"--------------------------------------------------------\\n\") #separator\n",
    "outp.write(datetime.datetime.fromtimestamp(time.time()).strftime('%Y-%m-%d %H:%M:%S'))\n",
    "outp.write(\"\\n\")\n",
    "numberofusers = splited.count()\n",
    "outp.write(\"Number of users : \" + str(numberofusers) + \"\\n\")\n",
    "install = eventsConvertedRdd.filter(lambda x : x[8]==\"install\").count()\n",
    "uninstall = eventsConvertedRdd.filter(lambda x : x[8]==\"uninstall\").count()\n",
    "app_open = eventsConvertedRdd.filter(lambda x : x[8]==\"App_Opened\").count()\n",
    "outp.write(\"Number of events(install, uninstall, open, all) : \" \n",
    "           + str((install, uninstall, app_open, install + uninstall + app_open)) + \"\\n\")\n",
    "outp.write(\"Average number of events per user(install, uninstall, open, all) : \" \n",
    "           + str((install/float(numberofusers), uninstall/float(numberofusers), \n",
    "                  app_open/float(numberofusers), \n",
    "                  (install + uninstall + app_open)/float(numberofusers))) + \"\\n\")\n",
    "outp.close()"
   ]
  },
  {
   "cell_type": "code",
   "execution_count": 19,
   "metadata": {
    "collapsed": false
   },
   "outputs": [
    {
     "data": {
      "text/plain": [
       "200"
      ]
     },
     "execution_count": 19,
     "metadata": {},
     "output_type": "execute_result"
    }
   ],
   "source": []
  },
  {
   "cell_type": "code",
   "execution_count": null,
   "metadata": {
    "collapsed": true
   },
   "outputs": [],
   "source": []
  }
 ],
 "metadata": {
  "kernelspec": {
   "display_name": "Python 2",
   "language": "python",
   "name": "python2"
  },
  "language_info": {
   "codemirror_mode": {
    "name": "ipython",
    "version": 2
   },
   "file_extension": ".py",
   "mimetype": "text/x-python",
   "name": "python",
   "nbconvert_exporter": "python",
   "pygments_lexer": "ipython2",
   "version": "2.7.10"
  }
 },
 "nbformat": 4,
 "nbformat_minor": 0
}
