{
 "cells": [
  {
   "cell_type": "code",
   "execution_count": 2,
   "metadata": {
    "collapsed": false
   },
   "outputs": [
    {
     "ename": "Py4JJavaError",
     "evalue": "An error occurred while calling z:org.apache.spark.api.python.PythonRDD.runJob.\n: org.apache.spark.SparkException: Job aborted due to stage failure: Task 0 in stage 0.0 failed 1 times, most recent failure: Lost task 0.0 in stage 0.0 (TID 0, localhost): org.apache.spark.api.python.PythonException: Traceback (most recent call last):\n  File \"/home/mert/code/spark-1.6.0-bin-hadoop2.6/python/lib/pyspark.zip/pyspark/worker.py\", line 111, in main\n    process()\n  File \"/home/mert/code/spark-1.6.0-bin-hadoop2.6/python/lib/pyspark.zip/pyspark/worker.py\", line 106, in process\n    serializer.dump_stream(func(split_index, iterator), outfile)\n  File \"/home/mert/code/spark-1.6.0-bin-hadoop2.6/python/lib/pyspark.zip/pyspark/serializers.py\", line 263, in dump_stream\n    vs = list(itertools.islice(iterator, batch))\n  File \"/home/mert/code/spark-1.6.0-bin-hadoop2.6/python/pyspark/rdd.py\", line 1293, in takeUpToNumLeft\n    yield next(iterator)\n  File \"<ipython-input-2-d642d8d7531e>\", line 27, in <lambda>\nNameError: global name 'userIdConversionDictionary' is not defined\n\n\tat org.apache.spark.api.python.PythonRunner$$anon$1.read(PythonRDD.scala:166)\n\tat org.apache.spark.api.python.PythonRunner$$anon$1.<init>(PythonRDD.scala:207)\n\tat org.apache.spark.api.python.PythonRunner.compute(PythonRDD.scala:125)\n\tat org.apache.spark.api.python.PythonRDD.compute(PythonRDD.scala:70)\n\tat org.apache.spark.rdd.RDD.computeOrReadCheckpoint(RDD.scala:306)\n\tat org.apache.spark.rdd.RDD.iterator(RDD.scala:270)\n\tat org.apache.spark.scheduler.ResultTask.runTask(ResultTask.scala:66)\n\tat org.apache.spark.scheduler.Task.run(Task.scala:89)\n\tat org.apache.spark.executor.Executor$TaskRunner.run(Executor.scala:213)\n\tat java.util.concurrent.ThreadPoolExecutor.runWorker(ThreadPoolExecutor.java:1142)\n\tat java.util.concurrent.ThreadPoolExecutor$Worker.run(ThreadPoolExecutor.java:617)\n\tat java.lang.Thread.run(Thread.java:745)\n\nDriver stacktrace:\n\tat org.apache.spark.scheduler.DAGScheduler.org$apache$spark$scheduler$DAGScheduler$$failJobAndIndependentStages(DAGScheduler.scala:1431)\n\tat org.apache.spark.scheduler.DAGScheduler$$anonfun$abortStage$1.apply(DAGScheduler.scala:1419)\n\tat org.apache.spark.scheduler.DAGScheduler$$anonfun$abortStage$1.apply(DAGScheduler.scala:1418)\n\tat scala.collection.mutable.ResizableArray$class.foreach(ResizableArray.scala:59)\n\tat scala.collection.mutable.ArrayBuffer.foreach(ArrayBuffer.scala:47)\n\tat org.apache.spark.scheduler.DAGScheduler.abortStage(DAGScheduler.scala:1418)\n\tat org.apache.spark.scheduler.DAGScheduler$$anonfun$handleTaskSetFailed$1.apply(DAGScheduler.scala:799)\n\tat org.apache.spark.scheduler.DAGScheduler$$anonfun$handleTaskSetFailed$1.apply(DAGScheduler.scala:799)\n\tat scala.Option.foreach(Option.scala:236)\n\tat org.apache.spark.scheduler.DAGScheduler.handleTaskSetFailed(DAGScheduler.scala:799)\n\tat org.apache.spark.scheduler.DAGSchedulerEventProcessLoop.doOnReceive(DAGScheduler.scala:1640)\n\tat org.apache.spark.scheduler.DAGSchedulerEventProcessLoop.onReceive(DAGScheduler.scala:1599)\n\tat org.apache.spark.scheduler.DAGSchedulerEventProcessLoop.onReceive(DAGScheduler.scala:1588)\n\tat org.apache.spark.util.EventLoop$$anon$1.run(EventLoop.scala:48)\n\tat org.apache.spark.scheduler.DAGScheduler.runJob(DAGScheduler.scala:620)\n\tat org.apache.spark.SparkContext.runJob(SparkContext.scala:1832)\n\tat org.apache.spark.SparkContext.runJob(SparkContext.scala:1845)\n\tat org.apache.spark.SparkContext.runJob(SparkContext.scala:1858)\n\tat org.apache.spark.api.python.PythonRDD$.runJob(PythonRDD.scala:393)\n\tat org.apache.spark.api.python.PythonRDD.runJob(PythonRDD.scala)\n\tat sun.reflect.NativeMethodAccessorImpl.invoke0(Native Method)\n\tat sun.reflect.NativeMethodAccessorImpl.invoke(NativeMethodAccessorImpl.java:62)\n\tat sun.reflect.DelegatingMethodAccessorImpl.invoke(DelegatingMethodAccessorImpl.java:43)\n\tat java.lang.reflect.Method.invoke(Method.java:498)\n\tat py4j.reflection.MethodInvoker.invoke(MethodInvoker.java:231)\n\tat py4j.reflection.ReflectionEngine.invoke(ReflectionEngine.java:381)\n\tat py4j.Gateway.invoke(Gateway.java:259)\n\tat py4j.commands.AbstractCommand.invokeMethod(AbstractCommand.java:133)\n\tat py4j.commands.CallCommand.execute(CallCommand.java:79)\n\tat py4j.GatewayConnection.run(GatewayConnection.java:209)\n\tat java.lang.Thread.run(Thread.java:745)\nCaused by: org.apache.spark.api.python.PythonException: Traceback (most recent call last):\n  File \"/home/mert/code/spark-1.6.0-bin-hadoop2.6/python/lib/pyspark.zip/pyspark/worker.py\", line 111, in main\n    process()\n  File \"/home/mert/code/spark-1.6.0-bin-hadoop2.6/python/lib/pyspark.zip/pyspark/worker.py\", line 106, in process\n    serializer.dump_stream(func(split_index, iterator), outfile)\n  File \"/home/mert/code/spark-1.6.0-bin-hadoop2.6/python/lib/pyspark.zip/pyspark/serializers.py\", line 263, in dump_stream\n    vs = list(itertools.islice(iterator, batch))\n  File \"/home/mert/code/spark-1.6.0-bin-hadoop2.6/python/pyspark/rdd.py\", line 1293, in takeUpToNumLeft\n    yield next(iterator)\n  File \"<ipython-input-2-d642d8d7531e>\", line 27, in <lambda>\nNameError: global name 'userIdConversionDictionary' is not defined\n\n\tat org.apache.spark.api.python.PythonRunner$$anon$1.read(PythonRDD.scala:166)\n\tat org.apache.spark.api.python.PythonRunner$$anon$1.<init>(PythonRDD.scala:207)\n\tat org.apache.spark.api.python.PythonRunner.compute(PythonRDD.scala:125)\n\tat org.apache.spark.api.python.PythonRDD.compute(PythonRDD.scala:70)\n\tat org.apache.spark.rdd.RDD.computeOrReadCheckpoint(RDD.scala:306)\n\tat org.apache.spark.rdd.RDD.iterator(RDD.scala:270)\n\tat org.apache.spark.scheduler.ResultTask.runTask(ResultTask.scala:66)\n\tat org.apache.spark.scheduler.Task.run(Task.scala:89)\n\tat org.apache.spark.executor.Executor$TaskRunner.run(Executor.scala:213)\n\tat java.util.concurrent.ThreadPoolExecutor.runWorker(ThreadPoolExecutor.java:1142)\n\tat java.util.concurrent.ThreadPoolExecutor$Worker.run(ThreadPoolExecutor.java:617)\n\t... 1 more\n",
     "output_type": "error",
     "traceback": [
      "\u001b[1;31m---------------------------------------------------------------------------\u001b[0m",
      "\u001b[1;31mPy4JJavaError\u001b[0m                             Traceback (most recent call last)",
      "\u001b[1;32m<ipython-input-2-d642d8d7531e>\u001b[0m in \u001b[0;36m<module>\u001b[1;34m()\u001b[0m\n\u001b[0;32m     36\u001b[0m     ))\n\u001b[0;32m     37\u001b[0m \u001b[1;33m\u001b[0m\u001b[0m\n\u001b[1;32m---> 38\u001b[1;33m \u001b[0meventsConvertedRdd\u001b[0m\u001b[1;33m.\u001b[0m\u001b[0mtake\u001b[0m\u001b[1;33m(\u001b[0m\u001b[1;36m3\u001b[0m\u001b[1;33m)\u001b[0m\u001b[1;33m\u001b[0m\u001b[0m\n\u001b[0m",
      "\u001b[1;32m/home/mert/code/spark-1.6.0-bin-hadoop2.6/python/pyspark/rdd.pyc\u001b[0m in \u001b[0;36mtake\u001b[1;34m(self, num)\u001b[0m\n\u001b[0;32m   1295\u001b[0m \u001b[1;33m\u001b[0m\u001b[0m\n\u001b[0;32m   1296\u001b[0m             \u001b[0mp\u001b[0m \u001b[1;33m=\u001b[0m \u001b[0mrange\u001b[0m\u001b[1;33m(\u001b[0m\u001b[0mpartsScanned\u001b[0m\u001b[1;33m,\u001b[0m \u001b[0mmin\u001b[0m\u001b[1;33m(\u001b[0m\u001b[0mpartsScanned\u001b[0m \u001b[1;33m+\u001b[0m \u001b[0mnumPartsToTry\u001b[0m\u001b[1;33m,\u001b[0m \u001b[0mtotalParts\u001b[0m\u001b[1;33m)\u001b[0m\u001b[1;33m)\u001b[0m\u001b[1;33m\u001b[0m\u001b[0m\n\u001b[1;32m-> 1297\u001b[1;33m             \u001b[0mres\u001b[0m \u001b[1;33m=\u001b[0m \u001b[0mself\u001b[0m\u001b[1;33m.\u001b[0m\u001b[0mcontext\u001b[0m\u001b[1;33m.\u001b[0m\u001b[0mrunJob\u001b[0m\u001b[1;33m(\u001b[0m\u001b[0mself\u001b[0m\u001b[1;33m,\u001b[0m \u001b[0mtakeUpToNumLeft\u001b[0m\u001b[1;33m,\u001b[0m \u001b[0mp\u001b[0m\u001b[1;33m)\u001b[0m\u001b[1;33m\u001b[0m\u001b[0m\n\u001b[0m\u001b[0;32m   1298\u001b[0m \u001b[1;33m\u001b[0m\u001b[0m\n\u001b[0;32m   1299\u001b[0m             \u001b[0mitems\u001b[0m \u001b[1;33m+=\u001b[0m \u001b[0mres\u001b[0m\u001b[1;33m\u001b[0m\u001b[0m\n",
      "\u001b[1;32m/home/mert/code/spark-1.6.0-bin-hadoop2.6/python/pyspark/context.pyc\u001b[0m in \u001b[0;36mrunJob\u001b[1;34m(self, rdd, partitionFunc, partitions, allowLocal)\u001b[0m\n\u001b[0;32m    937\u001b[0m         \u001b[1;31m# SparkContext#runJob.\u001b[0m\u001b[1;33m\u001b[0m\u001b[1;33m\u001b[0m\u001b[0m\n\u001b[0;32m    938\u001b[0m         \u001b[0mmappedRDD\u001b[0m \u001b[1;33m=\u001b[0m \u001b[0mrdd\u001b[0m\u001b[1;33m.\u001b[0m\u001b[0mmapPartitions\u001b[0m\u001b[1;33m(\u001b[0m\u001b[0mpartitionFunc\u001b[0m\u001b[1;33m)\u001b[0m\u001b[1;33m\u001b[0m\u001b[0m\n\u001b[1;32m--> 939\u001b[1;33m         \u001b[0mport\u001b[0m \u001b[1;33m=\u001b[0m \u001b[0mself\u001b[0m\u001b[1;33m.\u001b[0m\u001b[0m_jvm\u001b[0m\u001b[1;33m.\u001b[0m\u001b[0mPythonRDD\u001b[0m\u001b[1;33m.\u001b[0m\u001b[0mrunJob\u001b[0m\u001b[1;33m(\u001b[0m\u001b[0mself\u001b[0m\u001b[1;33m.\u001b[0m\u001b[0m_jsc\u001b[0m\u001b[1;33m.\u001b[0m\u001b[0msc\u001b[0m\u001b[1;33m(\u001b[0m\u001b[1;33m)\u001b[0m\u001b[1;33m,\u001b[0m \u001b[0mmappedRDD\u001b[0m\u001b[1;33m.\u001b[0m\u001b[0m_jrdd\u001b[0m\u001b[1;33m,\u001b[0m \u001b[0mpartitions\u001b[0m\u001b[1;33m)\u001b[0m\u001b[1;33m\u001b[0m\u001b[0m\n\u001b[0m\u001b[0;32m    940\u001b[0m         \u001b[1;32mreturn\u001b[0m \u001b[0mlist\u001b[0m\u001b[1;33m(\u001b[0m\u001b[0m_load_from_socket\u001b[0m\u001b[1;33m(\u001b[0m\u001b[0mport\u001b[0m\u001b[1;33m,\u001b[0m \u001b[0mmappedRDD\u001b[0m\u001b[1;33m.\u001b[0m\u001b[0m_jrdd_deserializer\u001b[0m\u001b[1;33m)\u001b[0m\u001b[1;33m)\u001b[0m\u001b[1;33m\u001b[0m\u001b[0m\n\u001b[0;32m    941\u001b[0m \u001b[1;33m\u001b[0m\u001b[0m\n",
      "\u001b[1;32m/home/mert/code/spark-1.6.0-bin-hadoop2.6/python/lib/py4j-0.9-src.zip/py4j/java_gateway.py\u001b[0m in \u001b[0;36m__call__\u001b[1;34m(self, *args)\u001b[0m\n\u001b[0;32m    811\u001b[0m         \u001b[0manswer\u001b[0m \u001b[1;33m=\u001b[0m \u001b[0mself\u001b[0m\u001b[1;33m.\u001b[0m\u001b[0mgateway_client\u001b[0m\u001b[1;33m.\u001b[0m\u001b[0msend_command\u001b[0m\u001b[1;33m(\u001b[0m\u001b[0mcommand\u001b[0m\u001b[1;33m)\u001b[0m\u001b[1;33m\u001b[0m\u001b[0m\n\u001b[0;32m    812\u001b[0m         return_value = get_return_value(\n\u001b[1;32m--> 813\u001b[1;33m             answer, self.gateway_client, self.target_id, self.name)\n\u001b[0m\u001b[0;32m    814\u001b[0m \u001b[1;33m\u001b[0m\u001b[0m\n\u001b[0;32m    815\u001b[0m         \u001b[1;32mfor\u001b[0m \u001b[0mtemp_arg\u001b[0m \u001b[1;32min\u001b[0m \u001b[0mtemp_args\u001b[0m\u001b[1;33m:\u001b[0m\u001b[1;33m\u001b[0m\u001b[0m\n",
      "\u001b[1;32m/home/mert/code/spark-1.6.0-bin-hadoop2.6/python/pyspark/sql/utils.pyc\u001b[0m in \u001b[0;36mdeco\u001b[1;34m(*a, **kw)\u001b[0m\n\u001b[0;32m     43\u001b[0m     \u001b[1;32mdef\u001b[0m \u001b[0mdeco\u001b[0m\u001b[1;33m(\u001b[0m\u001b[1;33m*\u001b[0m\u001b[0ma\u001b[0m\u001b[1;33m,\u001b[0m \u001b[1;33m**\u001b[0m\u001b[0mkw\u001b[0m\u001b[1;33m)\u001b[0m\u001b[1;33m:\u001b[0m\u001b[1;33m\u001b[0m\u001b[0m\n\u001b[0;32m     44\u001b[0m         \u001b[1;32mtry\u001b[0m\u001b[1;33m:\u001b[0m\u001b[1;33m\u001b[0m\u001b[0m\n\u001b[1;32m---> 45\u001b[1;33m             \u001b[1;32mreturn\u001b[0m \u001b[0mf\u001b[0m\u001b[1;33m(\u001b[0m\u001b[1;33m*\u001b[0m\u001b[0ma\u001b[0m\u001b[1;33m,\u001b[0m \u001b[1;33m**\u001b[0m\u001b[0mkw\u001b[0m\u001b[1;33m)\u001b[0m\u001b[1;33m\u001b[0m\u001b[0m\n\u001b[0m\u001b[0;32m     46\u001b[0m         \u001b[1;32mexcept\u001b[0m \u001b[0mpy4j\u001b[0m\u001b[1;33m.\u001b[0m\u001b[0mprotocol\u001b[0m\u001b[1;33m.\u001b[0m\u001b[0mPy4JJavaError\u001b[0m \u001b[1;32mas\u001b[0m \u001b[0me\u001b[0m\u001b[1;33m:\u001b[0m\u001b[1;33m\u001b[0m\u001b[0m\n\u001b[0;32m     47\u001b[0m             \u001b[0ms\u001b[0m \u001b[1;33m=\u001b[0m \u001b[0me\u001b[0m\u001b[1;33m.\u001b[0m\u001b[0mjava_exception\u001b[0m\u001b[1;33m.\u001b[0m\u001b[0mtoString\u001b[0m\u001b[1;33m(\u001b[0m\u001b[1;33m)\u001b[0m\u001b[1;33m\u001b[0m\u001b[0m\n",
      "\u001b[1;32m/home/mert/code/spark-1.6.0-bin-hadoop2.6/python/lib/py4j-0.9-src.zip/py4j/protocol.py\u001b[0m in \u001b[0;36mget_return_value\u001b[1;34m(answer, gateway_client, target_id, name)\u001b[0m\n\u001b[0;32m    306\u001b[0m                 raise Py4JJavaError(\n\u001b[0;32m    307\u001b[0m                     \u001b[1;34m\"An error occurred while calling {0}{1}{2}.\\n\"\u001b[0m\u001b[1;33m.\u001b[0m\u001b[1;33m\u001b[0m\u001b[0m\n\u001b[1;32m--> 308\u001b[1;33m                     format(target_id, \".\", name), value)\n\u001b[0m\u001b[0;32m    309\u001b[0m             \u001b[1;32melse\u001b[0m\u001b[1;33m:\u001b[0m\u001b[1;33m\u001b[0m\u001b[0m\n\u001b[0;32m    310\u001b[0m                 raise Py4JError(\n",
      "\u001b[1;31mPy4JJavaError\u001b[0m: An error occurred while calling z:org.apache.spark.api.python.PythonRDD.runJob.\n: org.apache.spark.SparkException: Job aborted due to stage failure: Task 0 in stage 0.0 failed 1 times, most recent failure: Lost task 0.0 in stage 0.0 (TID 0, localhost): org.apache.spark.api.python.PythonException: Traceback (most recent call last):\n  File \"/home/mert/code/spark-1.6.0-bin-hadoop2.6/python/lib/pyspark.zip/pyspark/worker.py\", line 111, in main\n    process()\n  File \"/home/mert/code/spark-1.6.0-bin-hadoop2.6/python/lib/pyspark.zip/pyspark/worker.py\", line 106, in process\n    serializer.dump_stream(func(split_index, iterator), outfile)\n  File \"/home/mert/code/spark-1.6.0-bin-hadoop2.6/python/lib/pyspark.zip/pyspark/serializers.py\", line 263, in dump_stream\n    vs = list(itertools.islice(iterator, batch))\n  File \"/home/mert/code/spark-1.6.0-bin-hadoop2.6/python/pyspark/rdd.py\", line 1293, in takeUpToNumLeft\n    yield next(iterator)\n  File \"<ipython-input-2-d642d8d7531e>\", line 27, in <lambda>\nNameError: global name 'userIdConversionDictionary' is not defined\n\n\tat org.apache.spark.api.python.PythonRunner$$anon$1.read(PythonRDD.scala:166)\n\tat org.apache.spark.api.python.PythonRunner$$anon$1.<init>(PythonRDD.scala:207)\n\tat org.apache.spark.api.python.PythonRunner.compute(PythonRDD.scala:125)\n\tat org.apache.spark.api.python.PythonRDD.compute(PythonRDD.scala:70)\n\tat org.apache.spark.rdd.RDD.computeOrReadCheckpoint(RDD.scala:306)\n\tat org.apache.spark.rdd.RDD.iterator(RDD.scala:270)\n\tat org.apache.spark.scheduler.ResultTask.runTask(ResultTask.scala:66)\n\tat org.apache.spark.scheduler.Task.run(Task.scala:89)\n\tat org.apache.spark.executor.Executor$TaskRunner.run(Executor.scala:213)\n\tat java.util.concurrent.ThreadPoolExecutor.runWorker(ThreadPoolExecutor.java:1142)\n\tat java.util.concurrent.ThreadPoolExecutor$Worker.run(ThreadPoolExecutor.java:617)\n\tat java.lang.Thread.run(Thread.java:745)\n\nDriver stacktrace:\n\tat org.apache.spark.scheduler.DAGScheduler.org$apache$spark$scheduler$DAGScheduler$$failJobAndIndependentStages(DAGScheduler.scala:1431)\n\tat org.apache.spark.scheduler.DAGScheduler$$anonfun$abortStage$1.apply(DAGScheduler.scala:1419)\n\tat org.apache.spark.scheduler.DAGScheduler$$anonfun$abortStage$1.apply(DAGScheduler.scala:1418)\n\tat scala.collection.mutable.ResizableArray$class.foreach(ResizableArray.scala:59)\n\tat scala.collection.mutable.ArrayBuffer.foreach(ArrayBuffer.scala:47)\n\tat org.apache.spark.scheduler.DAGScheduler.abortStage(DAGScheduler.scala:1418)\n\tat org.apache.spark.scheduler.DAGScheduler$$anonfun$handleTaskSetFailed$1.apply(DAGScheduler.scala:799)\n\tat org.apache.spark.scheduler.DAGScheduler$$anonfun$handleTaskSetFailed$1.apply(DAGScheduler.scala:799)\n\tat scala.Option.foreach(Option.scala:236)\n\tat org.apache.spark.scheduler.DAGScheduler.handleTaskSetFailed(DAGScheduler.scala:799)\n\tat org.apache.spark.scheduler.DAGSchedulerEventProcessLoop.doOnReceive(DAGScheduler.scala:1640)\n\tat org.apache.spark.scheduler.DAGSchedulerEventProcessLoop.onReceive(DAGScheduler.scala:1599)\n\tat org.apache.spark.scheduler.DAGSchedulerEventProcessLoop.onReceive(DAGScheduler.scala:1588)\n\tat org.apache.spark.util.EventLoop$$anon$1.run(EventLoop.scala:48)\n\tat org.apache.spark.scheduler.DAGScheduler.runJob(DAGScheduler.scala:620)\n\tat org.apache.spark.SparkContext.runJob(SparkContext.scala:1832)\n\tat org.apache.spark.SparkContext.runJob(SparkContext.scala:1845)\n\tat org.apache.spark.SparkContext.runJob(SparkContext.scala:1858)\n\tat org.apache.spark.api.python.PythonRDD$.runJob(PythonRDD.scala:393)\n\tat org.apache.spark.api.python.PythonRDD.runJob(PythonRDD.scala)\n\tat sun.reflect.NativeMethodAccessorImpl.invoke0(Native Method)\n\tat sun.reflect.NativeMethodAccessorImpl.invoke(NativeMethodAccessorImpl.java:62)\n\tat sun.reflect.DelegatingMethodAccessorImpl.invoke(DelegatingMethodAccessorImpl.java:43)\n\tat java.lang.reflect.Method.invoke(Method.java:498)\n\tat py4j.reflection.MethodInvoker.invoke(MethodInvoker.java:231)\n\tat py4j.reflection.ReflectionEngine.invoke(ReflectionEngine.java:381)\n\tat py4j.Gateway.invoke(Gateway.java:259)\n\tat py4j.commands.AbstractCommand.invokeMethod(AbstractCommand.java:133)\n\tat py4j.commands.CallCommand.execute(CallCommand.java:79)\n\tat py4j.GatewayConnection.run(GatewayConnection.java:209)\n\tat java.lang.Thread.run(Thread.java:745)\nCaused by: org.apache.spark.api.python.PythonException: Traceback (most recent call last):\n  File \"/home/mert/code/spark-1.6.0-bin-hadoop2.6/python/lib/pyspark.zip/pyspark/worker.py\", line 111, in main\n    process()\n  File \"/home/mert/code/spark-1.6.0-bin-hadoop2.6/python/lib/pyspark.zip/pyspark/worker.py\", line 106, in process\n    serializer.dump_stream(func(split_index, iterator), outfile)\n  File \"/home/mert/code/spark-1.6.0-bin-hadoop2.6/python/lib/pyspark.zip/pyspark/serializers.py\", line 263, in dump_stream\n    vs = list(itertools.islice(iterator, batch))\n  File \"/home/mert/code/spark-1.6.0-bin-hadoop2.6/python/pyspark/rdd.py\", line 1293, in takeUpToNumLeft\n    yield next(iterator)\n  File \"<ipython-input-2-d642d8d7531e>\", line 27, in <lambda>\nNameError: global name 'userIdConversionDictionary' is not defined\n\n\tat org.apache.spark.api.python.PythonRunner$$anon$1.read(PythonRDD.scala:166)\n\tat org.apache.spark.api.python.PythonRunner$$anon$1.<init>(PythonRDD.scala:207)\n\tat org.apache.spark.api.python.PythonRunner.compute(PythonRDD.scala:125)\n\tat org.apache.spark.api.python.PythonRDD.compute(PythonRDD.scala:70)\n\tat org.apache.spark.rdd.RDD.computeOrReadCheckpoint(RDD.scala:306)\n\tat org.apache.spark.rdd.RDD.iterator(RDD.scala:270)\n\tat org.apache.spark.scheduler.ResultTask.runTask(ResultTask.scala:66)\n\tat org.apache.spark.scheduler.Task.run(Task.scala:89)\n\tat org.apache.spark.executor.Executor$TaskRunner.run(Executor.scala:213)\n\tat java.util.concurrent.ThreadPoolExecutor.runWorker(ThreadPoolExecutor.java:1142)\n\tat java.util.concurrent.ThreadPoolExecutor$Worker.run(ThreadPoolExecutor.java:617)\n\t... 1 more\n"
     ]
    }
   ],
   "source": [
    "eventsPath = os.environ[\"YAHOO_DATA\"]\n",
    "rawEventsRdd = sc.textFile(eventsPath + \"events.txt\")\n",
    "rawInstallsRdd = sc.textFile(eventsPath + \"installs.txt\")\n",
    "rawMergedRdd = rawEventsRdd.union(rawInstallsRdd)\n",
    "def parseRawData(line):\n",
    "    lineSplit = line.split(\"\\t\")\n",
    "    return (lineSplit[0], #userid\n",
    "              lineSplit[1], #itemid\n",
    "              int(lineSplit[2]), #ts\n",
    "              float(lineSplit[3]), #lat\n",
    "              float(lineSplit[4]), #lon\n",
    "              lineSplit[5], #city\n",
    "              int(lineSplit[6]), #day_of_week\n",
    "              int(lineSplit[7]), #time_of_day\n",
    "              lineSplit[-1]) #event_type\n",
    "    \n",
    "\n",
    "eventsRdd = rawMergedRdd.map(parseRawData).cache()\n",
    "#userIdConversionDictionary = eventsRdd.map(lambda x: x[0]).distinct().zipWithIndex().collectAsMap()\n",
    "#itemIdConversionDictionary = eventsRdd.map(lambda x: x[1]).distinct().zipWithIndex().collectAsMap()\n",
    "#cityConversionDictionary = eventsRdd.map(lambda x: x[5]).distinct().zipWithIndex().collectAsMap()\n",
    "#USE the same id map always\n",
    "import json\n",
    "#userIdConversionDictionary = json.load(open(eventsPath  + \"userIdConversionDictionaryMerged.txt\"))\n",
    "itemIdConversionDictionary = json.load(open(eventsPath  + \"itemIdConversionDictionaryMerged.txt\"))\n",
    "#cityConversionDictionary = json.load(open(eventsPath  + \"cityConversionDictionaryMerged.txt\"))\n",
    "eventsConvertedRdd = eventsRdd.map(lambda x: (userIdConversionDictionary[x[0]],\n",
    "    itemIdConversionDictionary[x[1]],\n",
    "    x[2],\n",
    "    x[3],\n",
    "    x[4],\n",
    "    cityConversionDictionary[x[5]],\n",
    "    x[6],\n",
    "    x[7],\n",
    "    x[8]\n",
    "    ))\n",
    "\n",
    "eventsConvertedRdd.take(3)"
   ]
  },
  {
   "cell_type": "code",
   "execution_count": 3,
   "metadata": {
    "collapsed": false
   },
   "outputs": [
    {
     "data": {
      "text/plain": [
       "(110185157, 785965)"
      ]
     },
     "execution_count": 3,
     "metadata": {},
     "output_type": "execute_result"
    }
   ],
   "source": [
    "rawEventsRdd.count(), rawInstallsRdd.count()"
   ]
  },
  {
   "cell_type": "code",
   "execution_count": 4,
   "metadata": {
    "collapsed": false
   },
   "outputs": [
    {
     "data": {
      "text/plain": [
       "u'001e6d8e-cbe7-4374-8c38-f37962a457e9\\tair.com.smashatom.bingo\\t1421009506\\t47.237476\\t-122.530884\\tTacoma\\t6\\t12\\tApp_Opened'"
      ]
     },
     "execution_count": 4,
     "metadata": {},
     "output_type": "execute_result"
    }
   ],
   "source": [
    "rawEventsRdd.first()"
   ]
  },
  {
   "cell_type": "raw",
   "metadata": {},
   "source": [
    "# Graphs on app usage"
   ]
  },
  {
   "cell_type": "markdown",
   "metadata": {},
   "source": [
    "### Location context distribution on App_Open events per item(top N run app)"
   ]
  },
  {
   "cell_type": "code",
   "execution_count": 3,
   "metadata": {
    "collapsed": false
   },
   "outputs": [
    {
     "data": {
      "text/plain": [
       "[(0, (0, 2, 0))]"
      ]
     },
     "execution_count": 3,
     "metadata": {},
     "output_type": "execute_result"
    }
   ],
   "source": [
    "location_context = [(1,0,0), # work\n",
    "                    (0,1,0), # home\n",
    "                    (0,0,1)] # other\n",
    "import os\n",
    "execfile(\"../script/utils.py\")\n",
    "eventsPath = os.environ[\"YAHOO_DATA\"]\n",
    "splitedRdd = sc.textFile(eventsPath + \"/splitedDataMerged\")\n",
    "def reduce_helper((x1,x2,x3),(y1,y2,y3)):\n",
    "    return (x1+y1, x2+y2,x3+y3)\n",
    "openEventwithLocation = splitedRdd.map(parseContextData2Merged).flatMap(\n",
    "    lambda x : [ (y.itemId, location_context[y.context.location -1]) for y in x[1][0]+x[1][1]] ).reduceByKey(reduce_helper)\n",
    "openEventwithLocation.take(1)"
   ]
  },
  {
   "cell_type": "code",
   "execution_count": 5,
   "metadata": {
    "collapsed": false,
    "scrolled": true
   },
   "outputs": [
    {
     "data": {
      "text/plain": [
       "[(30606, (3432356, 3268456, 3010878)),\n",
       " (26351, (2824611, 2475991, 3130106)),\n",
       " (111242, (3053164, 2911541, 1874792)),\n",
       " (72025, (2705267, 2637588, 1844617)),\n",
       " (91506, (1480816, 1349002, 1689121)),\n",
       " (59816, (1323460, 1096638, 1379591)),\n",
       " (6521, (1101906, 1080690, 736734)),\n",
       " (20646, (920031, 818229, 929379)),\n",
       " (50418, (725455, 741596, 1032796)),\n",
       " (71455, (751289, 666344, 782904)),\n",
       " (8200, (857928, 623798, 581381)),\n",
       " (89700, (493480, 564652, 777682)),\n",
       " (99379, (555196, 535728, 705251)),\n",
       " (93947, (613513, 435013, 361465)),\n",
       " (104640, (391838, 403834, 583593)),\n",
       " (65833, (331402, 401462, 579384)),\n",
       " (79843, (482117, 463374, 331620)),\n",
       " (16610, (421041, 370693, 471443)),\n",
       " (14990, (448991, 372088, 412763)),\n",
       " (49632, (413364, 340680, 427906)),\n",
       " (17593, (494330, 220481, 457447)),\n",
       " (101441, (406378, 335046, 400359)),\n",
       " (30092, (342589, 302372, 412994)),\n",
       " (91537, (351772, 339953, 329853)),\n",
       " (65090, (342076, 283568, 362987)),\n",
       " (9538, (346590, 239324, 223158)),\n",
       " (106458, (249999, 244401, 220161)),\n",
       " (32071, (247981, 238630, 221514)),\n",
       " (85113, (235695, 225568, 240753)),\n",
       " (68083, (208425, 196732, 279768)),\n",
       " (34310, (266619, 248759, 167165)),\n",
       " (57012, (217486, 197501, 243326)),\n",
       " (75692, (228926, 211900, 186208)),\n",
       " (98381, (235872, 230397, 155362)),\n",
       " (14604, (281099, 177099, 157065)),\n",
       " (26169, (172792, 156681, 182722)),\n",
       " (81133, (187923, 153287, 153575)),\n",
       " (15865, (135743, 137639, 190815)),\n",
       " (85112, (137281, 140004, 144866)),\n",
       " (83746, (148263, 130843, 128744)),\n",
       " (93481, (131884, 120366, 119361)),\n",
       " (48668, (126179, 112388, 109863)),\n",
       " (80166, (122827, 85979, 133967)),\n",
       " (18907, (110166, 97100, 121830)),\n",
       " (69637, (106970, 94746, 123557)),\n",
       " (58613, (109389, 101854, 95702)),\n",
       " (42398, (109173, 95492, 96838)),\n",
       " (111821, (87200, 75229, 66254)),\n",
       " (63042, (86675, 79674, 53723)),\n",
       " (86402, (54737, 57162, 92085)),\n",
       " (18540, (64809, 56574, 79388)),\n",
       " (27668, (62853, 52787, 84700)),\n",
       " (56405, (58029, 55496, 80157)),\n",
       " (27415, (65202, 59789, 65537)),\n",
       " (39498, (61643, 58288, 70415)),\n",
       " (106009, (66147, 61924, 60216)),\n",
       " (72223, (48506, 49498, 84636)),\n",
       " (95564, (65156, 51120, 65083)),\n",
       " (61578, (53017, 49821, 76992)),\n",
       " (66585, (78768, 34081, 61332)),\n",
       " (74780, (56148, 54365, 52678)),\n",
       " (582, (52296, 53202, 55198)),\n",
       " (59620, (58288, 52601, 49432)),\n",
       " (104038, (55597, 45382, 56426)),\n",
       " (93706, (54767, 46081, 52807)),\n",
       " (12999, (62718, 27577, 62676)),\n",
       " (101893, (49941, 47126, 54748)),\n",
       " (25315, (46378, 40933, 62137)),\n",
       " (8515, (61239, 29264, 58730)),\n",
       " (77615, (47404, 42428, 58462)),\n",
       " (70211, (44907, 42108, 60715)),\n",
       " (79583, (53168, 39595, 51982)),\n",
       " (29975, (45335, 42312, 52125)),\n",
       " (23971, (48673, 38979, 48044)),\n",
       " (52726, (46658, 39681, 49308)),\n",
       " (96708, (48711, 41455, 42736)),\n",
       " (10367, (58804, 42596, 29877)),\n",
       " (72666, (38197, 34885, 56573)),\n",
       " (34883, (36764, 31827, 54740)),\n",
       " (60636, (39490, 33450, 45478)),\n",
       " (104551, (37639, 41450, 38133)),\n",
       " (88835, (39455, 37291, 39861)),\n",
       " (52739, (47069, 34183, 31048)),\n",
       " (77768, (37909, 37410, 36460)),\n",
       " (79885, (39205, 31500, 39386)),\n",
       " (72909, (40540, 38570, 30412)),\n",
       " (70524, (30788, 27962, 47548)),\n",
       " (40001, (34827, 32558, 38584)),\n",
       " (864, (46739, 30585, 28106)),\n",
       " (3820, (36153, 30109, 39063)),\n",
       " (45018, (44673, 18223, 42304)),\n",
       " (71076, (34705, 33933, 34201)),\n",
       " (80399, (38215, 34763, 29762)),\n",
       " (33382, (32693, 30863, 38893)),\n",
       " (3764, (34957, 29837, 36360)),\n",
       " (4159, (38014, 32349, 29187)),\n",
       " (21139, (35386, 33026, 30764)),\n",
       " (28565, (33846, 30408, 34728)),\n",
       " (19714, (32213, 41907, 23375)),\n",
       " (23030, (38241, 30033, 28547))]"
      ]
     },
     "execution_count": 5,
     "metadata": {},
     "output_type": "execute_result"
    }
   ],
   "source": [
    "openEventwitsubplotshLocationSorted = openEventwithLocation.sortBy(lambda x : (sum(x[1])), ascending=False)\n",
    "openEventwitsubplotshLocationSorted.take(100)"
   ]
  },
  {
   "cell_type": "code",
   "execution_count": 21,
   "metadata": {
    "collapsed": false,
    "scrolled": false
   },
   "outputs": [
    {
     "data": {
      "image/png": "[encoded data removed]",
      "text/plain": [
       "<matplotlib.figure.Figure at 0x7fef53894b50>"
      ]
     },
     "metadata": {},
     "output_type": "display_data"
    }
   ],
   "source": [
    "import matplotlib.pyplot as plt\n",
    "import time\n",
    "import os\n",
    "%matplotlib inline\n",
    "N = 30\n",
    "datawork = openEventwitsubplotshLocationSorted.map(lambda x : x[1][0]).take(N)\n",
    "datahome = openEventwitsubplotshLocationSorted.map(lambda x : x[1][1]).take(N)\n",
    "dataother = openEventwitsubplotshLocationSorted.map(lambda x : x[1][2]).take(N)\n",
    "b1 = plt.bar(range(0,6*N,6),datawork,1, color='r')\n",
    "b2 = plt.bar(range(1,6*N+1,6),datahome,1, color='g')\n",
    "b3 = plt.bar(range(2,6*N+2,6),dataother,1, color='b')\n",
    "plt.legend((b1[0], b2[0], b3[0]),('Work','Home','Other'))\n",
    "plt.ylabel('Number of events')\n",
    "plt.xlabel('Apps')\n",
    "figure_dir = eventsPath + \"/figures/\"\n",
    "if not os.path.exists(figure_dir):\n",
    "    os.makedirs(figure_dir)\n",
    "plt.savefig(figure_dir + \"contextlocationvsitem\" + str(int(time.time())) + \".png\")\n",
    "plt.show()\n",
    "\n"
   ]
  },
  {
   "cell_type": "code",
   "execution_count": 26,
   "metadata": {
    "collapsed": false,
    "scrolled": true
   },
   "outputs": [
    {
     "data": {
      "text/plain": [
       "[(0, (0, 2, 0, 0)),\n",
       " (6657, (0, 1, 5, 0)),\n",
       " (13314, (4, 8, 4, 11)),\n",
       " (19971, (42, 83, 70, 46)),\n",
       " (26628, (4, 6, 2, 2))]"
      ]
     },
     "execution_count": 26,
     "metadata": {},
     "output_type": "execute_result"
    }
   ],
   "source": [
    "import os\n",
    "execfile(\"../script/utils.py\")\n",
    "eventsPath = os.environ[\"YAHOO_DATA\"]\n",
    "splitedRdd = sc.textFile(eventsPath + \"/splitedDataMerged\")\n",
    "time_context = [(1,0,0,0), # morning\n",
    "                (0,1,0,0), # afternoon\n",
    "                (0,0,1,0), # evening\n",
    "                (0,0,0,1)] # night\n",
    "def reduce_helper2((x1,x2,x3,x4),(y1,y2,y3,y4)):\n",
    "    return (x1+y1, x2+y2,x3+y3,x4+y4)\n",
    "openEventwithTime = splitedRdd.map(parseContextData2Merged).flatMap(\n",
    "    lambda x : [ (y.itemId, time_context[y.context.time_of_day -1]) for y in x[1][0]+x[1][1]] ).reduceByKey(reduce_helper2)\n",
    "# openEventOverAll = openEventwithTime.map(lambda x: x[1]).reduce(reduce_helper2)\n",
    "# openEventOverAll\n",
    "#openEventwithTimeSorted = openEventwithTime.sortBy(lambda x : (sum(x[1])), ascending=False)\n",
    "#openEventwithTimeSorted.take(100)\n",
    "openEventwithTime.take(5)"
   ]
  },
  {
   "cell_type": "code",
   "execution_count": 47,
   "metadata": {
    "collapsed": false
   },
   "outputs": [],
   "source": [
    "import math\n",
    "def timeMatters(lines):\n",
    "    if (math.fabs(1.0*lines[1][0]/lines[1][4]-0.24867111302) > 0.4 or \\\n",
    "        math.fabs(1.0*lines[1][1]/lines[1][4]-0.29859594757) > 0.4 or \\\n",
    "        math.fabs(1.0*lines[1][2]/lines[1][4]-0.25037886825) > 0.4 or \\\n",
    "        math.fabs(1.0*lines[1][3]/lines[1][4]-0.20235407115) > 0.4) and \\\n",
    "        lines[1][4] > 30:\n",
    "            flag = 1\n",
    "    else:\n",
    "        flag = 0\n",
    "    return lines[0],(lines[1][0],lines[1][1],lines[1][2],lines[1][3],lines[1][4]),flag\n",
    "openEventwithTimeMatter = openEventwithTime.map(lambda x: (x[0],(x[1][0],x[1][1],x[1][2],x[1][3],sum(x[1])))).map(timeMatters)\n",
    "openEventwithTimeFiltered = openEventwithTimeMatter.filter(lambda x: x[2]==1).map(lambda x:(x[0],x[2]))\n",
    "openEventwithTimeFilteredA = openEventwithTimeFiltered.collectAsMap()"
   ]
  },
  {
   "cell_type": "code",
   "execution_count": 48,
   "metadata": {
    "collapsed": false
   },
   "outputs": [
    {
     "data": {
      "text/plain": [
       "335"
      ]
     },
     "execution_count": 48,
     "metadata": {},
     "output_type": "execute_result"
    }
   ],
   "source": [
    "openEventwithTimeFiltered.count()"
   ]
  },
  {
   "cell_type": "code",
   "execution_count": 43,
   "metadata": {
    "collapsed": true
   },
   "outputs": [],
   "source": [
    "import json\n",
    "with open(eventsPath + 'openEventwithTimeFiltered.txt', 'w') as outfile:\n",
    "    json.dump(openEventwithTimeFilteredA, outfile)"
   ]
  },
  {
   "cell_type": "code",
   "execution_count": null,
   "metadata": {
    "collapsed": false
   },
   "outputs": [],
   "source": [
    "import matplotlib.pyplot as plt\n",
    "import time\n",
    "import os\n",
    "%matplotlib inline\n",
    "N = 100\n",
    "datamorning = openEventwithTimeSorted.map(lambda x : x[1][0]).take(N)\n",
    "dataafternoon = openEventwithTimeSorted.map(lambda x : x[1][0]).take(N)\n",
    "dataevening = openEventwithTimeSorted.map(lambda x : x[1][1]).take(N)\n",
    "datanight = openEventwithTimeSorted.map(lambda x : x[1][2]).take(N)\n",
    "b1 = plt.bar(range(0,6*N,6),datamorning,1, color='r')\n",
    "b2 = plt.bar(range(1,6*N+1,6),dataafternoon,1, color='g')\n",
    "b3 = plt.bar(range(2,6*N+2,6),dataevening,1, color='b')\n",
    "b4 = plt.bar(range(3,6*N+3,6),datanight,1, color='y')\n",
    "#plt.legend((b1[0], b2[0], b3[0], b4[0]),('Morning','Afternoon', 'Evening','Night'))\n",
    "plt.ylabel('Number of events')\n",
    "plt.xlabel('Apps')\n",
    "plt.figure(figsize=(70, 70))\n",
    "figure_dir = eventsPath + \"/figures/\"\n",
    "if not os.path.exists(figure_dir):\n",
    "    os.makedirs(figure_dir)\n",
    "plt.savefig(figure_dir + \"contexttime-of-day-vsitem\" + str(int(time.time())) + \".png\",dpi=200)\n",
    "plt.show()\n"
   ]
  },
  {
   "cell_type": "markdown",
   "metadata": {},
   "source": [
    "### Number of open events vs application"
   ]
  },
  {
   "cell_type": "code",
   "execution_count": 19,
   "metadata": {
    "collapsed": false
   },
   "outputs": [
    {
     "data": {
      "text/plain": [
       "[(30606, 9712865), (26351, 8431821), (111242, 7840438)]"
      ]
     },
     "execution_count": 19,
     "metadata": {},
     "output_type": "execute_result"
    }
   ],
   "source": [
    "onlyOpenEvents = rawEventsRdd.map(\n",
    "    parseRawData).map(lambda x : (itemIdConversionDictionary[x[1]],1))\n",
    "appvsruntime = onlyOpenEvents.reduceByKey(lambda a,b : a + b).sortBy(lambda x: x[1], ascending=False)\n",
    "appvsruntime.take(3)\n"
   ]
  },
  {
   "cell_type": "code",
   "execution_count": 20,
   "metadata": {
    "collapsed": false
   },
   "outputs": [],
   "source": [
    "import json\n",
    "userappmap = json.load(open(eventsPath + \"/userAppMap.txt\"))\n",
    "def findKey(d, v):\n",
    "    for k, val in d.iteritems():\n",
    "        if val == v:\n",
    "            return k\n",
    "listofapps = [ (findKey(itemIdConversionDictionary, v[0]), v[1], v[0]) for v in appvsruntime.take(100)]\n",
    "stats_dir = eventsPath + \"/stats/\"\n",
    "if not os.path.exists(stats_dir):\n",
    "    os.makedirs(stats_dir)\n",
    "numberOfEvents = float(eventsRdd.count()) / 100\n",
    "outfile = open(stats_dir + \"topapps_run_byusers.csv\",'w')\n",
    "outfile.write(\"Appid,App,#usersruntheapp, percentage\\n\")\n",
    "for el in listofapps:\n",
    "    outfile.write(str(el[2]) + ',' + str(el[0]) + \",\" + str(el[1]) + \",\" + str(el[1]/numberOfEvents) + '\\n')\n",
    "outfile.close()"
   ]
  },
  {
   "cell_type": "code",
   "execution_count": 44,
   "metadata": {
    "collapsed": false
   },
   "outputs": [
    {
     "data": {
      "image/png": "[encoded data removed]",
      "text/plain": [
       "<matplotlib.figure.Figure at 0x7f7f58386250>"
      ]
     },
     "metadata": {},
     "output_type": "display_data"
    }
   ],
   "source": [
    "import matplotlib.pyplot as plt\n",
    "import time\n",
    "import os\n",
    "%matplotlib inline\n",
    "data= appvsruntime.map(lambda x : x[1]).collect()\n",
    "plt.plot(data)\n",
    "plt.ylabel('Number of usages')\n",
    "plt.xlabel('Apps')\n",
    "plt.axis([0,200,0 , 1e7])\n",
    "figure_dir = eventsPath + \"/figures/\"\n",
    "if not os.path.exists(figure_dir):\n",
    "    os.makedirs(figure_dir)\n",
    "plt.savefig(figure_dir + \"numberofusagevsapp\" + str(int(time.time())) + \".png\")\n",
    "plt.show()"
   ]
  },
  {
   "cell_type": "markdown",
   "metadata": {},
   "source": [
    "### Percentage of usage over all events per app"
   ]
  },
  {
   "cell_type": "code",
   "execution_count": 13,
   "metadata": {
    "collapsed": false
   },
   "outputs": [
    {
     "data": {
      "image/png": "[encoded data removed]",
      "text/plain": [
       "<matplotlib.figure.Figure at 0x7f7ed1555c90>"
      ]
     },
     "metadata": {},
     "output_type": "display_data"
    }
   ],
   "source": [
    "import matplotlib.pyplot as plt\n",
    "import time\n",
    "import os\n",
    "%matplotlib inline\n",
    "try:\n",
    "    data\n",
    "except NameError:\n",
    "    data= appvsruntime.map(lambda x : x[1]).collect()\n",
    "itemCount = float(110185157) / 100\n",
    "plt.plot([el/itemCount for el in data])\n",
    "plt.ylabel('Percentage of usages')\n",
    "plt.xlabel('Apps')\n",
    "plt.axis([0,100,0 , 10])\n",
    "figure_dir = eventsPath + \"/figures/\"\n",
    "if not os.path.exists(figure_dir):\n",
    "    os.makedirs(figure_dir)\n",
    "plt.savefig(figure_dir + \"percentageofusagevsapp\" + str(int(time.time())) + \".png\")\n",
    "plt.show()\n"
   ]
  },
  {
   "cell_type": "markdown",
   "metadata": {},
   "source": [
    "## Graphs of users installed per application"
   ]
  },
  {
   "cell_type": "code",
   "execution_count": 16,
   "metadata": {
    "collapsed": false
   },
   "outputs": [],
   "source": [
    "userappmaprdd = sc.parallelize([ (int(k), userappmap[k]) for k in userappmap.keys()])\n",
    "userappmaprdd = userappmaprdd.flatMap(lambda x : [ (k, 1) for k in x[1] ] ) #(itemid, 1) format\n",
    "userappmaprdd = userappmaprdd.reduceByKey(\n",
    "    lambda a,b : a + b).sortBy(lambda x : x[1], ascending=False)"
   ]
  },
  {
   "cell_type": "code",
   "execution_count": 21,
   "metadata": {
    "collapsed": false
   },
   "outputs": [],
   "source": [
    "def findKey(d, v):\n",
    "    for k, val in d.iteritems():\n",
    "        if val == v:\n",
    "            return k\n",
    "listofapps = [ (findKey(itemIdConversionDictionary, v[0]), v[1], v[0]) for v in userappmaprdd.take(100)]\n",
    "stats_dir = eventsPath + \"/stats/\"\n",
    "if not os.path.exists(stats_dir):\n",
    "    os.makedirs(stats_dir)\n",
    "numberOfUsers = float(len(userappmap))\n",
    "outfile = open(stats_dir + \"topapps_owned_byusers.csv\",'w')\n",
    "outfile.write(\"Appid,App,#usersowntheapp, percentage\\n\")\n",
    "for el in listofapps:\n",
    "    outfile.write(str(el[2]) + ',' + str(el[0]) + \",\" + str(el[1]) + \",\" + str(el[1]/numberOfUsers) + '\\n')\n",
    "outfile.close()\n"
   ]
  },
  {
   "cell_type": "markdown",
   "metadata": {},
   "source": [
    "### Number of users installed per application"
   ]
  },
  {
   "cell_type": "code",
   "execution_count": null,
   "metadata": {
    "collapsed": false
   },
   "outputs": [],
   "source": [
    "import matplotlib.pyplot as plt\n",
    "import time\n",
    "import os\n",
    "%matplotlib inline\n",
    "dataiteminstall= userappmaprdd.map(lambda x : x[1]).collect()\n",
    "plt.plot(dataiteminstall)\n",
    "plt.ylabel('Number of installs')\n",
    "plt.xlabel('Apps')\n",
    "plt.axis([0,10000, 0, 2000])\n",
    "figure_dir = eventsPath + \"/figures/\"\n",
    "if not os.path.exists(figure_dir):\n",
    "    os.makedirs(figure_dir)\n",
    "plt.savefig(figure_dir + \"numberofinstallperapp\" + str(int(time.time())) + \".png\")\n",
    "plt.show()"
   ]
  },
  {
   "cell_type": "markdown",
   "metadata": {},
   "source": [
    "### Percentage of users installed per application"
   ]
  },
  {
   "cell_type": "code",
   "execution_count": null,
   "metadata": {
    "collapsed": false,
    "scrolled": true
   },
   "outputs": [],
   "source": [
    "import matplotlib.pyplot as plt\n",
    "import time\n",
    "import os\n",
    "%matplotlib inline\n",
    "try:\n",
    "    dataiteminstall\n",
    "except NameError:\n",
    "    dataiteminstall= userappmaprdd.map(lambda x : x[1]).collect()\n",
    "numberOfUsers = float(len(userappmap))\n",
    "plt.plot([el/numberOfUsers for el in dataiteminstall])\n",
    "plt.ylabel('Percentage of users own the app')\n",
    "plt.xlabel('Apps')\n",
    "plt.axis([0,1000, 0.0, 0.5])\n",
    "figure_dir = eventsPath + \"/figures/\"\n",
    "if not os.path.exists(figure_dir):\n",
    "    os.makedirs(figure_dir)\n",
    "plt.savefig(figure_dir + \"percentageofusersownedvsapp\" + str(int(time.time())) + \".png\")\n",
    "plt.show()"
   ]
  },
  {
   "cell_type": "markdown",
   "metadata": {},
   "source": [
    "# Histogram of users having certain number of apps"
   ]
  },
  {
   "cell_type": "code",
   "execution_count": 5,
   "metadata": {
    "collapsed": false
   },
   "outputs": [
    {
     "data": {
      "text/plain": [
       "559.8407598642079"
      ]
     },
     "execution_count": 5,
     "metadata": {},
     "output_type": "execute_result"
    }
   ],
   "source": [
    "import os\n",
    "import numpy as np\n",
    "execfile(\"../script/utils.py\")\n",
    "eventsPath = os.environ[\"YAHOO_DATA\"]\n",
    "splitedRdd = sc.textFile(eventsPath + \"/splitedDataMerged\")\n",
    "splitedRdd = splitedRdd.map(parseContextData2Merged).map(lambda x :  (len(x[1][1]) + len(x[1][0])))\n",
    "splitedRdd.mean() # average number of events per user 559.8407598642079"
   ]
  },
  {
   "cell_type": "code",
   "execution_count": null,
   "metadata": {
    "collapsed": true
   },
   "outputs": [],
   "source": [
    "intervalsLarge = np.arange(0,9001,1000).tolist()\n",
    "histDataOpenlarge = splitedRdd.histogram(intervalsLarge)\n",
    "intervalsSmall = np.arange(0,8601,100).tolist()\n",
    "histDataOpenSmall = splitedRdd.histogram(intervalsSmall)\n",
    "#splitedRdd.max() 8597"
   ]
  },
  {
   "cell_type": "code",
   "execution_count": 17,
   "metadata": {
    "collapsed": false
   },
   "outputs": [
    {
     "data": {
      "text/plain": [
       "([0, 1000, 2000, 3000, 4000, 5000, 6000, 7000, 8000, 9000],\n",
       " [170547, 26967, 3287, 498, 113, 21, 11, 3, 3])"
      ]
     },
     "execution_count": 17,
     "metadata": {},
     "output_type": "execute_result"
    }
   ],
   "source": [
    "histDataOpenlarge"
   ]
  },
  {
   "cell_type": "markdown",
   "metadata": {
    "collapsed": true
   },
   "source": [
    "### Histogram of number opens per user 1000 interval adopted"
   ]
  },
  {
   "cell_type": "code",
   "execution_count": 24,
   "metadata": {
    "collapsed": false
   },
   "outputs": [
    {
     "data": {
      "image/png": "[encoded data removed]",
      "text/plain": [
       "<matplotlib.figure.Figure at 0x7f7f43161e50>"
      ]
     },
     "metadata": {},
     "output_type": "display_data"
    }
   ],
   "source": [
    "import matplotlib.pyplot as plt\n",
    "import time\n",
    "import os\n",
    "%matplotlib inline\n",
    "plt.bar(histDataOpenlarge[0][:-1], histDataOpenlarge[1], width=1000 )\n",
    "plt.ylabel('Number of users')\n",
    "plt.xlabel('Number of events')\n",
    "figure_dir = eventsPath + \"/figures/\"\n",
    "if not os.path.exists(figure_dir):\n",
    "    os.makedirs(figure_dir)\n",
    "plt.savefig(figure_dir + \"histof_#opens_peruser_1000int\" + str(int(time.time())) + \".png\")\n",
    "plt.show()"
   ]
  },
  {
   "cell_type": "markdown",
   "metadata": {},
   "source": [
    "### Histogram of number opens per user 100 interval adopted"
   ]
  },
  {
   "cell_type": "code",
   "execution_count": 25,
   "metadata": {
    "collapsed": false
   },
   "outputs": [
    {
     "data": {
      "image/png": "[encoded data removed]",
      "text/plain": [
       "<matplotlib.figure.Figure at 0x7f7f43187110>"
      ]
     },
     "metadata": {},
     "output_type": "display_data"
    }
   ],
   "source": [
    "import matplotlib.pyplot as plt\n",
    "import time\n",
    "import os\n",
    "%matplotlib inline\n",
    "plt.bar(histDataOpenSmall[0][:-1], histDataOpenSmall[1], width=100 )\n",
    "plt.ylabel('Number of users')\n",
    "plt.xlabel('Number of events')\n",
    "plt.axis([0,2000,0,35000])\n",
    "figure_dir = eventsPath + \"/figures/\"\n",
    "if not os.path.exists(figure_dir):\n",
    "    os.makedirs(figure_dir)\n",
    "plt.savefig(figure_dir + \"histof_#opens_peruser_100int\" + str(int(time.time())) + \".png\")\n",
    "plt.show()"
   ]
  },
  {
   "cell_type": "markdown",
   "metadata": {},
   "source": [
    "### Histogram of the number of applications owned by each user"
   ]
  },
  {
   "cell_type": "code",
   "execution_count": 6,
   "metadata": {
    "collapsed": false
   },
   "outputs": [
    {
     "data": {
      "text/plain": [
       "(33.15867957309499, 257, 201450)"
      ]
     },
     "execution_count": 6,
     "metadata": {},
     "output_type": "execute_result"
    }
   ],
   "source": [
    "import json\n",
    "userappmap = json.load(open(eventsPath + \"/userAppMap.txt\"))\n",
    "userappcountrdd = sc.parallelize([len(v) for k,v in userappmap.iteritems()])\n",
    "intervalAppCount = [0,10,20,30,40,50,60,70,100,260]\n",
    "histDataAppcount = userappcountrdd.histogram(intervalAppCount)\n",
    "userappcountrdd.mean(), userappcountrdd.max(), userappcountrdd.count()"
   ]
  },
  {
   "cell_type": "code",
   "execution_count": 30,
   "metadata": {
    "collapsed": false
   },
   "outputs": [
    {
     "data": {
      "text/plain": [
       "([0, 10, 20, 30, 40, 50, 60, 70, 100, 150, 200, 260],\n",
       " [10369, 28266, 47468, 52043, 35778, 17107, 6501, 3589, 303, 23, 3])"
      ]
     },
     "execution_count": 30,
     "metadata": {},
     "output_type": "execute_result"
    }
   ],
   "source": [
    "histDataAppcount"
   ]
  },
  {
   "cell_type": "code",
   "execution_count": 7,
   "metadata": {
    "collapsed": false
   },
   "outputs": [
    {
     "data": {
      "image/png": "[encoded data removed]",
      "text/plain": [
       "<matplotlib.figure.Figure at 0x7f7ed605cf50>"
      ]
     },
     "metadata": {},
     "output_type": "display_data"
    }
   ],
   "source": [
    "import matplotlib.pyplot as plt\n",
    "import time\n",
    "import os\n",
    "%matplotlib inline\n",
    "plt.bar(histDataAppcount[0][:-1], histDataAppcount[1],\n",
    "        width=[x - intervalAppCount[i - 1] for i, x in enumerate(intervalAppCount)][1:])\n",
    "plt.ylabel('Number of users')\n",
    "plt.xlabel('Number of apps')\n",
    "\n",
    "figure_dir = eventsPath + \"/figures/\"\n",
    "if not os.path.exists(figure_dir):\n",
    "    os.makedirs(figure_dir)\n",
    "plt.savefig(figure_dir + \"histof_#opens_peruser_100int\" + str(int(time.time())) + \".png\")\n",
    "plt.show()"
   ]
  },
  {
   "cell_type": "markdown",
   "metadata": {
    "collapsed": true
   },
   "source": [
    "# Statistics on Events that has an item with a category"
   ]
  },
  {
   "cell_type": "code",
   "execution_count": null,
   "metadata": {
    "collapsed": false
   },
   "outputs": [],
   "source": [
    "import os\n",
    "execfile(\"../script/utils.py\")\n",
    "eventsPath = os.environ[\"YAHOO_DATA\"]\n",
    "splitedRdd = sc.textFile(eventsPath + \"/splitedDataMergedCatFiltered\")\n",
    "splitedRdd = splitedRdd.map(parseContextData2MergedFiltered)\n",
    "splitedRdd.first()"
   ]
  },
  {
   "cell_type": "code",
   "execution_count": 79,
   "metadata": {
    "collapsed": false
   },
   "outputs": [
    {
     "data": {
      "text/plain": [
       "(57486572, 400959, 258051)"
      ]
     },
     "execution_count": 79,
     "metadata": {},
     "output_type": "execute_result"
    }
   ],
   "source": [
    "#number of events:\n",
    "def reduce_helper((a,b,c),(x,y,z)):\n",
    "    return a+x,b+y,c+z\n",
    "numberPerUser = splitedRdd.map(lambda x : (len(x[1][0])+len(x[1][1]), len(x[1][2]),len(x[1][3])))\n",
    "numberPerUser.reduce(reduce_helper)"
   ]
  },
  {
   "cell_type": "markdown",
   "metadata": {},
   "source": [
    "## Usage graphs"
   ]
  },
  {
   "cell_type": "code",
   "execution_count": 82,
   "metadata": {
    "collapsed": false
   },
   "outputs": [
    {
     "data": {
      "text/plain": [
       "[(13314, 27), (19971, 241), (46599, 28)]"
      ]
     },
     "execution_count": 82,
     "metadata": {},
     "output_type": "execute_result"
    }
   ],
   "source": [
    "appvsruntime = splitedRdd.flatMap(lambda x: (x[1][0] + x[1][1])).map(lambda x : (x.itemId, 1)).reduceByKey(lambda x,y : x + y)\n",
    "appvsruntime = appvsruntime.sortBy(lambda x: x[1], ascending=False)\n",
    "appvsruntime.take(3)\n"
   ]
  },
  {
   "cell_type": "code",
   "execution_count": 84,
   "metadata": {
    "collapsed": false
   },
   "outputs": [
    {
     "data": {
      "text/plain": [
       "[(26351, 8430708), (59816, 3799689), (50418, 2499847)]"
      ]
     },
     "execution_count": 84,
     "metadata": {},
     "output_type": "execute_result"
    }
   ],
   "source": [
    "appvsruntime = appvsruntime.sortBy(lambda x: x[1], ascending=False)\n",
    "appvsruntime.take(3)"
   ]
  },
  {
   "cell_type": "code",
   "execution_count": 85,
   "metadata": {
    "collapsed": true
   },
   "outputs": [],
   "source": [
    "import json\n",
    "itemIdConversionDictionary = json.load(open(eventsPath  + \"/itemIdConversionDictionaryMerged.txt\"))\n",
    "def findKey(d, v):\n",
    "    for k, val in d.iteritems():\n",
    "        if val == v:\n",
    "            return k\n",
    "listofapps = [ (findKey(itemIdConversionDictionary, v[0]), v[1], v[0]) for v in appvsruntime.take(100)]\n",
    "stats_dir = eventsPath + \"/stats/\"\n",
    "if not os.path.exists(stats_dir):\n",
    "    os.makedirs(stats_dir)\n",
    "numberOfEvents = float(57486572) / 100\n",
    "outfile = open(stats_dir + \"topapps_run_byusers_filtered.csv\",'w')\n",
    "outfile.write(\"Appid,App,#usersruntheapp, percentage\\n\")\n",
    "for el in listofapps:\n",
    "    outfile.write(str(el[2]) + ',' + str(el[0]) + \",\" + str(el[1]) + \",\" + str(el[1]/numberOfEvents) + '\\n')\n",
    "outfile.close()"
   ]
  },
  {
   "cell_type": "code",
   "execution_count": 104,
   "metadata": {
    "collapsed": false
   },
   "outputs": [
    {
     "data": {
      "image/png": "[encoded data removed]",
      "text/plain": [
       "<matplotlib.figure.Figure at 0x7f7ecd1199d0>"
      ]
     },
     "metadata": {},
     "output_type": "display_data"
    }
   ],
   "source": [
    "import matplotlib.pyplot as plt\n",
    "import time\n",
    "import os\n",
    "%matplotlib inline\n",
    "data= appvsruntime.map(lambda x : x[1]).collect()\n",
    "plt.semilogx([data[0]] + data)\n",
    "plt.ylabel('Number of usages')\n",
    "plt.xlabel('Application Rank')\n",
    "plt.axis([0,1e5,0 , 1e7])\n",
    "figure_dir = eventsPath + \"/figures/\"\n",
    "if not os.path.exists(figure_dir):\n",
    "    os.makedirs(figure_dir)\n",
    "plt.savefig(figure_dir + \"numofusagevsapp_logscale\" + str(int(time.time())) + \"filtered.png\",dpi=200)\n",
    "plt.show()"
   ]
  },
  {
   "cell_type": "code",
   "execution_count": 103,
   "metadata": {
    "collapsed": false,
    "scrolled": true
   },
   "outputs": [
    {
     "data": {
      "image/png": "[encoded data removed]",
      "text/plain": [
       "<matplotlib.figure.Figure at 0x7f7ed1322ad0>"
      ]
     },
     "metadata": {},
     "output_type": "display_data"
    }
   ],
   "source": [
    "import matplotlib.pyplot as plt\n",
    "import time\n",
    "import os\n",
    "%matplotlib inline\n",
    "try:\n",
    "    data\n",
    "except NameError:\n",
    "    data= appvsruntime.map(lambda x : x[1]).collect()\n",
    "itemCount = float(57486572) / 100\n",
    "tes = [el/itemCount for el in data]\n",
    "plt.semilogx([tes[0]] + tes)\n",
    "plt.ylabel('Percentage of usages')\n",
    "plt.xlabel('Apps')\n",
    "plt.axis([0,1e5,0 , 15])\n",
    "figure_dir = eventsPath + \"/figures/\"\n",
    "if not os.path.exists(figure_dir):\n",
    "    os.makedirs(figure_dir)\n",
    "plt.savefig(figure_dir + \"percofusagevsapp_logscale\" + str(int(time.time())) + \"_filtered.png\")\n",
    "plt.show()"
   ]
  },
  {
   "cell_type": "markdown",
   "metadata": {},
   "source": [
    "##Category analysis"
   ]
  },
  {
   "cell_type": "code",
   "execution_count": null,
   "metadata": {
    "collapsed": false
   },
   "outputs": [],
   "source": [
    "import json\n",
    "itemCategoryDictionary = json.load(open(eventsPath +  'itemCategoryDictionaryMergedFinal.txt'))\n",
    "catdict = json.load(open(eventsPath +  'cidcatergoryDictionary.txt'))\n",
    "itemCategoryRDD = sc.parallelize(itemCategoryDictionary.items()).map(lambda x: (x[1],1))\n",
    "itemCategoryRDDGroupped = itemCategoryRDD.reduceByKey(lambda a,b : a + b)\n"
   ]
  },
  {
   "cell_type": "code",
   "execution_count": 28,
   "metadata": {
    "collapsed": false
   },
   "outputs": [
    {
     "data": {
      "image/png": "[encoded data removed]",
      "text/plain": [
       "<matplotlib.figure.Figure at 0x7f5f290d7710>"
      ]
     },
     "metadata": {},
     "output_type": "display_data"
    }
   ],
   "source": [
    "import matplotlib.pyplot as plt\n",
    "import numpy as np\n",
    "%matplotlib inline\n",
    "datacategory = itemCategoryRDDGroupped.map(lambda x : x[1]).collect()\n",
    "datacategoryindex = itemCategoryRDDGroupped.map(lambda x : catdict[str(x[0])]).collect()\n",
    "plt.figure(figsize=(10,4))\n",
    "plt.bar(range(0,34),datacategory,1, color='r')\n",
    "plt.ylabel('Number of apps')\n",
    "plt.xlabel('Categories')\n",
    "plt.xticks(np.arange(0.5,34.5),datacategoryindex, rotation='vertical')\n",
    "\n",
    "figure_dir = eventsPath + \"/figures/\"\n",
    "if not os.path.exists(figure_dir):\n",
    "    os.makedirs(figure_dir)\n",
    "plt.savefig(figure_dir + \"categoryversusappcount\" + str(int(time.time())) + \".png\", dpi=200)\n",
    "plt.show()"
   ]
  },
  {
   "cell_type": "code",
   "execution_count": 27,
   "metadata": {
    "collapsed": false
   },
   "outputs": [
    {
     "data": {
      "image/png": "[encoded data removed]",
      "text/plain": [
       "<matplotlib.figure.Figure at 0x7f5f293a8650>"
      ]
     },
     "metadata": {},
     "output_type": "display_data"
    }
   ],
   "source": [
    "import matplotlib.pyplot as plt\n",
    "import numpy as np\n",
    "%matplotlib inline\n",
    "datacategory = itemCategoryRDDGroupped.map(lambda x : x[1]).collect()\n",
    "datacategoryindex = itemCategoryRDDGroupped.map(lambda x : catdict[str(x[0])]).collect()\n",
    "del(datacategory[20])\n",
    "del(datacategoryindex[20])\n",
    "plt.figure(figsize=(10,4))\n",
    "plt.bar(range(0,33),datacategory,1, color='b')\n",
    "plt.ylabel('Number of apps')\n",
    "plt.xlabel('Categories')\n",
    "plt.xticks(np.arange(0.5,33.5),datacategoryindex, rotation='vertical')\n",
    "\n",
    "figure_dir = eventsPath + \"/figures/\"\n",
    "if not os.path.exists(figure_dir):\n",
    "    os.makedirs(figure_dir)\n",
    "plt.savefig(figure_dir + \"categoryversusappcount\" + str(int(time.time())) + \".png\", dpi=200)\n",
    "plt.show()"
   ]
  },
  {
   "cell_type": "code",
   "execution_count": null,
   "metadata": {
    "collapsed": true
   },
   "outputs": [],
   "source": []
  }
 ],
 "metadata": {
  "kernelspec": {
   "display_name": "Python 2",
   "language": "python",
   "name": "python2"
  },
  "language_info": {
   "codemirror_mode": {
    "name": "ipython",
    "version": 2
   },
   "file_extension": ".py",
   "mimetype": "text/x-python",
   "name": "python",
   "nbconvert_exporter": "python",
   "pygments_lexer": "ipython2",
   "version": "2.7.10"
  }
 },
 "nbformat": 4,
 "nbformat_minor": 0
}
