{
 "cells": [
  {
   "cell_type": "code",
   "execution_count": 1,
   "metadata": {
    "collapsed": false
   },
   "outputs": [
    {
     "data": {
      "text/plain": [
       "<pyspark.context.SparkContext at 0x7fb654a002d0>"
      ]
     },
     "execution_count": 1,
     "metadata": {},
     "output_type": "execute_result"
    }
   ],
   "source": [
    "sc"
   ]
  },
  {
   "cell_type": "code",
   "execution_count": 2,
   "metadata": {
    "collapsed": false
   },
   "outputs": [
    {
     "data": {
      "text/plain": [
       "[u'001e6d8e-cbe7-4374-8c38-f37962a457e9\\tcom.google.android.googlequicksearchbox\\t1421521691\\t47.235050\\t-122.534698\\tTacoma\\t5\\t11\\tApp_Opened',\n",
       " u'001e6d8e-cbe7-4374-8c38-f37962a457e9\\tcom.android.phone\\t1421558502\\t47.235050\\t-122.534698\\tTacoma\\t5\\t21\\tApp_Opened',\n",
       " u'001e6d8e-cbe7-4374-8c38-f37962a457e9\\tcom.android.systemui\\t1421017853\\t47.237461\\t-122.530899\\tTacoma\\t6\\t15\\tApp_Opened',\n",
       " u'001e6d8e-cbe7-4374-8c38-f37962a457e9\\tcom.android.settings\\t1421555801\\t47.235050\\t-122.534698\\tTacoma\\t5\\t20\\tApp_Opened',\n",
       " u'001e6d8e-cbe7-4374-8c38-f37962a457e9\\tcom.android.dialer\\t1421555768\\t47.235050\\t-122.534698\\tTacoma\\t5\\t20\\tApp_Opened']"
      ]
     },
     "execution_count": 2,
     "metadata": {},
     "output_type": "execute_result"
    }
   ],
   "source": [
    "rawEventsRdd = sc.textFile(\"/home/axinggu/thesis/code/test/filteredEvents.txt\")\n",
    "rawEventsRdd.take(5)"
   ]
  },
  {
   "cell_type": "code",
   "execution_count": 3,
   "metadata": {
    "collapsed": false
   },
   "outputs": [
    {
     "data": {
      "text/plain": [
       "[EventDataRow(userId=u'001e6d8e-cbe7-4374-8c38-f37962a457e9', itemId=u'com.google.android.googlequicksearchbox', ts=1421521691, latitude=47.23505, longitude=-122.534698, city=u'Tacoma', day_of_week=5, time_of_day=11, event_type=u'App_Opened'),\n",
       " EventDataRow(userId=u'001e6d8e-cbe7-4374-8c38-f37962a457e9', itemId=u'com.android.phone', ts=1421558502, latitude=47.23505, longitude=-122.534698, city=u'Tacoma', day_of_week=5, time_of_day=21, event_type=u'App_Opened'),\n",
       " EventDataRow(userId=u'001e6d8e-cbe7-4374-8c38-f37962a457e9', itemId=u'com.android.systemui', ts=1421017853, latitude=47.237461, longitude=-122.530899, city=u'Tacoma', day_of_week=6, time_of_day=15, event_type=u'App_Opened')]"
      ]
     },
     "execution_count": 3,
     "metadata": {},
     "output_type": "execute_result"
    }
   ],
   "source": [
    "from collections import namedtuple\n",
    "\n",
    "EventDataRow = namedtuple(\"EventDataRow\", [\"userId\", \"itemId\", \"ts\", \"latitude\", \"longitude\", \"city\", \"day_of_week\", \"time_of_day\" , \"event_type\"])\n",
    "\n",
    "def parseRawData(line):\n",
    "    lineSplit = line.split(\"\\t\")\n",
    "    return EventDataRow(userId=lineSplit[0],\n",
    "                      itemId=lineSplit[1],\n",
    "                      ts=int(lineSplit[2]),\n",
    "                      latitude=float(lineSplit[3]),\n",
    "                      longitude=float(lineSplit[4]),\n",
    "                      city=lineSplit[5],\n",
    "                      day_of_week=int(lineSplit[6]),\n",
    "                      time_of_day=int(lineSplit[7]),\n",
    "                      event_type=lineSplit[-1],\n",
    "    )\n",
    "    \n",
    "\n",
    "eventsRdd = rawEventsRdd.map(parseRawData).cache()\n",
    "eventsRdd.take(3)"
   ]
  },
  {
   "cell_type": "code",
   "execution_count": 4,
   "metadata": {
    "collapsed": false,
    "scrolled": true
   },
   "outputs": [],
   "source": [
    "userIdConversionDictionary = eventsRdd.map(lambda x: x.userId).distinct().zipWithIndex().collectAsMap()\n",
    "userIdConversionDictionaryBroadcast = sc.broadcast(userIdConversionDictionary)\n",
    "itemIdConversionDictionary = eventsRdd.map(lambda x: x.itemId).distinct().zipWithIndex().collectAsMap()\n",
    "itemIdConversionDictionaryBroadcast = sc.broadcast(itemIdConversionDictionary)\n",
    "cityConversionDictionary = eventsRdd.map(lambda x: x.city).distinct().zipWithIndex().collectAsMap()\n",
    "cityConversionDictionaryBroadcast = sc.broadcast(cityConversionDictionary)"
   ]
  },
  {
   "cell_type": "code",
   "execution_count": 5,
   "metadata": {
    "collapsed": false
   },
   "outputs": [
    {
     "data": {
      "text/plain": [
       "[EventDataRow(userId=1, itemId=41, ts=1421521691, latitude=47.23505, longitude=-122.534698, city=9, day_of_week=5, time_of_day=11, event_type=u'App_Opened'),\n",
       " EventDataRow(userId=1, itemId=46, ts=1421558502, latitude=47.23505, longitude=-122.534698, city=9, day_of_week=5, time_of_day=21, event_type=u'App_Opened'),\n",
       " EventDataRow(userId=1, itemId=44, ts=1421017853, latitude=47.237461, longitude=-122.530899, city=9, day_of_week=6, time_of_day=15, event_type=u'App_Opened')]"
      ]
     },
     "execution_count": 5,
     "metadata": {},
     "output_type": "execute_result"
    }
   ],
   "source": [
    "   eventsConvertedRdd = eventsRdd.map(lambda x: EventDataRow(\n",
    "    userId=userIdConversionDictionaryBroadcast.value[x.userId],\n",
    "    itemId=itemIdConversionDictionaryBroadcast.value[x.itemId],\n",
    "    ts=x.ts,\n",
    "    latitude=x.latitude,\n",
    "    longitude=x.longitude,\n",
    "    city=cityConversionDictionaryBroadcast.value[x.city],\n",
    "    day_of_week=x.day_of_week,\n",
    "    time_of_day=x.time_of_day,\n",
    "    event_type=x.event_type\n",
    "    ))\n",
    "\n",
    "eventsConvertedRdd.take(3)   \n"
   ]
  },
  {
   "cell_type": "code",
   "execution_count": 6,
   "metadata": {
    "collapsed": false
   },
   "outputs": [
    {
     "data": {
      "text/plain": [
       "[[1, (41, 1421521691)], [1, (46, 1421558502)], [1, (44, 1421017853)]]"
      ]
     },
     "execution_count": 6,
     "metadata": {},
     "output_type": "execute_result"
    }
   ],
   "source": [
    "finalRDD = eventsConvertedRdd.map(lambda x: [\n",
    "    x.userId,(\n",
    "    x.itemId,\n",
    "    x.ts)\n",
    "    ])\n",
    "finalRDD.take(3)\n",
    "#testRDD = allRDD.sample(False, 0.1, 1234)\n",
    "#testRDD.count()\n",
    "#trainRDD = allRDD.filter(lambda x: x and x not in testRDD) it is not working\n",
    "#trainRDD.count()"
   ]
  },
  {
   "cell_type": "code",
   "execution_count": 7,
   "metadata": {
    "collapsed": false
   },
   "outputs": [],
   "source": [
    "groupData = map((lambda (x,y): (x, list(y))), sorted(finalRDD.groupByKey().collect()))\n",
    "#sc.parallelize(groupData).collect()"
   ]
  },
  {
   "cell_type": "code",
   "execution_count": 8,
   "metadata": {
    "collapsed": false
   },
   "outputs": [
    {
     "data": {
      "text/plain": [
       "[0.6083333333333331, 0.5428571428571429]"
      ]
     },
     "execution_count": 8,
     "metadata": {},
     "output_type": "execute_result"
    }
   ],
   "source": [
    "from random import shuffle\n",
    "\n",
    "def remove_duplicates(values):\n",
    "    output = []\n",
    "    seen = set()\n",
    "    for value in values:\n",
    "        # If value has not been encountered yet,\n",
    "        # ... add it to both list and set.\n",
    "        if value not in seen:\n",
    "            output.append(value)\n",
    "            seen.add(value)\n",
    "    return output\n",
    "\n",
    "def lruFunction(line):\n",
    "    listGroup = line[1]\n",
    "    #shuffle(listGroup)                  #shuffle the list\n",
    "    #listGroup = sorted(listGroup,key=lambda x:int(x[1]), reverse=True); \n",
    "    listGroup = sorted(listGroup,key=lambda x:int(x[1])); \n",
    "    l = len(listGroup) \n",
    "    numTrain = l * 8 / 10\n",
    "    numTest = l - numTrain\n",
    "    trainList = listGroup[:numTrain]      #0.8 train set\n",
    "    testList = listGroup[numTrain:]       #0.2 test set\n",
    "    \n",
    "    trainList = sorted(trainList,key=lambda x:int(x[1]), reverse=True);  #sort by timestamp with descending\n",
    "    testList = [t[0] for t in testList]                      #take only id for test set\n",
    "    RecommenderDuplicate =  [t[0] for t in trainList]        #take only id for train set\n",
    "    Recommender = remove_duplicates(RecommenderDuplicate)    #remove duplicate\n",
    "    \n",
    "    if len(Recommender) > 4:\n",
    "        finalRecommender = Recommender[:5]\n",
    "    else:\n",
    "        finalRecommender = [-1,-1,-1,-1,-1]\n",
    "        numRec = len(finalRecommender)\n",
    "        finalRecommender[:numRec] = Recommender\n",
    "    \n",
    "    scores = 0\n",
    "    numHit = 0\n",
    "    for t in testList:\n",
    "        if t == finalRecommender[0]:\n",
    "            scores = scores+1\n",
    "            numHit = numHit+1\n",
    "        elif t == finalRecommender[1]:\n",
    "            scores = scores+0.8\n",
    "            numHit = numHit+1\n",
    "        elif t == finalRecommender[2]:\n",
    "            scores = scores+0.6\n",
    "            numHit = numHit+1\n",
    "        elif t == finalRecommender[3]:\n",
    "            scores = scores+0.4\n",
    "            numHit = numHit+1\n",
    "        elif t == finalRecommender[4]:\n",
    "            scores = scores+0.2\n",
    "            numHit = numHit+1\n",
    "\n",
    "    #scores = scores / numTest\n",
    "    scores = scores / numHit\n",
    "    return scores\n",
    "    #return testList[0],testList[1],testList[2],testList[3],testList[4]\n",
    "    #if len(Recommender) > 4:\n",
    "    #    return line[0], Recommender[0], Recommender[1], Recommender[2], Recommender[3], Recommender[4]\n",
    "    #return line[0],trainList[0],trainList[1],trainList[2],trainList[3],trainList[4],trainList[5],trainList[6],trainList[7]\n",
    "    #return l,len(trainList),len(testList) \n",
    "finalScore = sc.parallelize(groupData).map(lruFunction)\n",
    "finalScore.collect()"
   ]
  },
  {
   "cell_type": "code",
   "execution_count": 9,
   "metadata": {
    "collapsed": false
   },
   "outputs": [
    {
     "data": {
      "text/plain": [
       "[0.2232558139534884, 0.1949367088607594]"
      ]
     },
     "execution_count": 9,
     "metadata": {},
     "output_type": "execute_result"
    }
   ],
   "source": [
    "def mruFunction(line):\n",
    "    listGroup = line[1]\n",
    "    #shuffle(listGroup)                  #shuffle the list\n",
    "    #listGroup = sorted(listGroup,key=lambda x:int(x[1]), reverse=True); \n",
    "    listGroup = sorted(listGroup,key=lambda x:int(x[1])); \n",
    "    l = len(listGroup) \n",
    "    numTrain = l * 8 / 10\n",
    "    numTest = l - numTrain\n",
    "    trainList = listGroup[:numTrain]      #0.9 train set\n",
    "    testList = listGroup[numTrain:]       #0.1 test set\n",
    "    \n",
    "    #trainList = sorted(trainList,key=lambda x:int(x[1]), reverse=True);  #sort by timestamp with descending\n",
    "    testList = [t[0] for t in testList]                      #take only id for test set\n",
    "    RecommenderDuplicate =  [t[0] for t in trainList]        #take only id for train set\n",
    "    Recommender = remove_duplicates(RecommenderDuplicate)    #remove duplicate\n",
    "    \n",
    "    if len(Recommender) > 4:\n",
    "        finalRecommender = Recommender[:5]\n",
    "    else:\n",
    "        finalRecommender = [-1,-1,-1,-1,-1]\n",
    "        numRec = len(finalRecommender)\n",
    "        finalRecommender[:numRec] = Recommender\n",
    "    \n",
    "    scores = 0\n",
    "    numHit = 0\n",
    "    for t in testList:\n",
    "        if t == finalRecommender[0]:\n",
    "            scores = scores+1\n",
    "            numHit = numHit+1\n",
    "        elif t == finalRecommender[1]:\n",
    "            scores = scores+0.8\n",
    "            numHit = numHit+1\n",
    "        elif t == finalRecommender[2]:\n",
    "            scores = scores+0.6\n",
    "            numHit = numHit+1\n",
    "        elif t == finalRecommender[3]:\n",
    "            scores = scores+0.4\n",
    "            numHit = numHit+1\n",
    "        elif t == finalRecommender[4]:\n",
    "            scores = scores+0.2\n",
    "            numHit = numHit+1\n",
    "        else:\n",
    "            numHit = numHit+1\n",
    "\n",
    "    #scores = scores / numTest\n",
    "    scores = scores / numHit\n",
    "    return scores\n",
    "    #return testList[0],testList[1],testList[2],testList[3],testList[4]\n",
    "    #if len(Recommender) > 4:\n",
    "    #    return line[0], Recommender[0], Recommender[1], Recommender[2], Recommender[3], Recommender[4]\n",
    "    #return line[0],trainList[0],trainList[1],trainList[2],trainList[3],trainList[4],trainList[5],trainList[6],trainList[7]\n",
    "    #return l,len(trainList),len(testList) \n",
    "finalScore = sc.parallelize(groupData).map(mruFunction)\n",
    "finalScore.collect()"
   ]
  },
  {
   "cell_type": "code",
   "execution_count": 10,
   "metadata": {
    "collapsed": false
   },
   "outputs": [
    {
     "data": {
      "text/plain": [
       "[0.4372093023255815, 0.2658227848101266]"
      ]
     },
     "execution_count": 10,
     "metadata": {},
     "output_type": "execute_result"
    }
   ],
   "source": [
    "from collections import Counter\n",
    "def mruFunction(line):\n",
    "    listGroup = line[1]\n",
    "    #shuffle(listGroup)                  #shuffle the list\n",
    "    #listGroup = sorted(listGroup,key=lambda x:int(x[1]), reverse=True); \n",
    "    listGroup = sorted(listGroup,key=lambda x:int(x[1])); \n",
    "    l = len(listGroup) \n",
    "    numTrain = l * 8 / 10\n",
    "    numTest = l - numTrain\n",
    "    trainList = listGroup[:numTrain]      #0.9 train set\n",
    "    testList = listGroup[numTrain:]       #0.1 test set\n",
    "    \n",
    "    testList = [t[0] for t in testList]                      #take only id for test set\n",
    "    RecommenderDuplicate =  [t[0] for t in trainList]        #take only id for train set\n",
    "    #Recommender = remove_duplicates(RecommenderDuplicate)    #remove duplicate\n",
    "    Recommender = Counter(RecommenderDuplicate).most_common()\n",
    "    Recommender =  [t[0] for t in Recommender] \n",
    "\n",
    "    if len(Recommender) > 4:\n",
    "        finalRecommender = Recommender[:5]\n",
    "    else:\n",
    "        finalRecommender = [-1,-1,-1,-1,-1]\n",
    "        numRec = len(finalRecommender)\n",
    "        finalRecommender[:numRec] = Recommender\n",
    "    \n",
    "    scores = 0\n",
    "    numHit = 0\n",
    "    for t in testList:\n",
    "        if t == finalRecommender[0]:\n",
    "            scores = scores+1\n",
    "            numHit = numHit+1\n",
    "        elif t == finalRecommender[1]:\n",
    "            scores = scores+0.8\n",
    "            numHit = numHit+1\n",
    "        elif t == finalRecommender[2]:\n",
    "            scores = scores+0.6\n",
    "            numHit = numHit+1\n",
    "        elif t == finalRecommender[3]:\n",
    "            scores = scores+0.4\n",
    "            numHit = numHit+1\n",
    "        elif t == finalRecommender[4]:\n",
    "            scores = scores+0.2\n",
    "            numHit = numHit+1\n",
    "        else:\n",
    "            numHit = numHit+1    \n",
    "\n",
    "    #scores = scores / numTest\n",
    "    scores = scores / numHit\n",
    "    return scores\n",
    "    #return Recommender\n",
    "    #return testList[0],testList[1],testList[2],testList[3],testList[4]\n",
    "    #if len(Recommender) > 4:\n",
    "    #    return line[0], Recommender[0], Recommender[1], Recommender[2], Recommender[3], Recommender[4]\n",
    "    #return line[0],trainList[0],trainList[1],trainList[2],trainList[3],trainList[4],trainList[5],trainList[6],trainList[7]\n",
    "    #return l,len(trainList),len(testList) \n",
    "finalScore = sc.parallelize(groupData).map(mruFunction)\n",
    "finalScore.collect()"
   ]
  },
  {
   "cell_type": "code",
   "execution_count": null,
   "metadata": {
    "collapsed": true
   },
   "outputs": [],
   "source": []
  }
 ],
 "metadata": {
  "kernelspec": {
   "display_name": "pySpark (Spark 1.4.0)",
   "language": "python",
   "name": "pyspark"
  },
  "language_info": {
   "codemirror_mode": {
    "name": "ipython",
    "version": 2
   },
   "file_extension": ".py",
   "mimetype": "text/x-python",
   "name": "python",
   "nbconvert_exporter": "python",
   "pygments_lexer": "ipython2",
   "version": "2.7.6"
  }
 },
 "nbformat": 4,
 "nbformat_minor": 0
}
