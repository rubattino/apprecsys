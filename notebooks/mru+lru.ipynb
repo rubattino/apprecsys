{
 "cells": [
  {
   "cell_type": "code",
   "execution_count": 2,
   "metadata": {
    "collapsed": false
   },
   "outputs": [
    {
     "data": {
      "text/plain": [
       "<pyspark.context.SparkContext at 0x7f80376c0fd0>"
      ]
     },
     "execution_count": 2,
     "metadata": {},
     "output_type": "execute_result"
    }
   ],
   "source": [
    "sc"
   ]
  },
  {
   "cell_type": "code",
   "execution_count": 3,
   "metadata": {
    "collapsed": false
   },
   "outputs": [
    {
     "data": {
      "text/plain": [
       "[u'001e6d8e-cbe7-4374-8c38-f37962a457e9\\tair.com.smashatom.bingo\\t1421009506\\t47.237476\\t-122.530884\\tTacoma\\t6\\t12\\tApp_Opened',\n",
       " u'001e6d8e-cbe7-4374-8c38-f37962a457e9\\tcom.android.vending\\t1421029924\\t47.237476\\t-122.530891\\tTacoma\\t6\\t18\\tApp_Opened',\n",
       " u'001e6d8e-cbe7-4374-8c38-f37962a457e9\\tair.com.buffalo_studios.bingorush2\\t1421015988\\t47.237461\\t-122.530899\\tTacoma\\t6\\t14\\tApp_Opened',\n",
       " u'001e6d8e-cbe7-4374-8c38-f37962a457e9\\tcom.facebook.orca\\t1421318120\\t47.243618\\t-122.513252\\tTacoma\\t3\\t2\\tApp_Opened',\n",
       " u'001e6d8e-cbe7-4374-8c38-f37962a457e9\\tcom.jrdcom.android.gallery3d\\t1421028599\\t47.237442\\t-122.530899\\tTacoma\\t6\\t18\\tApp_Opened']"
      ]
     },
     "execution_count": 3,
     "metadata": {},
     "output_type": "execute_result"
    }
   ],
   "source": [
    "rawEventsRdd = sc.textFile(\"/home/mert/yahoo/events.txt\")\n",
    "rawEventsRdd.take(5)"
   ]
  },
  {
   "cell_type": "code",
   "execution_count": 4,
   "metadata": {
    "collapsed": false
   },
   "outputs": [
    {
     "data": {
      "text/plain": [
       "[EventDataRow(userId=u'001e6d8e-cbe7-4374-8c38-f37962a457e9', itemId=u'air.com.smashatom.bingo', ts=1421009506, latitude=47.237476, longitude=-122.530884, city=u'Tacoma', day_of_week=6, time_of_day=12, event_type=u'App_Opened'),\n",
       " EventDataRow(userId=u'001e6d8e-cbe7-4374-8c38-f37962a457e9', itemId=u'com.android.vending', ts=1421029924, latitude=47.237476, longitude=-122.530891, city=u'Tacoma', day_of_week=6, time_of_day=18, event_type=u'App_Opened'),\n",
       " EventDataRow(userId=u'001e6d8e-cbe7-4374-8c38-f37962a457e9', itemId=u'air.com.buffalo_studios.bingorush2', ts=1421015988, latitude=47.237461, longitude=-122.530899, city=u'Tacoma', day_of_week=6, time_of_day=14, event_type=u'App_Opened')]"
      ]
     },
     "execution_count": 4,
     "metadata": {},
     "output_type": "execute_result"
    }
   ],
   "source": [
    "from collections import namedtuple\n",
    "\n",
    "EventDataRow = namedtuple(\"EventDataRow\", [\"userId\", \"itemId\", \"ts\", \"latitude\", \"longitude\", \"city\", \"day_of_week\", \"time_of_day\" , \"event_type\"])\n",
    "\n",
    "def parseRawData(line):\n",
    "    lineSplit = line.split(\"\\t\")\n",
    "    return EventDataRow(userId=lineSplit[0],\n",
    "                      itemId=lineSplit[1],\n",
    "                      ts=int(lineSplit[2]),\n",
    "                      latitude=float(lineSplit[3]),\n",
    "                      longitude=float(lineSplit[4]),\n",
    "                      city=lineSplit[5],\n",
    "                      day_of_week=int(lineSplit[6]),\n",
    "                      time_of_day=int(lineSplit[7]),\n",
    "                      event_type=lineSplit[-1],\n",
    "    )\n",
    "    \n",
    "\n",
    "eventsRdd = rawEventsRdd.map(parseRawData).cache()\n",
    "eventsRdd.take(3)"
   ]
  },
  {
   "cell_type": "code",
   "execution_count": 5,
   "metadata": {
    "collapsed": true
   },
   "outputs": [],
   "source": [
    "userIdConversionDictionary = eventsRdd.map(lambda x: x.userId).distinct().zipWithIndex().collectAsMap()\n",
    "userIdConversionDictionaryBroadcast = sc.broadcast(userIdConversionDictionary)\n",
    "itemIdConversionDictionary = eventsRdd.map(lambda x: x.itemId).distinct().zipWithIndex().collectAsMap()\n",
    "itemIdConversionDictionaryBroadcast = sc.broadcast(itemIdConversionDictionary)\n",
    "cityConversionDictionary = eventsRdd.map(lambda x: x.city).distinct().zipWithIndex().collectAsMap()\n",
    "cityConversionDictionaryBroadcast = sc.broadcast(cityConversionDictionary)"
   ]
  },
  {
   "cell_type": "code",
   "execution_count": 6,
   "metadata": {
    "collapsed": false
   },
   "outputs": [
    {
     "data": {
      "text/plain": [
       "[EventDataRow(userId=163385, itemId=77275, ts=1421009506, latitude=47.237476, longitude=-122.530884, city=13209, day_of_week=6, time_of_day=12, event_type=u'App_Opened'),\n",
       " EventDataRow(userId=163385, itemId=44053, ts=1421029924, latitude=47.237476, longitude=-122.530891, city=13209, day_of_week=6, time_of_day=18, event_type=u'App_Opened'),\n",
       " EventDataRow(userId=163385, itemId=83370, ts=1421015988, latitude=47.237461, longitude=-122.530899, city=13209, day_of_week=6, time_of_day=14, event_type=u'App_Opened')]"
      ]
     },
     "execution_count": 6,
     "metadata": {},
     "output_type": "execute_result"
    }
   ],
   "source": [
    "eventsConvertedRdd = eventsRdd.map(lambda x: EventDataRow(\n",
    "    userId=userIdConversionDictionaryBroadcast.value[x.userId],\n",
    "    itemId=itemIdConversionDictionaryBroadcast.value[x.itemId],\n",
    "    ts=x.ts,\n",
    "    latitude=x.latitude,\n",
    "    longitude=x.longitude,\n",
    "    city=cityConversionDictionaryBroadcast.value[x.city],\n",
    "    day_of_week=x.day_of_week,\n",
    "    time_of_day=x.time_of_day,\n",
    "    event_type=x.event_type\n",
    "    ))\n",
    "\n",
    "eventsConvertedRdd.take(3)"
   ]
  },
  {
   "cell_type": "code",
   "execution_count": 7,
   "metadata": {
    "collapsed": false
   },
   "outputs": [
    {
     "data": {
      "text/plain": [
       "[[163385, (77275, 1421009506)],\n",
       " [163385, (44053, 1421029924)],\n",
       " [163385, (83370, 1421015988)]]"
      ]
     },
     "execution_count": 7,
     "metadata": {},
     "output_type": "execute_result"
    }
   ],
   "source": [
    "finalRDD = eventsConvertedRdd.map(lambda x: [\n",
    "    x.userId,(\n",
    "    x.itemId,\n",
    "    x.ts)\n",
    "    ])\n",
    "finalRDD.take(3)\n",
    "#testRDD = allRDD.sample(False, 0.1, 1234)\n",
    "#testRDD.count()\n",
    "#trainRDD = allRDD.filter(lambda x: x and x not in testRDD) it is not working\n",
    "#trainRDD.count()"
   ]
  },
  {
   "cell_type": "code",
   "execution_count": 8,
   "metadata": {
    "collapsed": true
   },
   "outputs": [],
   "source": [
    "groupData = finalRDD.groupByKey().map(lambda (x, y): (x, list(y)))\n",
    "#groupData = map((lambda (x,y): (x, list(y))), sorted(finalRDD.groupByKey().collect()))\n",
    "#sc.parallelize(groupData).collect()"
   ]
  },
  {
   "cell_type": "code",
   "execution_count": 15,
   "metadata": {
    "collapsed": false
   },
   "outputs": [
    {
     "data": {
      "text/plain": [
       "0.44746548532394254"
      ]
     },
     "execution_count": 15,
     "metadata": {},
     "output_type": "execute_result"
    }
   ],
   "source": [
    "from random import shuffle\n",
    "\n",
    "def remove_duplicates(values):\n",
    "    output = []\n",
    "    seen = set()\n",
    "    for value in values:\n",
    "        # If value has not been encountered yet,\n",
    "        # ... add it to both list and set.\n",
    "        if value not in seen:\n",
    "            output.append(value)\n",
    "            seen.add(value)\n",
    "    return output\n",
    "\n",
    "def lruFunction(line):\n",
    "    listGroup = line[1]\n",
    "    #shuffle(listGroup)                  #shuffle the list\n",
    "    #listGroup = sorted(listGroup,key=lambda x:int(x[1]), reverse=True); \n",
    "    listGroup = sorted(listGroup,key=lambda x:int(x[1])); \n",
    "    l = len(listGroup) \n",
    "    numTrain = l * 8 / 10\n",
    "    numTest = l - numTrain\n",
    "    trainList = listGroup[:numTrain]      #0.8 train set\n",
    "    testList = listGroup[numTrain:]       #0.2 test set\n",
    "    \n",
    "    trainList = sorted(trainList,key=lambda x:int(x[1]), reverse=True);  #sort by timestamp with descending\n",
    "    testList = [t[0] for t in testList]                      #take only id for test set\n",
    "    RecommenderDuplicate =  [t[0] for t in trainList]        #take only id for train set\n",
    "    Recommender = remove_duplicates(RecommenderDuplicate)    #remove duplicate\n",
    "    \n",
    "    if len(Recommender) > 4:\n",
    "        finalRecommender = Recommender[:5]\n",
    "    else:    \n",
    "        finalRecommender = [-1,-1,-1,-1,-1]\n",
    "        numRec = len(finalRecommender)\n",
    "        finalRecommender[:numRec] = Recommender\n",
    "    \n",
    "    scores = 0\n",
    "    numHit = 0\n",
    "    if len(t) ==0 or len(finalRecommender) <5:\n",
    "        scores = 0\n",
    "    else:\n",
    "        for t in testList:\n",
    "            if t == finalRecommender[0]:\n",
    "                scores = scores+1.0\n",
    "                numHit = numHit+1\n",
    "            elif t == finalRecommender[1]:\n",
    "                scores = scores+1.0                \n",
    "                numHit = numHit+1\n",
    "            elif t == finalRecommender[2]:\n",
    "                scores = scores+1.0\n",
    "                numHit = numHit+1\n",
    "            elif t == finalRecommender[3]:\n",
    "                scores = scores+1.0\n",
    "                numHit = numHit+1\n",
    "            elif t == finalRecommender[4]:\n",
    "                scores = scores+1.0\n",
    "                numHit = numHit+1\n",
    "            else:\n",
    "                 numHit = numHit+1\n",
    "#         scores = scores / numTest\n",
    "        if numHit != 0:\n",
    "            scores = scores / numHit\n",
    "        else:\n",
    "            scores = 0\n",
    "    return scores\n",
    "    #return testList[0],testList[1],testList[2],testList[3],testList[4]\n",
    "    #if len(Recommender) > 4:\n",
    "    #    return line[0], Recommender[0], Recommender[1], Recommender[2], Recommender[3], Recommender[4]\n",
    "    #return line[0],trainList[0],trainList[1],trainList[2],trainList[3],trainList[4],trainList[5],trainList[6],trainList[7]\n",
    "    #return l,len(trainList),len(testList) \n",
    "finalScore = groupData.map(lruFunction)\n",
    "finalScore.mean()"
   ]
  },
  {
   "cell_type": "code",
   "execution_count": 18,
   "metadata": {
    "collapsed": false
   },
   "outputs": [
    {
     "data": {
      "text/plain": [
       "0.3765235665432925"
      ]
     },
     "execution_count": 18,
     "metadata": {},
     "output_type": "execute_result"
    }
   ],
   "source": [
    "def mruFunction(line):\n",
    "    listGroup = line[1]\n",
    "    #shuffle(listGroup)                  #shuffle the list\n",
    "    #listGroup = sorted(listGroup,key=lambda x:int(x[1]), reverse=True); \n",
    "    listGroup = sorted(listGroup,key=lambda x:int(x[1])); \n",
    "    l = len(listGroup) \n",
    "    numTrain = l * 8 / 10\n",
    "    numTest = l - numTrain\n",
    "    trainList = listGroup[:numTrain]      #0.8 train set\n",
    "    testList = listGroup[numTrain:]       #0.2 test set\n",
    "    \n",
    "    #trainList = sorted(trainList,key=lambda x:int(x[1]), reverse=True);  #sort by timestamp with descending\n",
    "    testList = [t[0] for t in testList]                      #take only id for test set\n",
    "    RecommenderDuplicate =  [t[0] for t in trainList]        #take only id for train set\n",
    "    Recommender = remove_duplicates(RecommenderDuplicate)    #remove duplicate\n",
    "    \n",
    "    if len(Recommender) > 4:\n",
    "        finalRecommender = Recommender[:5]\n",
    "    else:\n",
    "        finalRecommender = [-1,-1,-1,-1,-1]\n",
    "        numRec = len(finalRecommender)\n",
    "        finalRecommender[:numRec] = Recommender\n",
    "    \n",
    "    scores = 0\n",
    "    numHit = 0\n",
    "    if len(t) ==0 or len(finalRecommender) <5:\n",
    "        scores = 0\n",
    "    else:\n",
    "        for t in testList:\n",
    "            if t == finalRecommender[0]:\n",
    "                scores = scores+1.0\n",
    "                numHit = numHit+1\n",
    "            elif t == finalRecommender[1]:\n",
    "                scores = scores+1.0\n",
    "                numHit = numHit+1\n",
    "            elif t == finalRecommender[2]:\n",
    "                scores = scores+1.0\n",
    "                numHit = numHit+1\n",
    "            elif t == finalRecommender[3]:\n",
    "                scores = scores+1.0\n",
    "                numHit = numHit+1\n",
    "            elif t == finalRecommender[4]:\n",
    "                scores = scores+1.0\n",
    "                numHit = numHit+1\n",
    "            else:\n",
    "                numHit = numHit+1\n",
    "        #scores = scores / numTest\n",
    "        if numHit != 0:\n",
    "            scores = scores / numHit\n",
    "        else:\n",
    "            scores = 0\n",
    "    #return scores\n",
    "    return scores\n",
    "    #return testList[0],testList[1],testList[2],testList[3],testList[4]\n",
    "    #if len(Recommender) > 4:\n",
    "    #    return line[0], Recommender[0], Recommender[1], Recommender[2], Recommender[3], Recommender[4]\n",
    "    #return line[0],trainList[0],trainList[1],trainList[2],trainList[3],trainList[4],trainList[5],trainList[6],trainList[7]\n",
    "    #return l,len(trainList),len(testList) \n",
    "finalScore = groupData.map(mruFunction)\n",
    "finalScore.mean()#,finalScore.count()"
   ]
  },
  {
   "cell_type": "code",
   "execution_count": 21,
   "metadata": {
    "collapsed": false
   },
   "outputs": [
    {
     "data": {
      "text/plain": [
       "0.6885997714189959"
      ]
     },
     "execution_count": 21,
     "metadata": {},
     "output_type": "execute_result"
    }
   ],
   "source": [
    "from collections import Counter\n",
    "def mruFunction(line):\n",
    "    listGroup = line[1]\n",
    "    #shuffle(listGroup)                  #shuffle the list\n",
    "    #listGroup = sorted(listGroup,key=lambda x:int(x[1]), reverse=True); \n",
    "    listGroup = sorted(listGroup,key=lambda x:int(x[1])); \n",
    "    l = len(listGroup) \n",
    "    numTrain = l * 8 / 10\n",
    "    numTest = l - numTrain\n",
    "    trainList = listGroup[:numTrain]      #0.9 train set\n",
    "    testList = listGroup[numTrain:]       #0.1 test set\n",
    "    \n",
    "    testList = [t[0] for t in testList]                      #take only id for test set\n",
    "    RecommenderDuplicate =  [t[0] for t in trainList]        #take only id for train set\n",
    "    #Recommender = remove_duplicates(RecommenderDuplicate)    #remove duplicate\n",
    "    Recommender = Counter(RecommenderDuplicate).most_common()\n",
    "    Recommender =  [t[0] for t in Recommender] \n",
    "\n",
    "    if len(Recommender) > 4:\n",
    "        finalRecommender = Recommender[:5]\n",
    "    else:\n",
    "        finalRecommender = [-1,-1,-1,-1,-1]\n",
    "        numRec = len(finalRecommender)\n",
    "        finalRecommender[:numRec] = Recommender\n",
    "    \n",
    "    scores = 0\n",
    "    numHit = 0\n",
    "    if len(t) ==0 or len(finalRecommender) <5:\n",
    "        scores = 0\n",
    "    else:\n",
    "        for t in testList:\n",
    "            if t == finalRecommender[0]:\n",
    "                scores = scores+1.0\n",
    "                numHit = numHit+1\n",
    "            elif t == finalRecommender[1]:\n",
    "                scores = scores+0.8\n",
    "                numHit = numHit+1\n",
    "            elif t == finalRecommender[2]:\n",
    "                scores = scores+0.6\n",
    "                numHit = numHit+1\n",
    "            elif t == finalRecommender[3]:\n",
    "                scores = scores+0.4\n",
    "                numHit = numHit+1\n",
    "            elif t == finalRecommender[4]:\n",
    "                scores = scores+0.2\n",
    "                numHit = numHit+1\n",
    "#             else:\n",
    "#                 numHit = numHit+1    \n",
    "        #scores = scores / numTest\n",
    "        if numHit != 0:\n",
    "            scores = scores / numHit\n",
    "        else:\n",
    "            scores = 0\n",
    "    return scores\n",
    "    #return Recommender\n",
    "    #return testList[0],testList[1],testList[2],testList[3],testList[4]\n",
    "    #if len(Recommender) > 4:\n",
    "    #    return line[0], Recommender[0], Recommender[1], Recommender[2], Recommender[3], Recommender[4]\n",
    "    #return line[0],trainList[0],trainList[1],trainList[2],trainList[3],trainList[4],trainList[5],trainList[6],trainList[7]\n",
    "    #return l,len(trainList),len(testList) \n",
    "finalScore = groupData.map(mruFunction)\n",
    "finalScore.mean()"
   ]
  },
  {
   "cell_type": "code",
   "execution_count": null,
   "metadata": {
    "collapsed": true
   },
   "outputs": [],
   "source": [
    ""
   ]
  }
 ],
 "metadata": {
  "kernelspec": {
   "display_name": "Python 2",
   "language": "python",
   "name": "python2"
  },
  "language_info": {
   "codemirror_mode": {
    "name": "ipython",
    "version": 2.0
   },
   "file_extension": ".py",
   "mimetype": "text/x-python",
   "name": "python",
   "nbconvert_exporter": "python",
   "pygments_lexer": "ipython2",
   "version": "2.7.10"
  }
 },
 "nbformat": 4,
 "nbformat_minor": 0
}