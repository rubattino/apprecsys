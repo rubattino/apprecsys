{
 "cells": [
  {
   "cell_type": "code",
   "execution_count": 2,
   "metadata": {
    "collapsed": false
   },
   "outputs": [
    {
     "data": {
      "text/plain": [
       "[u'001e6d8e-cbe7-4374-8c38-f37962a457e9\\tair.com.smashatom.bingo\\t1421009506\\t47.237476\\t-122.530884\\tTacoma\\t6\\t12\\tApp_Opened',\n",
       " u'001e6d8e-cbe7-4374-8c38-f37962a457e9\\tcom.android.vending\\t1421029924\\t47.237476\\t-122.530891\\tTacoma\\t6\\t18\\tApp_Opened',\n",
       " u'001e6d8e-cbe7-4374-8c38-f37962a457e9\\tair.com.buffalo_studios.bingorush2\\t1421015988\\t47.237461\\t-122.530899\\tTacoma\\t6\\t14\\tApp_Opened']"
      ]
     },
     "execution_count": 2,
     "metadata": {},
     "output_type": "execute_result"
    }
   ],
   "source": [
    "eventsPath = os.environ[\"YAHOO_DATA\"]\n",
    "rawEventsRdd = sc.textFile(eventsPath + \"events.txt\")\n",
    "rawEventsRdd.take(3)"
   ]
  },
  {
   "cell_type": "code",
   "execution_count": 3,
   "metadata": {
    "collapsed": false
   },
   "outputs": [
    {
     "data": {
      "text/plain": [
       "[u'001e6d8e-cbe7-4374-8c38-f37962a457e9\\t{(com.android.dialer),(com.tct.soundrecorder),(com.android.systemui),(com.google.android.googlequicksearchbox),(com.android.email),(com.google.android.gm),(com.android.vending),(com.google.android.videos),(com.android.music),(com.jrdcom.torch),(com.android.calculator2),(com.android.phone),(com.playstudios.myvegas),(com.jrdcom.fmradio),(com.google.android.feedback),(com.android.browser),(com.google.android.music),(com.Qublix.SolitaireAtlantis),(com.facebook.orca),(com.android.chrome),(com.phonato.bingo.activities),(air.com.buffalo_studios.bingorush2),(com.offerup),(com.facebook.katana),(com.metropcs.service.vvm),(com.google.android.youtube),(com.jrdcom.android.gallery3d),(com.google.android.play.games),(com.google.android.talk),(com.teamlava.jewel),(com.google.android.videoeditor),(com.android.calendar),(com.google.android.apps.maps),(com.ea.BejeweledBlitz_na),(air.com.smashatom.bingo),(com.android.contacts),(com.android.mms),(com.android.settings),(com.mobileposse.client)}',\n",
       " u'005ca0a2-6e94-4709-adc6-f35cdd50bf8f\\t{(com.android.vending),(com.android.phone),(com.motorola.android.omadm.sprint.client),(com.tul.aviate),(com.android.dialer),(com.facebook.katana),(com.wandoujia.roshan),(com.motorola.camera),(com.google.android.music),(com.google.android.googlequicksearchbox),(com.motorola.sprintroaming),(com.android.chrome),(com.google.android.apps.maps),(com.android.mms),(com.android.settings),(com.android.bluetooth),(com.google.android.deskclock),(com.surpax.ledflashlight.panel),(com.google.android.youtube),(com.android.contacts),(com.snapchat.android),(android),(com.dianxinos.optimizer.duplay),(com.android.systemui),(com.facebook.orca),(sg.gumi.bravefrontier)}',\n",
       " u'009ef415-eb39-4f3e-8714-2b22a6490fbb\\t{(com.pandora.android),(com.birdstep.android.cm),(com.google.android.googlequicksearchbox),(com.android.settings),(com.coremobility.app.vnotes),(com.vlingo.midas),(com.android.vending),(com.tdo.showbox),(com.android.mms),(com.android.browser),(com.sec.android.app.popupcalculator),(com.sec.android.app.voicerecorder),(com.shazam.android),(com.sec.android.app.videoplayer),(com.bslapps1.gbc),(com.android.contacts),(com.google.android.youtube),(com.nuance.swype.input),(com.google.android.gm),(com.sec.android.app.camera),(com.android.calendar),(com.google.android.apps.books),(com.snapchat.android),(com.sec.android.app.clockpackage),(com.android.phone),(com.yahoo.mobile.client.android.mail),(com.sec.android.gallery3d),(android),(com.sec.android.app.music),(com.google.android.apps.maps),(hr.podlanica)}']"
      ]
     },
     "execution_count": 3,
     "metadata": {},
     "output_type": "execute_result"
    }
   ],
   "source": [
    "rawAppListRdd = sc.textFile(eventsPath + \"userapplist.txt\")\n",
    "rawAppListRdd.take(3)"
   ]
  },
  {
   "cell_type": "code",
   "execution_count": 4,
   "metadata": {
    "collapsed": false
   },
   "outputs": [
    {
     "data": {
      "text/plain": [
       "[EventDataRow(userId=u'001e6d8e-cbe7-4374-8c38-f37962a457e9', itemId=u'air.com.smashatom.bingo', ts=1421009506, latitude=47.237476, longitude=-122.530884, city=u'Tacoma', day_of_week=6, time_of_day=12, event_type=u'App_Opened'),\n",
       " EventDataRow(userId=u'001e6d8e-cbe7-4374-8c38-f37962a457e9', itemId=u'com.android.vending', ts=1421029924, latitude=47.237476, longitude=-122.530891, city=u'Tacoma', day_of_week=6, time_of_day=18, event_type=u'App_Opened'),\n",
       " EventDataRow(userId=u'001e6d8e-cbe7-4374-8c38-f37962a457e9', itemId=u'air.com.buffalo_studios.bingorush2', ts=1421015988, latitude=47.237461, longitude=-122.530899, city=u'Tacoma', day_of_week=6, time_of_day=14, event_type=u'App_Opened')]"
      ]
     },
     "execution_count": 4,
     "metadata": {},
     "output_type": "execute_result"
    }
   ],
   "source": [
    "from collections import namedtuple\n",
    "\n",
    "EventDataRow = namedtuple(\"EventDataRow\", [\"userId\", \"itemId\", \"ts\", \"latitude\", \"longitude\", \"city\", \"day_of_week\", \"time_of_day\" , \"event_type\"])\n",
    "\n",
    "def parseRawData(line):\n",
    "    lineSplit = line.split(\"\\t\")\n",
    "    return EventDataRow(userId=lineSplit[0],\n",
    "                      itemId=lineSplit[1],\n",
    "                      ts=int(lineSplit[2]),\n",
    "                      latitude=float(lineSplit[3]),\n",
    "                      longitude=float(lineSplit[4]),\n",
    "                      city=lineSplit[5],\n",
    "                      day_of_week=int(lineSplit[6]),\n",
    "                      time_of_day=int(lineSplit[7]),\n",
    "                      event_type=lineSplit[-1],\n",
    "    )\n",
    "    \n",
    "\n",
    "eventsRdd = rawEventsRdd.map(parseRawData).cache()\n",
    "eventsRdd.take(3)"
   ]
  },
  {
   "cell_type": "code",
   "execution_count": 5,
   "metadata": {
    "collapsed": false
   },
   "outputs": [
    {
     "data": {
      "text/plain": [
       "[EventDataRow(userId=u'03524163-5cdb-41a0-a983-a8332c00fe21', itemId=u'com.android.settings', ts=1421272442, latitude=42.344059, longitude=-71.097946, city=u'', day_of_week=2, time_of_day=16, event_type=u'App_Opened'),\n",
       " EventDataRow(userId=u'03524163-5cdb-41a0-a983-a8332c00fe21', itemId=u'com.umonistudio.tile', ts=1421260147, latitude=42.344036, longitude=-71.098083, city=u'', day_of_week=2, time_of_day=13, event_type=u'App_Opened'),\n",
       " EventDataRow(userId=u'03524163-5cdb-41a0-a983-a8332c00fe21', itemId=u'com.Splitwise.SplitwiseMobile', ts=1421065503, latitude=42.344025, longitude=-71.098038, city=u'', day_of_week=0, time_of_day=7, event_type=u'App_Opened'),\n",
       " EventDataRow(userId=u'03524163-5cdb-41a0-a983-a8332c00fe21', itemId=u'com.whatsapp', ts=1421326131, latitude=42.340755, longitude=-71.088097, city=u'', day_of_week=3, time_of_day=7, event_type=u'App_Opened'),\n",
       " EventDataRow(userId=u'03524163-5cdb-41a0-a983-a8332c00fe21', itemId=u'com.android.chrome', ts=1420980810, latitude=42.344002, longitude=-71.098061, city=u'', day_of_week=6, time_of_day=7, event_type=u'App_Opened'),\n",
       " EventDataRow(userId=u'03524163-5cdb-41a0-a983-a8332c00fe21', itemId=u'com.skype.raider', ts=1421561308, latitude=42.344055, longitude=-71.098022, city=u'', day_of_week=6, time_of_day=1, event_type=u'App_Opened'),\n",
       " EventDataRow(userId=u'03524163-5cdb-41a0-a983-a8332c00fe21', itemId=u'com.google.android.dialer', ts=1421260300, latitude=42.344044, longitude=-71.098122, city=u'', day_of_week=2, time_of_day=13, event_type=u'App_Opened'),\n",
       " EventDataRow(userId=u'03524163-5cdb-41a0-a983-a8332c00fe21', itemId=u'com.android.settings', ts=1421426727, latitude=42.340786, longitude=-71.088028, city=u'', day_of_week=4, time_of_day=11, event_type=u'App_Opened'),\n",
       " EventDataRow(userId=u'03524163-5cdb-41a0-a983-a8332c00fe21', itemId=u'com.whatsapp', ts=1421328119, latitude=42.340775, longitude=-71.088043, city=u'', day_of_week=3, time_of_day=8, event_type=u'App_Opened'),\n",
       " EventDataRow(userId=u'03524163-5cdb-41a0-a983-a8332c00fe21', itemId=u'com.whatsapp', ts=1421168311, latitude=42.344055, longitude=-71.098076, city=u'', day_of_week=1, time_of_day=11, event_type=u'App_Opened')]"
      ]
     },
     "execution_count": 5,
     "metadata": {},
     "output_type": "execute_result"
    }
   ],
   "source": [
    "eventsRdd.filter(lambda x: x.city==\"\" ).take(10)"
   ]
  },
  {
   "cell_type": "code",
   "execution_count": 7,
   "metadata": {
    "collapsed": true
   },
   "outputs": [],
   "source": [
    "userIdConversionDictionary = eventsRdd.map(lambda x: x.userId).distinct().zipWithIndex().collectAsMap()\n",
    "userIdConversionDictionaryBroadcast = sc.broadcast(userIdConversionDictionary)\n",
    "itemIdConversionDictionary = eventsRdd.map(lambda x: x.itemId).distinct().zipWithIndex().collectAsMap()\n",
    "itemIdConversionDictionaryBroadcast = sc.broadcast(itemIdConversionDictionary)\n",
    "cityConversionDictionary = eventsRdd.map(lambda x: x.city).distinct().zipWithIndex().collectAsMap()\n",
    "cityConversionDictionaryBroadcast = sc.broadcast(cityConversionDictionary)"
   ]
  },
  {
   "cell_type": "code",
   "execution_count": 8,
   "metadata": {
    "collapsed": false
   },
   "outputs": [
    {
     "data": {
      "text/plain": [
       "[EventDataRow(userId=163385, itemId=77275, ts=1421009506, latitude=47.237476, longitude=-122.530884, city=13209, day_of_week=6, time_of_day=12, event_type=u'App_Opened'),\n",
       " EventDataRow(userId=163385, itemId=44053, ts=1421029924, latitude=47.237476, longitude=-122.530891, city=13209, day_of_week=6, time_of_day=18, event_type=u'App_Opened'),\n",
       " EventDataRow(userId=163385, itemId=83370, ts=1421015988, latitude=47.237461, longitude=-122.530899, city=13209, day_of_week=6, time_of_day=14, event_type=u'App_Opened')]"
      ]
     },
     "execution_count": 8,
     "metadata": {},
     "output_type": "execute_result"
    }
   ],
   "source": [
    "eventsConvertedRdd = eventsRdd.map(lambda x: EventDataRow(\n",
    "    userId=userIdConversionDictionaryBroadcast.value[x.userId],\n",
    "    itemId=itemIdConversionDictionaryBroadcast.value[x.itemId],\n",
    "    ts=x.ts,\n",
    "    latitude=x.latitude,\n",
    "    longitude=x.longitude,\n",
    "    city=cityConversionDictionaryBroadcast.value[x.city],\n",
    "    day_of_week=x.day_of_week,\n",
    "    time_of_day=x.time_of_day,\n",
    "    event_type=x.event_type\n",
    "    ))\n",
    "\n",
    "eventsConvertedRdd.take(3)"
   ]
  },
  {
   "cell_type": "code",
   "execution_count": 11,
   "metadata": {
    "collapsed": false
   },
   "outputs": [],
   "source": [
    "eventsConvertedRdd.filter(lambda eventRaw: eventRaw.event_type=='App_Opened').map(lambda eventRaw: (\n",
    "    eventRaw.userId,eventRaw.itemId,eventRaw.ts,eventRaw.city,eventRaw.day_of_week,eventRaw.time_of_day,\n",
    "    eventRaw.latitude,eventRaw.longitude)\n",
    "        ).saveAsTextFile(eventsPath + \"events_parsed\")"
   ]
  },
  {
   "cell_type": "code",
   "execution_count": null,
   "metadata": {
    "collapsed": true
   },
   "outputs": [],
   "source": [
    "import json\n",
    "with open(eventsPath + 'userIdConversionDictionary.txt', 'w') as outfile:\n",
    "    json.dump(userIdConversionDictionary, outfile)\n",
    "with open(eventsPath + 'itemIdConversionDictionary.txt', 'w') as outfile:\n",
    "    json.dump(itemIdConversionDictionary, outfile)\n",
    "with open(eventsPath + 'cityConversionDictionary.txt', 'w') as outfile:\n",
    "    json.dump(cityConversionDictionary, outfile)"
   ]
  },
  {
   "cell_type": "code",
   "execution_count": null,
   "metadata": {
    "collapsed": false
   },
   "outputs": [],
   "source": [
    "def parseUserAppList(line):\n",
    "    lineSplit = line.split(\"\\t\")\n",
    "    return userIdConversionDictionary[lineSplit[0]],[itemIdConversionDictionary[app[1:-1]] for app in lineSplit[1][1:-1].split(\",\")]\n",
    "\n",
    "appListRdd = rawAppListRdd.map(parseUserAppList)\n",
    "appListMap = appListRdd.collectAsMap()\n",
    "with open(eventsPath + '/userAppMap.txt', 'w') as outfile:\n",
    "    json.dump(appListMap, outfile)\n",
    "appListRdd.take(3)"
   ]
  },
  {
   "cell_type": "code",
   "execution_count": null,
   "metadata": {
    "collapsed": true
   },
   "outputs": [],
   "source": []
  }
 ],
 "metadata": {
  "kernelspec": {
   "display_name": "Python 2",
   "language": "python",
   "name": "python2"
  },
  "language_info": {
   "codemirror_mode": {
    "name": "ipython",
    "version": 2
   },
   "file_extension": ".py",
   "mimetype": "text/x-python",
   "name": "python",
   "nbconvert_exporter": "python",
   "pygments_lexer": "ipython2",
   "version": "2.7.10"
  }
 },
 "nbformat": 4,
 "nbformat_minor": 0
}
