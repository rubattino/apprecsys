{
 "cells": [
  {
   "cell_type": "code",
   "execution_count": 2,
   "metadata": {
    "collapsed": false
   },
   "outputs": [
    {
     "data": {
      "text/plain": [
       "[u'001e6d8e-cbe7-4374-8c38-f37962a457e9\\tair.com.buffalo_studios.bingorush2\\t1420974077\\t47.237461\\t-122.530907\\tTacoma\\t6\\t3\\tApp_Installed\\tinstall',\n",
       " u'009ef415-eb39-4f3e-8714-2b22a6490fbb\\tcom.pandora.android\\t1421228526\\t37.353397\\t-121.944977\\tSanta Clara\\t2\\t1\\tApp_Installed\\tinstall',\n",
       " u'01fb3e32-5e7f-498d-aa51-aa8eabdb12ac\\tcom.fractal360.go.launcherex.theme.gfl\\t1421543961\\t33.842270\\t-84.211357\\tTucker\\t5\\t20\\tApp_Installed\\tinstall']"
      ]
     },
     "execution_count": 2,
     "metadata": {},
     "output_type": "execute_result"
    }
   ],
   "source": [
    "eventsPath = os.environ[\"YAHOO_DATA\"]\n",
    "rawEventsRdd = sc.textFile(eventsPath + \"installs.txt\")\n",
    "rawEventsRdd.take(3)"
   ]
  },
  {
   "cell_type": "code",
   "execution_count": 3,
   "metadata": {
    "collapsed": false
   },
   "outputs": [
    {
     "data": {
      "text/plain": [
       "[EventDataRow(userId=u'001e6d8e-cbe7-4374-8c38-f37962a457e9', itemId=u'air.com.buffalo_studios.bingorush2', ts=1420974077, latitude=47.237461, longitude=-122.530907, city=u'Tacoma', day_of_week=6, time_of_day=3, event_type=u'install'),\n",
       " EventDataRow(userId=u'009ef415-eb39-4f3e-8714-2b22a6490fbb', itemId=u'com.pandora.android', ts=1421228526, latitude=37.353397, longitude=-121.944977, city=u'Santa Clara', day_of_week=2, time_of_day=1, event_type=u'install'),\n",
       " EventDataRow(userId=u'01fb3e32-5e7f-498d-aa51-aa8eabdb12ac', itemId=u'com.fractal360.go.launcherex.theme.gfl', ts=1421543961, latitude=33.84227, longitude=-84.211357, city=u'Tucker', day_of_week=5, time_of_day=20, event_type=u'install')]"
      ]
     },
     "execution_count": 3,
     "metadata": {},
     "output_type": "execute_result"
    }
   ],
   "source": [
    "from collections import namedtuple\n",
    "\n",
    "EventDataRow = namedtuple(\"EventDataRow\", [\"userId\", \"itemId\", \"ts\", \"latitude\", \n",
    "                                           \"longitude\", \"city\", \"day_of_week\", \"time_of_day\" , \"event_type\"])\n",
    "\n",
    "def parseRawData(line):\n",
    "    lineSplit = line.split(\"\\t\")\n",
    "    return EventDataRow(userId=lineSplit[0],\n",
    "                      itemId=lineSplit[1],\n",
    "                      ts=int(lineSplit[2]),\n",
    "                      latitude=float(lineSplit[3]),\n",
    "                      longitude=float(lineSplit[4]),\n",
    "                      city=lineSplit[5],\n",
    "                      day_of_week=int(lineSplit[6]),\n",
    "                      time_of_day=int(lineSplit[7]),\n",
    "                      event_type=lineSplit[-1],\n",
    "    )\n",
    "    \n",
    "\n",
    "eventsRdd = rawEventsRdd.map(parseRawData).cache()\n",
    "eventsRdd.take(3)"
   ]
  },
  {
   "cell_type": "code",
   "execution_count": 4,
   "metadata": {
    "collapsed": true
   },
   "outputs": [],
   "source": [
    "userIdConversionDictionary = eventsRdd.map(lambda x: x.userId).distinct().zipWithIndex().collectAsMap()\n",
    "userIdConversionDictionaryBroadcast = sc.broadcast(userIdConversionDictionary)\n",
    "itemIdConversionDictionary = eventsRdd.map(lambda x: x.itemId).distinct().zipWithIndex().collectAsMap()\n",
    "itemIdConversionDictionaryBroadcast = sc.broadcast(itemIdConversionDictionary)\n",
    "cityConversionDictionary = eventsRdd.map(lambda x: x.city).distinct().zipWithIndex().collectAsMap()\n",
    "cityConversionDictionaryBroadcast = sc.broadcast(cityConversionDictionary)"
   ]
  },
  {
   "cell_type": "code",
   "execution_count": 9,
   "metadata": {
    "collapsed": false
   },
   "outputs": [
    {
     "data": {
      "text/plain": [
       "[EventDataRow(userId=205, itemId=32750, ts=1420974077, latitude=47.237461, longitude=-122.530907, city=2560, day_of_week=6, time_of_day=3, event_type=1),\n",
       " EventDataRow(userId=117275, itemId=32815, ts=1421228526, latitude=37.353397, longitude=-121.944977, city=5433, day_of_week=2, time_of_day=1, event_type=1),\n",
       " EventDataRow(userId=107155, itemId=53490, ts=1421543961, latitude=33.84227, longitude=-84.211357, city=7925, day_of_week=5, time_of_day=20, event_type=1)]"
      ]
     },
     "execution_count": 9,
     "metadata": {},
     "output_type": "execute_result"
    }
   ],
   "source": [
    "eventsConvertedRdd = eventsRdd.map(lambda x: EventDataRow(\n",
    "    userId=userIdConversionDictionaryBroadcast.value[x.userId],\n",
    "    itemId=itemIdConversionDictionaryBroadcast.value[x.itemId],\n",
    "    ts=x.ts,\n",
    "    latitude=x.latitude,\n",
    "    longitude=x.longitude,\n",
    "    city=cityConversionDictionaryBroadcast.value[x.city],\n",
    "    day_of_week=x.day_of_week,\n",
    "    time_of_day=x.time_of_day,\n",
    "    event_type= 1 if x.event_type == \"install\" else 0\n",
    "    ))\n",
    "\n",
    "eventsConvertedRdd.take(3)"
   ]
  },
  {
   "cell_type": "code",
   "execution_count": 10,
   "metadata": {
    "collapsed": false
   },
   "outputs": [],
   "source": [
    "eventsConvertedRdd.map(lambda eventRaw: (\n",
    "    eventRaw.userId,eventRaw.itemId,eventRaw.ts,eventRaw.city,eventRaw.day_of_week,eventRaw.time_of_day,\n",
    "    eventRaw.latitude,eventRaw.longitude, eventRaw.event_type)\n",
    "        ).saveAsTextFile(eventsPath + \"events_parsed_installed\")"
   ]
  },
  {
   "cell_type": "code",
   "execution_count": 11,
   "metadata": {
    "collapsed": true
   },
   "outputs": [],
   "source": [
    "import json\n",
    "with open(eventsPath + 'userIdConversionDictionaryInstalls.txt', 'w') as outfile:\n",
    "    json.dump(userIdConversionDictionary, outfile)\n",
    "with open(eventsPath + 'itemIdConversionDictionaryInstalls.txt', 'w') as outfile:\n",
    "    json.dump(itemIdConversionDictionary, outfile)\n",
    "with open(eventsPath + 'cityConversionDictionaryInstalls.txt', 'w') as outfile:\n",
    "    json.dump(cityConversionDictionary, outfile)"
   ]
  },
  {
   "cell_type": "markdown",
   "metadata": {},
   "source": [
    "# Format data into context information"
   ]
  },
  {
   "cell_type": "code",
   "execution_count": 7,
   "metadata": {
    "collapsed": false
   },
   "outputs": [
    {
     "data": {
      "text/plain": [
       "[(0,\n",
       "  [event(userId=0, itemId=69367, ts=1421203932, city=3326, lat=33.201946, lon=-96.883171, event_type=1),\n",
       "   event(userId=0, itemId=38479, ts=1421254896, city=3326, lat=33.201874, lon=-96.883179, event_type=1)]),\n",
       " (3,\n",
       "  [event(userId=3, itemId=48349, ts=1421556490, city=4407, lat=35.41518, lon=-97.571648, event_type=1),\n",
       "   event(userId=3, itemId=10575, ts=1421557037, city=4407, lat=35.415195, lon=-97.571678, event_type=1),\n",
       "   event(userId=3, itemId=10575, ts=1421557428, city=4407, lat=35.415195, lon=-97.571655, event_type=0),\n",
       "   event(userId=3, itemId=48349, ts=1421557450, city=4407, lat=35.415195, lon=-97.571655, event_type=0)]),\n",
       " (6,\n",
       "  [event(userId=6, itemId=44644, ts=1421519654, city=3201, lat=27.73037, lon=-97.381813, event_type=1),\n",
       "   event(userId=6, itemId=32063, ts=1421521824, city=3201, lat=27.748331, lon=-97.392975, event_type=1)])]"
      ]
     },
     "execution_count": 7,
     "metadata": {},
     "output_type": "execute_result"
    }
   ],
   "source": [
    "execfile(\"../script/utils.py\")\n",
    "eventRDD = loadInstalledDataset(eventsPath + \"events_parsed_installed\").groupBy(lambda x: x.userId).map(lambda (x,y): (x, sorted(list(y),key=lambda a: a.ts)))\n",
    "#eventRDD = eventRDD.map(lambda x: (x[0], \n",
    "#                        map(lambda y : TrainRow(itemId=y.itemId, \n",
    "#                                               context = ContextRow(ts=y.ts,city=y.city,\n",
    "#                                                                   lat=y.lat, lon=y.lon, moving = 1)), x[1])))\n",
    "eventRDD.take(3)"
   ]
  },
  {
   "cell_type": "code",
   "execution_count": 8,
   "metadata": {
    "collapsed": false
   },
   "outputs": [
    {
     "data": {
      "text/plain": [
       "[(0,\n",
       "  [(69367, 1421203932, 3326, 33.201946, -96.883171, 1, 3, 4, 1),\n",
       "   (38479, 1421254896, 3326, 33.201874, -96.883179, 1, 2, 3, 1)]),\n",
       " (3,\n",
       "  [(48349, 1421556490, 4407, 35.41518, -97.571648, 1, 3, 1, 1),\n",
       "   (10575, 1421557037, 4407, 35.415195, -97.571678, 1, 3, 1, 1),\n",
       "   (10575, 1421557428, 4407, 35.415195, -97.571655, 1, 1, 1, 0),\n",
       "   (48349, 1421557450, 4407, 35.415195, -97.571655, 2, 1, 1, 0)])]"
      ]
     },
     "execution_count": 8,
     "metadata": {},
     "output_type": "execute_result"
    }
   ],
   "source": [
    "import datetime\n",
    "def detectMovement(line):\n",
    "    #location clustering\n",
    "    listGroup = map(lambda x: list(x), line[1])\n",
    "    workGroup = [x for x in listGroup if datetime.datetime.fromtimestamp(int(x[2])).hour >= 6 and  \n",
    "            datetime.datetime.fromtimestamp(int(x[2])).hour <= 18]\n",
    "    numNearLocation = []\n",
    "    i = 0\n",
    "    for x in workGroup:\n",
    "        numNearLocation.append(0);\n",
    "        for y in workGroup:\n",
    "            if haversine(x[5], x[4], y[5], y[4]) < 0.1:\n",
    "                numNearLocation[i] = numNearLocation[i] + 1\n",
    "        i = i + 1\n",
    "    if len(numNearLocation) > 0:\n",
    "        index_work = numNearLocation.index(max(numNearLocation))\n",
    "    else:\n",
    "        index_work = -1\n",
    "    \n",
    "    homeGroup = [x for x in listGroup if datetime.datetime.fromtimestamp(int(x[2])).hour < 6 or\n",
    "            datetime.datetime.fromtimestamp(int(x[2])).hour > 18]\n",
    "    \n",
    "    numNearLocation = []\n",
    "    i = 0\n",
    "    for x in homeGroup:\n",
    "        numNearLocation.append(0);\n",
    "        for y in homeGroup:\n",
    "            if haversine(x[5], x[4], y[5], y[4]) < 0.1:\n",
    "                numNearLocation[i] = numNearLocation[i] + 1\n",
    "        i = i + 1\n",
    "    if len(numNearLocation) > 0:\n",
    "        index_home = numNearLocation.index(max(numNearLocation))\n",
    "    else:\n",
    "        index_home = -1\n",
    "\n",
    "    if index_home != -1 and index_work != -1:\n",
    "        listGroup = [(x[0],x[2],1) if haversine(x[5], x[4], workGroup[index_work][3], workGroup[index_work][2]) < 0.01\n",
    "                 else( \n",
    "                    (x[0],x[2],2) if haversine(x[5], x[4], homeGroup[index_home][3], homeGroup[index_home][2]) < 0.01\n",
    "                    else (x[0],x[2],3) \n",
    "                    )\n",
    "                 for x in listGroup]\n",
    "    else:\n",
    "        listGroup = [(x[0],x[2],3)\n",
    "                 for x in listGroup]\n",
    "    \n",
    "    \n",
    "    listGroup = [(x[0],1) if datetime.datetime.fromtimestamp(int(x[1])).hour >= 6 and\n",
    "                datetime.datetime.fromtimestamp(int(x[1])).hour <= 13\n",
    "                    else(\n",
    "                      (x[0],2) if datetime.datetime.fromtimestamp(int(x[1])).hour >= 13 and\n",
    "                        datetime.datetime.fromtimestamp(int(x[1])).hour <= 18\n",
    "                      else (x[0],3)\n",
    "                    )\n",
    "                for x in listGroup]\n",
    "    #movement\n",
    "    data = line[1]\n",
    "    newData = [(data[0][1], data[0][2], data[0][3], data[0][4],data[0][5], 1, listGroup[0][1],convertTime(data[0].ts),data[0][6])]\n",
    "    for i in xrange(1,len(data)):\n",
    "        event = data[i]\n",
    "        distance = haversine(event[5],event[4], data[i-1][5], data[i-1][4]) * 1000 #in meters\n",
    "        time_difference = event.ts - newData[i-1][1] #in seconds\n",
    "        moving = 1 #not available \n",
    "        if time_difference <= 300: #if 2 consecutive events are more than 300 seconds away, the movement is not available\n",
    "            velocity =  distance/time_difference if time_difference > 0 else -1\n",
    "            if velocity < 0:\n",
    "                moving = 1; #not available\n",
    "            elif velocity >= 0 and velocity <= 1:\n",
    "                moving = 2  #standing still\n",
    "            elif velocity <=2.4:\n",
    "                moving = 3 #walking spead\n",
    "            else:\n",
    "                moving = 4 #faster\n",
    "        newData.append((event[1],event[2],event[3],event[4],event[5], moving, listGroup[i][1], convertTime(event.ts),event[6]))\n",
    "    #return (line[0], map(lambda el : TrainRow(el[0], ContextRow._make(el[1:])),newData))\n",
    "    return (line[0], newData)\n",
    "eventRDD_context = eventRDD.map(detectMovement)\n",
    "eventRDD_context.take(2)\n",
    "#train(itemId=60075, context=context(ts=1421371713, city=12940, lat=43.503536, lon=-88.558907, moving=1, location=3))"
   ]
  },
  {
   "cell_type": "code",
   "execution_count": 12,
   "metadata": {
    "collapsed": false
   },
   "outputs": [
    {
     "data": {
      "text/plain": [
       "[(0,\n",
       "  [(69367, 1421203932, 3326, 33.201946, -96.883171, 1, 3, 4, 1),\n",
       "   (38479, 1421254896, 3326, 33.201874, -96.883179, 1, 2, 3, 1)],\n",
       "  []),\n",
       " (3,\n",
       "  [(48349, 1421556490, 4407, 35.41518, -97.571648, 1, 3, 1, 1),\n",
       "   (10575, 1421557037, 4407, 35.415195, -97.571678, 1, 3, 1, 1)],\n",
       "  [(10575, 1421557428, 4407, 35.415195, -97.571655, 1, 1, 1, 0),\n",
       "   (48349, 1421557450, 4407, 35.415195, -97.571655, 2, 1, 1, 0)])]"
      ]
     },
     "execution_count": 12,
     "metadata": {},
     "output_type": "execute_result"
    }
   ],
   "source": [
    "def splitInstall(line):\n",
    "    context_data = line[1]\n",
    "    install = []\n",
    "    uninstall = []\n",
    "    for data in context_data:\n",
    "        if data[8] == 1: #if data.event_type == \"install\"\n",
    "            install.append(data)\n",
    "        else:\n",
    "            uninstall.append(data)\n",
    "    return (line[0], install,uninstall)\n",
    "eventRDD_context_installsplit = eventRDD_context.map(splitInstall)\n",
    "eventRDD_context_installsplit.take(2)"
   ]
  },
  {
   "cell_type": "code",
   "execution_count": 14,
   "metadata": {
    "collapsed": false
   },
   "outputs": [
    {
     "data": {
      "text/plain": [
       "[(0,\n",
       "  [(69367, 1421203932, 3326, 33.201946, -96.883171, 1, 3, 4, 1)],\n",
       "  [(38479, 1421254896, 3326, 33.201874, -96.883179, 1, 2, 3, 1)],\n",
       "  []),\n",
       " (3,\n",
       "  [(48349, 1421556490, 4407, 35.41518, -97.571648, 1, 3, 1, 1)],\n",
       "  [(10575, 1421557037, 4407, 35.415195, -97.571678, 1, 3, 1, 1)],\n",
       "  [(10575, 1421557428, 4407, 35.415195, -97.571655, 1, 1, 1, 0),\n",
       "   (48349, 1421557450, 4407, 35.415195, -97.571655, 2, 1, 1, 0)])]"
      ]
     },
     "execution_count": 14,
     "metadata": {},
     "output_type": "execute_result"
    }
   ],
   "source": [
    "splitedData = splitRddV2install(eventRDD_context_installsplit,0.8)\n",
    "\n",
    "splitedData.saveAsTextFile(eventsPath + \"splitedDataInstalled\")\n",
    "splitedData.take(2)"
   ]
  },
  {
   "cell_type": "code",
   "execution_count": 19,
   "metadata": {
    "collapsed": false
   },
   "outputs": [
    {
     "data": {
      "text/plain": [
       "[(0,\n",
       "  [[train(itemId=69367, context=context(ts=1421203932, city=3326, lat=33.201946, lon=-96.883171, moving=1, location=3, time_of_day=4), event_type=1)],\n",
       "   [train(itemId=38479, context=context(ts=1421254896, city=3326, lat=33.201874, lon=-96.883179, moving=1, location=2, time_of_day=3), event_type=1)],\n",
       "   []]),\n",
       " (3,\n",
       "  [[train(itemId=48349, context=context(ts=1421556490, city=4407, lat=35.41518, lon=-97.571648, moving=1, location=3, time_of_day=1), event_type=1)],\n",
       "   [train(itemId=10575, context=context(ts=1421557037, city=4407, lat=35.415195, lon=-97.571678, moving=1, location=3, time_of_day=1), event_type=1)],\n",
       "   [train(itemId=10575, context=context(ts=1421557428, city=4407, lat=35.415195, lon=-97.571655, moving=1, location=1, time_of_day=1), event_type=0),\n",
       "    train(itemId=48349, context=context(ts=1421557450, city=4407, lat=35.415195, lon=-97.571655, moving=2, location=1, time_of_day=1), event_type=0)]])]"
      ]
     },
     "execution_count": 19,
     "metadata": {},
     "output_type": "execute_result"
    }
   ],
   "source": [
    "splitedRdd = sc.textFile(eventsPath + \"splitedDataInstalled\")\n",
    "splitedRdd = splitedRdd.map(parseContextData2install)\n",
    "splitedRdd.take(2)\n",
    "#(uid,[[train],[test], [uninstalls]])"
   ]
  }
 ],
 "metadata": {
  "kernelspec": {
   "display_name": "Python 2",
   "language": "python",
   "name": "python2"
  },
  "language_info": {
   "codemirror_mode": {
    "name": "ipython",
    "version": 2
   },
   "file_extension": ".py",
   "mimetype": "text/x-python",
   "name": "python",
   "nbconvert_exporter": "python",
   "pygments_lexer": "ipython2",
   "version": "2.7.10"
  }
 },
 "nbformat": 4,
 "nbformat_minor": 0
}
