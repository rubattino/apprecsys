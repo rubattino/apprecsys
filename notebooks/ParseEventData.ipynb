{
 "cells": [
  {
   "cell_type": "code",
   "execution_count": 1,
   "metadata": {},
   "outputs": [
    {
     "name": "stdout",
     "output_type": "stream",
     "text": [
      "/home/mertergun/yahoo_data/\n"
     ]
    }
   ],
   "source": [
    "import os\n",
    "data_path = os.environ[\"YAHOO_DATA\"]\n",
    "print data_path\n",
    "rawEventsRdd = sc.textFile(data_path + \"events.txt\")"
   ]
  },
  {
   "cell_type": "code",
   "execution_count": 3,
   "metadata": {},
   "outputs": [],
   "source": [
    "sc.parallelize(rawEventsRdd.take(1000)).cache().saveAsTextFile(data_path + \"filteredEvents.txt\")"
   ]
  },
  {
   "cell_type": "code",
   "execution_count": 2,
   "metadata": {},
   "outputs": [
    {
     "data": {
      "text/plain": [
       "[<function __main__.context_timestamp>,\n",
       " <function __main__.context_latitude>,\n",
       " <function __main__.context_longitude>,\n",
       " <function __main__.context_city>,\n",
       " <function __main__.context_dayOfWeek>,\n",
       " <function __main__.context_time_of_day>,\n",
       " <function __main__.context_event_type>]"
      ]
     },
     "execution_count": 2,
     "output_type": "execute_result",
     "metadata": {}
    }
   ],
   "source": [
    "rawEventsRdd = sc.textFile(data_path + \"filteredEvents.txt\")\n",
    "execfile(\"../script/context.py\")\n",
    "context"
   ]
  },
  {
   "cell_type": "code",
   "execution_count": 3,
   "metadata": {},
   "outputs": [],
   "source": [
    "userIdConversionDictionary = rawEventsRdd.map(get_user_id).distinct().zipWithIndex().collectAsMap()\n",
    "userIdConversionDictionaryBroadcast = sc.broadcast(userIdConversionDictionary)\n",
    "itemIdConversionDictionary = rawEventsRdd.map(get_item_id).distinct().zipWithIndex().collectAsMap()\n",
    "itemIdConversionDictionaryBroadcast = sc.broadcast(itemIdConversionDictionary)\n",
    "cityConversionDictionary = rawEventsRdd.map(context_city).distinct().zipWithIndex().collectAsMap()\n",
    "cityConversionDictionaryBroadcast = sc.broadcast(cityConversionDictionary)"
   ]
  },
  {
   "cell_type": "code",
   "execution_count": 9,
   "metadata": {},
   "outputs": [
    {
     "data": {
      "text/plain": [
       "{u'001e6d8e-cbe7-4374-8c38-f37962a457e9': 1,\n",
       " u'005ca0a2-6e94-4709-adc6-f35cdd50bf8f': 0}"
      ]
     },
     "execution_count": 9,
     "output_type": "execute_result",
     "metadata": {}
    }
   ],
   "source": [
    "userIdConversionDictionary"
   ]
  },
  {
   "cell_type": "code",
   "execution_count": 5,
   "metadata": {},
   "outputs": [
    {
     "data": {
      "text/plain": [
       "[[(1, 41),\n",
       "  [(0, u'1421521691'),\n",
       "   (1, u'47.235050'),\n",
       "   (2, u'-122.534698'),\n",
       "   (3, 9),\n",
       "   (4, u'5'),\n",
       "   (5, u'11'),\n",
       "   (6, u'App_Opened')]],\n",
       " [(1, 46),\n",
       "  [(0, u'1421558502'),\n",
       "   (1, u'47.235050'),\n",
       "   (2, u'-122.534698'),\n",
       "   (3, 9),\n",
       "   (4, u'5'),\n",
       "   (5, u'21'),\n",
       "   (6, u'App_Opened')]],\n",
       " [(1, 44),\n",
       "  [(0, u'1421017853'),\n",
       "   (1, u'47.237461'),\n",
       "   (2, u'-122.530899'),\n",
       "   (3, 9),\n",
       "   (4, u'6'),\n",
       "   (5, u'15'),\n",
       "   (6, u'App_Opened')]]]"
      ]
     },
     "execution_count": 5,
     "output_type": "execute_result",
     "metadata": {}
    }
   ],
   "source": [
    "def set_context(line):\n",
    "    key1 = (userIdConversionDictionary[get_user_id(line)], \n",
    "            itemIdConversionDictionary[get_item_id(line)])\n",
    "    list = []\n",
    "    for f in context:\n",
    "        list = list + [(context.index(f), f(line))]\n",
    "    #convert city to id\n",
    "    list[3] = list[3][0], cityConversionDictionary[list[3][1]]\n",
    "    return [key1,list]\n",
    "   \n",
    "eventRDDConverted = rawEventsRdd.map(set_context).cache()\n",
    "eventRDDConverted.take(3)"
   ]
  },
  {
   "cell_type": "code",
   "execution_count": 6,
   "metadata": {},
   "outputs": [
    {
     "data": {
      "text/plain": [
       "[[(1, 41, 0), u'1421521691'],\n",
       " [(1, 41, 1), u'47.235050'],\n",
       " [(1, 41, 2), u'-122.534698']]"
      ]
     },
     "execution_count": 6,
     "output_type": "execute_result",
     "metadata": {}
    }
   ],
   "source": [
    "def flat_context(lst):\n",
    "    l = []\n",
    "    for x in lst[1]:\n",
    "        l = l + [[(lst[0][0], lst[0][1], x[0]), x[1]]]\n",
    "    return l\n",
    "eventRDD = eventRDDConverted.flatMap(flat_context).cache()\n",
    "eventRDD.take(3)"
   ]
  },
  {
   "cell_type": "code",
   "metadata": {},
   "outputs": [],
   "source": [
    ""
   ]
  }
 ],
 "metadata": {
  "kernelspec": {
   "display_name": "Python 2",
   "language": "python",
   "name": "python2"
  },
  "language_info": {
   "codemirror_mode": {
    "name": "ipython",
    "version": 2.0
   },
   "file_extension": ".py",
   "mimetype": "text/x-python",
   "name": "python",
   "nbconvert_exporter": "python",
   "pygments_lexer": "ipython2",
   "version": "2.7.6"
  }
 },
 "nbformat": 4,
 "nbformat_minor": 0
}