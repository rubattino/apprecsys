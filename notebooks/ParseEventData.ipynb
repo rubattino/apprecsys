{
 "cells": [
  {
   "cell_type": "code",
   "execution_count": 2,
   "metadata": {
    "collapsed": true
   },
   "outputs": [],
   "source": [
    "rawEventsRdd = sc.textFile(\"/home/mertergun/yahoo_data/events.txt\")"
   ]
  },
  {
   "cell_type": "code",
   "execution_count": 3,
   "metadata": {
    "collapsed": true
   },
   "outputs": [],
   "source": [
    "sc.parallelize(rawEventsRdd.take(1000)).cache().saveAsTextFile(\"filteredEvents.txt\")"
   ]
  },
  {
   "cell_type": "code",
   "execution_count": 17,
   "metadata": {
    "collapsed": false
   },
   "outputs": [
    {
     "data": {
      "text/plain": [
       "[<function __main__.context_city>,\n",
       " <function __main__.context_dayOfWeek>,\n",
       " <function __main__.context_time_of_day>]"
      ]
     },
     "execution_count": 17,
     "metadata": {},
     "output_type": "execute_result"
    }
   ],
   "source": [
    "rawEventsRdd = sc.textFile(\"filteredEvents.txt\")\n",
    "execfile(\"../script/context.py\")\n",
    "context"
   ]
  },
  {
   "cell_type": "code",
   "execution_count": 18,
   "metadata": {
    "collapsed": false
   },
   "outputs": [],
   "source": [
    "userIdConversionDictionary = rawEventsRdd.map(get_user_id).distinct().zipWithIndex().collectAsMap()\n",
    "userIdConversionDictionaryBroadcast = sc.broadcast(userIdConversionDictionary)\n",
    "itemIdConversionDictionary = rawEventsRdd.map(get_item_id).distinct().zipWithIndex().collectAsMap()\n",
    "itemIdConversionDictionaryBroadcast = sc.broadcast(itemIdConversionDictionary)\n",
    "cityConversionDictionary = rawEventsRdd.map(context_city).distinct().zipWithIndex().collectAsMap()\n",
    "cityConversionDictionaryBroadcast = sc.broadcast(cityConversionDictionary)"
   ]
  },
  {
   "cell_type": "code",
   "execution_count": 19,
   "metadata": {
    "collapsed": false
   },
   "outputs": [
    {
     "data": {
      "text/plain": [
       "{u'001e6d8e-cbe7-4374-8c38-f37962a457e9': 1,\n",
       " u'005ca0a2-6e94-4709-adc6-f35cdd50bf8f': 0}"
      ]
     },
     "execution_count": 19,
     "metadata": {},
     "output_type": "execute_result"
    }
   ],
   "source": [
    "userIdConversionDictionary"
   ]
  },
  {
   "cell_type": "code",
   "execution_count": 20,
   "metadata": {
    "collapsed": false
   },
   "outputs": [
    {
     "data": {
      "text/plain": [
       "[[(1, 41), [(0, u'Tacoma'), (1, u'5'), (2, u'11')]],\n",
       " [(1, 46), [(0, u'Tacoma'), (1, u'5'), (2, u'21')]],\n",
       " [(1, 44), [(0, u'Tacoma'), (1, u'6'), (2, u'15')]]]"
      ]
     },
     "execution_count": 20,
     "metadata": {},
     "output_type": "execute_result"
    }
   ],
   "source": [
    "def set_context(line):\n",
    "    key1 = (userIdConversionDictionary[get_user_id(line)], \n",
    "            itemIdConversionDictionary[get_item_id(line)])\n",
    "    list = []\n",
    "    for f in context:\n",
    "        list = list + [(context.index(f), f(line))] \n",
    "    return [key1,list]\n",
    "   \n",
    "eventRDDConverted = rawEventsRdd.map(set_context).cache()\n",
    "eventRDDConverted.take(3)"
   ]
  },
  {
   "cell_type": "code",
   "execution_count": 21,
   "metadata": {
    "collapsed": false
   },
   "outputs": [
    {
     "data": {
      "text/plain": [
       "[[(1, 41, 0), u'Tacoma'], [(1, 41, 1), u'5'], [(1, 41, 2), u'11']]"
      ]
     },
     "execution_count": 21,
     "metadata": {},
     "output_type": "execute_result"
    }
   ],
   "source": [
    "def flat_context(lst):\n",
    "    l = []\n",
    "    for x in lst[1]:\n",
    "        l = l + [[(lst[0][0], lst[0][1], x[0]), x[1]]]\n",
    "    return l\n",
    "eventRDD = eventRDDConverted.flatMap(flat_context).cache()\n",
    "eventRDD.take(3)"
   ]
  },
  {
   "cell_type": "code",
   "execution_count": null,
   "metadata": {
    "collapsed": true
   },
   "outputs": [],
   "source": []
  }
 ],
 "metadata": {
  "kernelspec": {
   "display_name": "Python 2",
   "language": "python",
   "name": "python2"
  },
  "language_info": {
   "codemirror_mode": {
    "name": "ipython",
    "version": 2
   },
   "file_extension": ".py",
   "mimetype": "text/x-python",
   "name": "python",
   "nbconvert_exporter": "python",
   "pygments_lexer": "ipython2",
   "version": "2.7.6"
  }
 },
 "nbformat": 4,
 "nbformat_minor": 0
}
