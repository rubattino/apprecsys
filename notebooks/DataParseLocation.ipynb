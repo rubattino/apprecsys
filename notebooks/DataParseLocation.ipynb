{
 "cells": [
  {
   "cell_type": "code",
   "execution_count": 1,
   "metadata": {
    "collapsed": false
   },
   "outputs": [
    {
     "data": {
      "text/plain": [
       "[EventDataRow(userId=1, itemId=41, ts=1421521691, latitude=47.23505, longitude=-122.534698, city=9, day_of_week=5, time_of_day=11, event_type=u'App_Opened'),\n",
       " EventDataRow(userId=1, itemId=46, ts=1421558502, latitude=47.23505, longitude=-122.534698, city=9, day_of_week=5, time_of_day=21, event_type=u'App_Opened')]"
      ]
     },
     "execution_count": 1,
     "metadata": {},
     "output_type": "execute_result"
    }
   ],
   "source": [
    "from collections import namedtuple\n",
    "rawEventsRdd = sc.textFile(\"/home/axinggu/thesis/code/test/filteredEvents.txt\")\n",
    "EventDataRow = namedtuple(\"EventDataRow\", [\"userId\", \"itemId\", \"ts\", \"latitude\", \"longitude\", \"city\", \"day_of_week\", \"time_of_day\" , \"event_type\"])\n",
    "def parseRawData(line):\n",
    "    lineSplit = line.split(\"\\t\")\n",
    "    return EventDataRow(userId=lineSplit[0],\n",
    "                      itemId=lineSplit[1],\n",
    "                      ts=int(lineSplit[2]),\n",
    "                      latitude=float(lineSplit[3]),\n",
    "                      longitude=float(lineSplit[4]),\n",
    "                      city=lineSplit[5],\n",
    "                      day_of_week=int(lineSplit[6]),\n",
    "                      time_of_day=int(lineSplit[7]),\n",
    "                      event_type=lineSplit[-1],\n",
    "    )\n",
    "eventsRdd = rawEventsRdd.map(parseRawData).cache()\n",
    "userIdConversionDictionary = eventsRdd.map(lambda x: x.userId).distinct().zipWithIndex().collectAsMap()\n",
    "userIdConversionDictionaryBroadcast = sc.broadcast(userIdConversionDictionary)\n",
    "itemIdConversionDictionary = eventsRdd.map(lambda x: x.itemId).distinct().zipWithIndex().collectAsMap()\n",
    "itemIdConversionDictionaryBroadcast = sc.broadcast(itemIdConversionDictionary)\n",
    "cityConversionDictionary = eventsRdd.map(lambda x: x.city).distinct().zipWithIndex().collectAsMap()\n",
    "cityConversionDictionaryBroadcast = sc.broadcast(cityConversionDictionary)\n",
    "\n",
    "eventsConvertedRdd = eventsRdd.map(lambda x: EventDataRow(\n",
    "    userId=userIdConversionDictionaryBroadcast.value[x.userId],\n",
    "    itemId=itemIdConversionDictionaryBroadcast.value[x.itemId],\n",
    "    ts=x.ts,\n",
    "    latitude=x.latitude,\n",
    "    longitude=x.longitude,\n",
    "    city=cityConversionDictionaryBroadcast.value[x.city],\n",
    "    day_of_week=x.day_of_week,\n",
    "    time_of_day=x.time_of_day,\n",
    "    event_type=x.event_type\n",
    "    ))\n",
    "eventsConvertedRdd.take(2) "
   ]
  },
  {
   "cell_type": "code",
   "execution_count": 2,
   "metadata": {
    "collapsed": false
   },
   "outputs": [
    {
     "data": {
      "text/plain": [
       "[[1, (41, 1421521691, 47.23505, -122.534698)],\n",
       " [1, (46, 1421558502, 47.23505, -122.534698)],\n",
       " [1, (44, 1421017853, 47.237461, -122.530899)]]"
      ]
     },
     "execution_count": 2,
     "metadata": {},
     "output_type": "execute_result"
    }
   ],
   "source": [
    "finalRDD = eventsConvertedRdd.map(lambda x: [\n",
    "    x.userId,(\n",
    "    x.itemId,\n",
    "    x.ts,\n",
    "    x.latitude,\n",
    "    x.longitude,)\n",
    "    ])\n",
    "finalRDD.take(3)"
   ]
  },
  {
   "cell_type": "code",
   "execution_count": 3,
   "metadata": {
    "collapsed": false
   },
   "outputs": [],
   "source": [
    "groupData = map((lambda (x,y): (x, list(y))), sorted(finalRDD.groupByKey().collect()))"
   ]
  },
  {
   "cell_type": "code",
   "execution_count": 7,
   "metadata": {
    "collapsed": false
   },
   "outputs": [
    {
     "data": {
      "text/plain": [
       "[(0,\n",
       "  [(32, 1421285002, 41.953564, -88.036819, 1),\n",
       "   (24, 1421123817, 41.96859, -88.151978, 0),\n",
       "   (26, 1421368655, 41.953526, -88.037025, 1),\n",
       "   (26, 1421080209, 41.953758, -88.036804, 1),\n",
       "   (7, 1420992327, 41.953747, -88.036812, 1),\n",
       "   (26, 1421026674, 41.95348, -88.036957, 1),\n",
       "   (25, 1419939212, 41.953773, -88.03685, 1),\n",
       "   (20, 1421142319, 41.953785, -88.036797, 1),\n",
       "   (25, 1419947132, 41.953484, -88.036652, 1),\n",
       "   (32, 1421152879, 41.953419, -88.036568, 1),\n",
       "   (32, 1421300727, 41.954918, -88.119896, 0),\n",
       "   (26, 1421155363, 41.953365, -88.036873, 1),\n",
       "   (13, 1421110209, 41.952587, -88.037277, 2),\n",
       "   (7, 1421020415, 41.953445, -88.036758, 1),\n",
       "   (26, 1421370765, 41.953526, -88.037025, 1),\n",
       "   (25, 1421185205, 41.95377, -88.036842, 1),\n",
       "   (7, 1421142300, 41.953766, -88.03685, 1),\n",
       "   (34, 1421300685, 41.952835, -88.126961, 0),\n",
       "   (9, 1421165029, 41.95359, -88.036736, 1),\n",
       "   (32, 1419986405, 41.953476, -88.036919, 1)]),\n",
       " (1,\n",
       "  [(41, 1421521691, 47.23505, -122.534698, 0),\n",
       "   (46, 1421558502, 47.23505, -122.534698, 0),\n",
       "   (44, 1421017853, 47.237461, -122.530899, 1),\n",
       "   (18, 1421555801, 47.23505, -122.534698, 0),\n",
       "   (36, 1421555768, 47.23505, -122.534698, 0),\n",
       "   (33, 1421168731, 47.244587, -122.517036, 0),\n",
       "   (20, 1421375233, 47.23745, -122.530891, 1),\n",
       "   (44, 1421096549, 47.112923, -122.422501, 0),\n",
       "   (39, 1421044862, 47.237453, -122.530876, 1),\n",
       "   (18, 1421278854, 47.233555, -122.536385, 0),\n",
       "   (20, 1421078608, 47.252182, -122.504242, 0),\n",
       "   (44, 1421279108, 47.233555, -122.536385, 0),\n",
       "   (36, 1421091256, 47.254436, -122.441696, 0),\n",
       "   (28, 1421102558, 47.107914, -122.427254, 0),\n",
       "   (43, 1420965030, 47.237564, -122.530746, 1),\n",
       "   (36, 1421033212, 47.237484, -122.530716, 1),\n",
       "   (44, 1421147075, 47.233387, -122.536057, 0),\n",
       "   (46, 1421224673, 47.237434, -122.531052, 1),\n",
       "   (28, 1421446100, 47.241306, -122.503441, 0),\n",
       "   (26, 1421318118, 47.243618, -122.513252, 0)])]"
      ]
     },
     "execution_count": 7,
     "metadata": {},
     "output_type": "execute_result"
    }
   ],
   "source": [
    "import datetime\n",
    "from math import radians, cos, sin, asin, sqrt\n",
    "\n",
    "def haversine(lon1, lat1, lon2, lat2):\n",
    "    \"\"\"\n",
    "    Calculate the great circle distance between two points \n",
    "    on the earth (specified in decimal degrees)\n",
    "    \"\"\"\n",
    "    # convert decimal degrees to radians \n",
    "    lon1, lat1, lon2, lat2 = map(radians, [lon1, lat1, lon2, lat2])\n",
    "\n",
    "    # haversine formula \n",
    "    dlon = lon2 - lon1 \n",
    "    dlat = lat2 - lat1 \n",
    "    a = sin(dlat/2)**2 + cos(lat1) * cos(lat2) * sin(dlon/2)**2\n",
    "    c = 2 * asin(sqrt(a)) \n",
    "    r = 6371 # Radius of earth in kilometers. Use 3956 for miles\n",
    "    return c * r\n",
    "\n",
    "def convertLocation(line):\n",
    "    listGroup = line[1]\n",
    "    workGroup = [x for x in listGroup if datetime.datetime.fromtimestamp(int(x[1])).hour > 6 and  \n",
    "            datetime.datetime.fromtimestamp(int(x[1])).hour < 19]\n",
    "    numNearLocation = []\n",
    "    i = 0\n",
    "    for x in workGroup:\n",
    "        numNearLocation.append(0);\n",
    "        for y in workGroup:\n",
    "            if haversine(x[3], x[2], y[3], y[2]) < 0.1:\n",
    "                numNearLocation[i] = numNearLocation[i] + 1\n",
    "        i = i + 1\n",
    "    index_work = numNearLocation.index(max(numNearLocation))\n",
    "#     workGroup = [(x[0],x[1],x[2],x[3],1) if haversine(x[3], x[2], workGroup[index_work][3], workGroup[index_work][2]) < 0.1 \n",
    "#                  else (x[0],x[1],x[2],x[3],0) for x in workGroup]\n",
    "    #workGroup3 = [(x[0],x[1],0)  for x in workGroup if haversine(x[3], x[2], workGroup[index][3], workGroup[index][2]) >= 0.1]        \n",
    "    \n",
    "    homeGroup = [x for x in listGroup if datetime.datetime.fromtimestamp(int(x[1])).hour <= 6 or\n",
    "            datetime.datetime.fromtimestamp(int(x[1])).hour >= 19]\n",
    "    \n",
    "    numNearLocation = []\n",
    "    i = 0\n",
    "    for x in homeGroup:\n",
    "        numNearLocation.append(0);\n",
    "        for y in homeGroup:\n",
    "            if haversine(x[3], x[2], y[3], y[2]) < 0.1:\n",
    "                numNearLocation[i] = numNearLocation[i] + 1\n",
    "        i = i + 1\n",
    "    index_home = numNearLocation.index(max(numNearLocation))\n",
    "#     homeGroup = [(x[0],x[1],x[2],x[3],2) if haversine(x[3], x[2], homeGroup[index_home][3], homeGroup[index_home][2]) < 0.1 \n",
    "#                  else (x[0],x[1],x[2],x[3],0) for x in homeGroup]\n",
    "    \n",
    "    listGroup = [(x[0],x[1],x[2],x[3],1) if haversine(x[3], x[2], workGroup[index_work][3], workGroup[index_work][2]) < 0.1 \n",
    "                 else( \n",
    "                    (x[0],x[1],x[2],x[3],2) if haversine(x[3], x[2], homeGroup[index_home][3], homeGroup[index_home][2]) < 0.1 \n",
    "                    else (x[0],x[1],x[2],x[3],0) \n",
    "                    )\n",
    "                 for x in listGroup]\n",
    "    \n",
    "    \n",
    "    #time = datetime.datetime.fromtimestamp(int(line[1][0][1]))\n",
    "    #line[1][1] = datetime.datetime.fromtimestamp(int(\"1284101485\")).strftime('%Y-%m-%d %H:%M:%S')\n",
    "    #return line[0],(workGroup+homeGroup)[:20],listGroup[:20]#,len(workGroup+homeGroup),len(workGroup),len(homeGroup)\n",
    "    return line[0],listGroup[:20]\n",
    "final = sc.parallelize(groupData).map(convertLocation)\n",
    "final.collect()"
   ]
  },
  {
   "cell_type": "code",
   "execution_count": 30,
   "metadata": {
    "collapsed": false
   },
   "outputs": [
    {
     "data": {
      "text/plain": [
       "False"
      ]
     },
     "execution_count": 30,
     "metadata": {},
     "output_type": "execute_result"
    }
   ],
   "source": [
    "23<=6 & 23>17\n"
   ]
  },
  {
   "cell_type": "code",
   "execution_count": null,
   "metadata": {
    "collapsed": true
   },
   "outputs": [],
   "source": []
  }
 ],
 "metadata": {
  "kernelspec": {
   "display_name": "pySpark (Spark 1.4.0)",
   "language": "python",
   "name": "pyspark"
  },
  "language_info": {
   "codemirror_mode": {
    "name": "ipython",
    "version": 2
   },
   "file_extension": ".py",
   "mimetype": "text/x-python",
   "name": "python",
   "nbconvert_exporter": "python",
   "pygments_lexer": "ipython2",
   "version": "2.7.6"
  }
 },
 "nbformat": 4,
 "nbformat_minor": 0
}
