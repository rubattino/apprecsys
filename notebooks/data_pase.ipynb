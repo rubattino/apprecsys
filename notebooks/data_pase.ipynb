{
 "cells": [
  {
   "cell_type": "code",
   "execution_count": 11,
   "metadata": {
    "collapsed": false
   },
   "outputs": [
    {
     "data": {
      "text/plain": [
       "[EventDataRow(userId=1, itemId=41, ts=1421521691, latitude=47.23505, longitude=-122.534698, city=9, day_of_week=5, time_of_day=11, event_type=u'App_Opened'),\n",
       " EventDataRow(userId=1, itemId=46, ts=1421558502, latitude=47.23505, longitude=-122.534698, city=9, day_of_week=5, time_of_day=21, event_type=u'App_Opened')]"
      ]
     },
     "execution_count": 11,
     "metadata": {},
     "output_type": "execute_result"
    }
   ],
   "source": [
    "from collections import namedtuple\n",
    "rawEventsRdd = sc.textFile(\"/home/axinggu/thesis/code/test/filteredEvents.txt\")\n",
    "EventDataRow = namedtuple(\"EventDataRow\", [\"userId\", \"itemId\", \"ts\", \"latitude\", \"longitude\", \"city\", \"day_of_week\", \"time_of_day\" , \"event_type\"])\n",
    "def parseRawData(line):\n",
    "    lineSplit = line.split(\"\\t\")\n",
    "    return EventDataRow(userId=lineSplit[0],\n",
    "                      itemId=lineSplit[1],\n",
    "                      ts=int(lineSplit[2]),\n",
    "                      latitude=float(lineSplit[3]),\n",
    "                      longitude=float(lineSplit[4]),\n",
    "                      city=lineSplit[5],\n",
    "                      day_of_week=int(lineSplit[6]),\n",
    "                      time_of_day=int(lineSplit[7]),\n",
    "                      event_type=lineSplit[-1],\n",
    "    )\n",
    "eventsRdd = rawEventsRdd.map(parseRawData).cache()\n",
    "userIdConversionDictionary = eventsRdd.map(lambda x: x.userId).distinct().zipWithIndex().collectAsMap()\n",
    "userIdConversionDictionaryBroadcast = sc.broadcast(userIdConversionDictionary)\n",
    "itemIdConversionDictionary = eventsRdd.map(lambda x: x.itemId).distinct().zipWithIndex().collectAsMap()\n",
    "itemIdConversionDictionaryBroadcast = sc.broadcast(itemIdConversionDictionary)\n",
    "cityConversionDictionary = eventsRdd.map(lambda x: x.city).distinct().zipWithIndex().collectAsMap()\n",
    "cityConversionDictionaryBroadcast = sc.broadcast(cityConversionDictionary)\n",
    "\n",
    "eventsConvertedRdd = eventsRdd.map(lambda x: EventDataRow(\n",
    "    userId=userIdConversionDictionaryBroadcast.value[x.userId],\n",
    "    itemId=itemIdConversionDictionaryBroadcast.value[x.itemId],\n",
    "    ts=x.ts,\n",
    "    latitude=x.latitude,\n",
    "    longitude=x.longitude,\n",
    "    city=cityConversionDictionaryBroadcast.value[x.city],\n",
    "    day_of_week=x.day_of_week,\n",
    "    time_of_day=x.time_of_day,\n",
    "    event_type=x.event_type\n",
    "    ))\n",
    "eventsConvertedRdd.take(2) "
   ]
  },
  {
   "cell_type": "code",
   "execution_count": 12,
   "metadata": {
    "collapsed": false
   },
   "outputs": [],
   "source": [
    "finalRDD = eventsConvertedRdd.map(lambda x: [\n",
    "    x.userId,(\n",
    "    x.itemId,\n",
    "    x.ts,\n",
    "    x.latitude,\n",
    "    x.longitude,)\n",
    "    ])\n",
    "finalRDD.take(3)\n",
    "#groupData = map((lambda (x,y): (x, list(y))), sorted(finalRDD.groupByKey().collect()))\n",
    "groupData = map((lambda (x,y): (x, sorted(list(y),key=lambda a: a[1]))), sorted(finalRDD.groupByKey().collect()))"
   ]
  },
  {
   "cell_type": "code",
   "execution_count": 13,
   "metadata": {
    "collapsed": false
   },
   "outputs": [],
   "source": [
    "from math import radians, cos, sin, asin, sqrt\n",
    "\n",
    "def haversine(lon1, lat1, lon2, lat2):\n",
    "    \"\"\"\n",
    "    Calculate the great circle distance between two points \n",
    "    on the earth (specified in decimal degrees)\n",
    "    \"\"\"\n",
    "    # convert decimal degrees to radians \n",
    "    lon1, lat1, lon2, lat2 = map(radians, [lon1, lat1, lon2, lat2])\n",
    "\n",
    "    # haversine formula \n",
    "    dlon = lon2 - lon1 \n",
    "    dlat = lat2 - lat1 \n",
    "    a = sin(dlat/2)**2 + cos(lat1) * cos(lat2) * sin(dlon/2)**2\n",
    "    c = 2 * asin(sqrt(a)) \n",
    "    r = 6371 # Radius of earth in kilometers. Use 3956 for miles\n",
    "    return c * r\n",
    "def detectMovement(x):\n",
    "    data = x[1]\n",
    "    newData = [(data[0][0], data[0][1], data[0][2], data[0][3], 1)]\n",
    "    for i in xrange(1,len(data)):\n",
    "        event = data[i]\n",
    "        distance = haversine(event[3],event[2], data[i-1][3], data[i-1][2]) * 1000 #in meters\n",
    "        time_difference = event[1] - newData[i-1][1] #in seconds\n",
    "        moving = 1 #not available \n",
    "        if time_difference <= 300: #if 2 consecutive events are more than 300 seconds away, the movement is not available\n",
    "            velocity =  distance/time_difference if time_difference > 0 else -1\n",
    "            if velocity < 0:\n",
    "                moving = 1; #not available\n",
    "            elif velocity >= 0 and velocity <= 1:\n",
    "                moving = 2  #standing still\n",
    "            elif velocity <=2.4:\n",
    "                moving = 3 #walking spead\n",
    "            else:\n",
    "                moving = 4 #faster\n",
    "        newData.append((event[0],event[1],event[2],event[3], moving))\n",
    "    return (x[0], newData)\n",
    "    #return x\n",
    "#print haversine(elem[0][1][2][1],elem[0][1][1][1],elem[6][1][2][1],elem[6][1][1][1])\n",
    "groupData = sc.parallelize(groupData).map(detectMovement).cache()\n",
    "\n",
    "#groupData.take(1)"
   ]
  },
  {
   "cell_type": "code",
   "execution_count": 31,
   "metadata": {
    "collapsed": false
   },
   "outputs": [
    {
     "data": {
      "text/plain": [
       "[(0,\n",
       "  [(9, 1, 1, 41.953468, -88.03688, 1),\n",
       "   (26, 1, 3, 41.953377, -88.036888, 1),\n",
       "   (26, 2, 3, 41.95377, -88.03685, 1),\n",
       "   (7, 1, 3, 41.95089, -88.031929, 1),\n",
       "   (32, 2, 3, 41.95089, -88.031929, 1),\n",
       "   (7, 1, 3, 41.95372, -88.036819, 1),\n",
       "   (7, 2, 3, 41.95372, -88.036819, 1),\n",
       "   (25, 1, 3, 41.953773, -88.03685, 1),\n",
       "   (36, 1, 3, 41.95377, -88.036842, 1),\n",
       "   (32, 1, 3, 41.953518, -88.036728, 1)]),\n",
       " (1,\n",
       "  [(35, 1, 1, 47.237484, -122.530876, 1),\n",
       "   (25, 2, 1, 47.237484, -122.530876, 1),\n",
       "   (45, 2, 1, 47.237484, -122.530876, 1),\n",
       "   (35, 2, 1, 47.237457, -122.530876, 1),\n",
       "   (26, 2, 1, 47.237457, -122.530876, 1),\n",
       "   (26, 2, 1, 47.237457, -122.530876, 1),\n",
       "   (40, 2, 1, 47.237457, -122.530876, 1),\n",
       "   (36, 2, 1, 47.237457, -122.530876, 1),\n",
       "   (41, 2, 1, 47.237457, -122.530876, 1),\n",
       "   (44, 2, 1, 47.237457, -122.530876, 1)])]"
      ]
     },
     "execution_count": 31,
     "metadata": {},
     "output_type": "execute_result"
    }
   ],
   "source": [
    "import datetime\n",
    "from math import radians, cos, sin, asin, sqrt\n",
    "\n",
    "def haversine(lon1, lat1, lon2, lat2):\n",
    "    \"\"\"\n",
    "    Calculate the great circle distance between two points \n",
    "    on the earth (specified in decimal degrees)\n",
    "    \"\"\"\n",
    "    # convert decimal degrees to radians \n",
    "    lon1, lat1, lon2, lat2 = map(radians, [lon1, lat1, lon2, lat2])\n",
    "\n",
    "    # haversine formula \n",
    "    dlon = lon2 - lon1 \n",
    "    dlat = lat2 - lat1 \n",
    "    a = sin(dlat/2)**2 + cos(lat1) * cos(lat2) * sin(dlon/2)**2\n",
    "    c = 2 * asin(sqrt(a)) \n",
    "    r = 6371 # Radius of earth in kilometers. Use 3956 for miles\n",
    "    return c * r\n",
    "\n",
    "def convertLocation(line):\n",
    "    listGroup = line[1]\n",
    "    workGroup = [x for x in listGroup if datetime.datetime.fromtimestamp(int(x[1])).hour >= 6 and  \n",
    "            datetime.datetime.fromtimestamp(int(x[1])).hour <= 18]\n",
    "    numNearLocation = []\n",
    "    i = 0\n",
    "    for x in workGroup:\n",
    "        numNearLocation.append(0);\n",
    "        for y in workGroup:\n",
    "            if haversine(x[3], x[2], y[3], y[2]) < 0.1:\n",
    "                numNearLocation[i] = numNearLocation[i] + 1\n",
    "        i = i + 1\n",
    "    index_work = numNearLocation.index(max(numNearLocation))\n",
    "#     workGroup = [(x[0],x[1],x[2],x[3],1) if haversine(x[3], x[2], workGroup[index_work][3], workGroup[index_work][2]) < 0.1 \n",
    "#                  else (x[0],x[1],x[2],x[3],0) for x in workGroup]\n",
    "    #workGroup3 = [(x[0],x[1],0)  for x in workGroup if haversine(x[3], x[2], workGroup[index][3], workGroup[index][2]) >= 0.1]        \n",
    "    \n",
    "    homeGroup = [x for x in listGroup if datetime.datetime.fromtimestamp(int(x[1])).hour < 6 or\n",
    "            datetime.datetime.fromtimestamp(int(x[1])).hour > 18]\n",
    "    \n",
    "    numNearLocation = []\n",
    "    i = 0\n",
    "    for x in homeGroup:\n",
    "        numNearLocation.append(0);\n",
    "        for y in homeGroup:\n",
    "            if haversine(x[3], x[2], y[3], y[2]) < 0.1:\n",
    "                numNearLocation[i] = numNearLocation[i] + 1\n",
    "        i = i + 1\n",
    "    index_home = numNearLocation.index(max(numNearLocation))\n",
    "#     homeGroup = [(x[0],x[1],x[2],x[3],2) if haversine(x[3], x[2], homeGroup[index_home][3], homeGroup[index_home][2]) < 0.1 \n",
    "#                  else (x[0],x[1],x[2],x[3],0) for x in homeGroup]\n",
    "    \n",
    "    listGroup = [(x[0],x[1],x[4],1) if haversine(x[3], x[2], workGroup[index_work][3], workGroup[index_work][2]) < 0.01 \n",
    "                 else( \n",
    "                    (x[0],x[1],x[4],2) if haversine(x[3], x[2], homeGroup[index_home][3], homeGroup[index_home][2]) < 0.01\n",
    "                    else (x[0],x[1],x[4],3) \n",
    "                    )\n",
    "                 for x in listGroup]\n",
    "    \n",
    "    listGroup = [(x[0],x[2],x[3],1) if datetime.datetime.fromtimestamp(int(x[1])).hour >= 8 and\n",
    "                datetime.datetime.fromtimestamp(int(x[1])).hour <= 13\n",
    "                    else(\n",
    "                      (x[0],x[2],x[3],2) if datetime.datetime.fromtimestamp(int(x[1])).hour >= 13 and\n",
    "                        datetime.datetime.fromtimestamp(int(x[1])).hour <= 18\n",
    "                      else (x[0],x[2],x[3],3)\n",
    "                    )\n",
    "                for x in listGroup]\n",
    "    \n",
    "    \n",
    "    #time = datetime.datetime.fromtimestamp(int(line[1][0][1]))\n",
    "    #line[1][1] = datetime.datetime.fromtimestamp(int(\"1284101485\")).strftime('%Y-%m-%d %H:%M:%S')\n",
    "    #return line[0],(workGroup+homeGroup)[:20],listGroup[:20]#,len(workGroup+homeGroup),len(workGroup),len(homeGroup)\n",
    "    return line[0],listGroup\n",
    "final = groupData.map(convertLocation)"
   ]
  },
  {
   "cell_type": "code",
   "execution_count": 30,
   "metadata": {
    "collapsed": false
   },
   "outputs": [
    {
     "data": {
      "text/plain": [
       "False"
      ]
     },
     "execution_count": 30,
     "metadata": {},
     "output_type": "execute_result"
    }
   ],
   "source": []
  },
  {
   "cell_type": "code",
   "execution_count": null,
   "metadata": {
    "collapsed": true
   },
   "outputs": [],
   "source": []
  }
 ],
 "metadata": {
  "kernelspec": {
   "display_name": "pySpark (Spark 1.4.0)",
   "language": "python",
   "name": "pyspark"
  },
  "language_info": {
   "codemirror_mode": {
    "name": "ipython",
    "version": 2
   },
   "file_extension": ".py",
   "mimetype": "text/x-python",
   "name": "python",
   "nbconvert_exporter": "python",
   "pygments_lexer": "ipython2",
   "version": "2.7.6"
  }
 },
 "nbformat": 4,
 "nbformat_minor": 0
}
