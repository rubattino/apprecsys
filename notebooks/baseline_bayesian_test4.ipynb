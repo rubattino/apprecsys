{
 "cells": [
  {
   "cell_type": "code",
   "execution_count": 9,
   "metadata": {
    "collapsed": false,
    "scrolled": true
   },
   "outputs": [],
   "source": [
    "import os\n",
    "execfile(\"../script/utils.py\")\n",
    "eventsPath = os.environ[\"YAHOO_DATA\"]\n",
    "splitedRdd = sc.textFile(eventsPath + \"/splitedData\")\n",
    "splitedRdd = splitedRdd.map(parseContextData2)\n",
    "#splitedRdd.take(1)\n",
    "splitedRdd = sc.parallelize(splitedRdd.take(20000))\n",
    "\n",
    "#splitedRdd.take(1)\n",
    "#(uid,[[train],[test]]"
   ]
  },
  {
   "cell_type": "code",
   "execution_count": 10,
   "metadata": {
    "collapsed": false,
    "scrolled": true
   },
   "outputs": [],
   "source": [
    "ContextRow2 = namedtuple(\"context\", [\"ts\",\"city\", \"lat\", \"lon\", \"moving\", \"location\", \"time_of_day\",\n",
    "                                     \"last_app\", \"app_chain\" ])\n",
    "def addLastApp(row):\n",
    "    train = row[1][0]\n",
    "    test = row[1][1]\n",
    "    if (len(train) == 0 or len(test) == 0):\n",
    "        #cannot evaluate\n",
    "        return (row[0], [[],[]])\n",
    "    \n",
    "    temp_list = list(train[0])\n",
    "    temp_list[1] = list(temp_list[1])\n",
    "    temp_list[1].append(-1) #last app unknown\n",
    "    temp_list[1].append(-1) #app chain unknown\n",
    "    new_row = [[TrainRow(temp_list[0],ContextRow2(*temp_list[1]))]]\n",
    "    \n",
    "    ts = test[0].context.ts - train[-1].context.ts\n",
    "    app_chain_temp = -1 if ts > 60 else train[-1].itemId\n",
    "    temp_list = list(test[0])\n",
    "    temp_list[1] = list(temp_list[1])\n",
    "    temp_list[1].append(train[-1].itemId) #last app \n",
    "    temp_list[1].append(app_chain_temp) #app chain\n",
    "    new_row.append([TrainRow(temp_list[0],ContextRow2(*temp_list[1]))])\n",
    "    for i in xrange(1,len(train)):\n",
    "        ts = train[i].context.ts - train[i-1].context.ts\n",
    "        app_chain_temp = -1 if ts > 60 else train[i-1].itemId\n",
    "        temp_list = list(train[i])\n",
    "        temp_list[1] = list(temp_list[1])\n",
    "        temp_list[1].append(train[i-1].itemId) #last app \n",
    "        temp_list[1].append(app_chain_temp) #app chain \n",
    "        new_row[0].append(\n",
    "            TrainRow(temp_list[0], ContextRow2(*temp_list[1]))\n",
    "        )\n",
    "    for i in xrange(1,len(test)):\n",
    "        ts = test[i].context.ts - test[i-1].context.ts\n",
    "        app_chain_temp = -1 if ts > 60 else test[i-1].itemId\n",
    "        temp_list = list(test[i])\n",
    "        temp_list[1] = list(temp_list[1])\n",
    "        temp_list[1].append(test[i-1].itemId) #last app \n",
    "        temp_list[1].append(app_chain_temp) #app chain \n",
    "        new_row[1].append(\n",
    "            TrainRow(temp_list[0], ContextRow2(*temp_list[1]))\n",
    "        )\n",
    "    return (row[0], new_row)\n",
    "        \n",
    "splitedRddv2 = splitedRdd.map(addLastApp)\n",
    "#splitedRddv2.take(1)"
   ]
  },
  {
   "cell_type": "code",
   "execution_count": 11,
   "metadata": {
    "collapsed": false
   },
   "outputs": [
    {
     "data": {
      "text/plain": [
       "[train(itemId=94874, context=context(ts=1420959850, city=2995, lat=42.897598, lon=-87.853897, moving=1, location=1, time_of_day=1, last_app=-1, app_chain=-1)),\n",
       " train(itemId=14861, context=context(ts=1420982193, city=2995, lat=42.897644, lon=-87.853874, moving=1, location=2, time_of_day=2, last_app=94874, app_chain=-1))]"
      ]
     },
     "execution_count": 11,
     "metadata": {},
     "output_type": "execute_result"
    }
   ],
   "source": [
    "splitedRdd_flat = splitedRddv2.flatMap(lambda x: x[1]).flatMap(lambda x: x)\n",
    "splitedRdd_flat.take(2)"
   ]
  },
  {
   "cell_type": "code",
   "execution_count": 12,
   "metadata": {
    "collapsed": true
   },
   "outputs": [],
   "source": [
    "numRecList = 5\n",
    "def topFiveSortedList(oldList, context, probability):\n",
    "    context_oldList = [x[0] for x in oldList]\n",
    "    if context not in context_oldList:\n",
    "        for x in range(0,len(oldList)-1):\n",
    "            if x == 0 and oldList[x][1] < probability:\n",
    "                oldList[x] = (context,probability)\n",
    "                if oldList[x+1][1] < oldList[x][1]:\n",
    "                    temp = oldList[x+1] \n",
    "                    oldList[x+1] = oldList[x]\n",
    "                    oldList[x] = temp \n",
    "                else:\n",
    "                    break\n",
    "            elif oldList[x+1][1] < oldList[x][1]:\n",
    "                temp = oldList[x+1] \n",
    "                oldList[x+1] = oldList[x]\n",
    "                oldList[x] = temp \n",
    "            else:\n",
    "                break\n",
    "    else:\n",
    "        index = context_oldList.index(context)\n",
    "        if oldList[index][1] < probability:\n",
    "            oldList[index] = (context,probability)\n",
    "        oldList = sorted(oldList,key=lambda x: x[1])\n",
    "    return oldList     \n",
    "def evaluation_rr(testList, recList):\n",
    "    scores = 0\n",
    "    for t in testList:\n",
    "        for i in range(len(recList)):\n",
    "            if t == recList[i]:\n",
    "                scores = scores + 1.0 / (i+1)\n",
    "                break\n",
    "    if len(testList) != 0 :\n",
    "        scores = scores / len(testList)\n",
    "    return scores\n",
    "\n",
    "def evaluation_ap(testList, recList):\n",
    "    scores = 0\n",
    "    num = 0 \n",
    "    rr = []\n",
    "    rr[:len(recList)] = [0 for i in range(len(recList))]\n",
    "    for t in testList:\n",
    "        for i in range(len(recList)):\n",
    "            if t == recList[i]:\n",
    "                rr[i] = 1\n",
    "    \n",
    "    for t in testList:    \n",
    "        for i in range(len(recList)):\n",
    "            if t == recList[i]:\n",
    "                for j in range(i,len(recList)):    \n",
    "                    if rr[j] == 1:\n",
    "                        scores = scores + 1.0 / (j+1)\n",
    "                        num = num + 1\n",
    "                break\n",
    "    if num == 0:\n",
    "        scores = 0\n",
    "    else:\n",
    "        scores = scores / num\n",
    "    return scores\n",
    "\n",
    "def evaluation_recall(testList, recList):\n",
    "    scores = 0\n",
    "    num = 0\n",
    "    recall = []\n",
    "    recall[:len(recList)] = [0 for i in range(len(recList))]\n",
    "    rr=[]\n",
    "    rr[:len(recList)] = [0 for i in range(len(recList))]\n",
    "    for t in testList:\n",
    "        for i in range(len(recList)):\n",
    "            if t == recList[i]:\n",
    "                rr[i] = 1\n",
    "    for t in testList:    \n",
    "        for i in range(len(recList)):\n",
    "            if t == recList[i]:\n",
    "                for j in range(i,len(recList)):    \n",
    "                    recall[j] = recall[j] + 1.0\n",
    "                    num = num + 1  \n",
    "                break    \n",
    "    recall = [0 if len(testList) == 0 else x/len(testList) for x in recall]\n",
    "    return recall\n",
    "def remove_duplicates(values):\n",
    "    output = []\n",
    "    seen = set()\n",
    "    for value in values:\n",
    "        # If value has not been encountered yet,\n",
    "        # ... add it to both list and set.\n",
    "        if value not in seen:\n",
    "            output.append(value)\n",
    "            seen.add(value)\n",
    "    return output\n",
    "\n",
    "def print_result(finalScore, algorithm_name):\n",
    "    f = open('result/resultOfEvaluation2.txt','a')\n",
    "    f.write('2000 users with duplicated evaluations')\n",
    "    f.write('\\n')\n",
    "    f.write(algorithm_name + ' by mrr:'+str(finalScore.map(lambda x:x[0]).mean()))\n",
    "    f.write('\\n')\n",
    "    f.write(algorithm_name + ' by map:'+str(finalScore.map(lambda x:x[1]).mean()))\n",
    "    f.write('\\n')\n",
    "    f.write(algorithm_name + ' by recall:')\n",
    "    for i in range(numRecList):\n",
    "        if i == 0:\n",
    "            f.write(' '+str(finalScore.map(lambda x:x[2][i]).mean()))\n",
    "        elif i == numRecList-1:\n",
    "            f.write(','+str(finalScore.map(lambda x:x[2][i]).mean()) + '\\n')\n",
    "        else:\n",
    "            f.write(','+str(finalScore.map(lambda x:x[2][i]).mean()))\n",
    "    f.close()"
   ]
  },
  {
   "cell_type": "code",
   "execution_count": 13,
   "metadata": {
    "collapsed": false,
    "scrolled": true
   },
   "outputs": [],
   "source": [
    "index_of_context = 8\n",
    "numAll = splitedRdd_flat.count() \n",
    "#p_context giving me co8ntext giving back p\n",
    "p_all_context_list = splitedRdd_flat.map(lambda x: x[1][index_of_context]).map(lambda x:(x,1.0)).groupByKey().map(lambda x:(x[0],sum(x[1])/numAll)).collect()\n",
    "#p_all_context_list.take(10)\n",
    "#p_all_context_list[[x[0] for x in p_all_context_list].index(72320)][1]"
   ]
  },
  {
   "cell_type": "code",
   "execution_count": null,
   "metadata": {
    "collapsed": false
   },
   "outputs": [],
   "source": [
    "#p_appi giving me appi giving back p\n",
    "p_all_appid_list = splitedRdd_flat.map(lambda x: x[0]).map(lambda x:(x,1.0)).groupByKey().map(lambda x:(x[0],sum(x[1])/numAll)).collect()\n",
    "#all_appid.take(10)\n",
    "#p_all_appid_list[[x[0] for x in p_all_appid_list].index(77952)][1]"
   ]
  },
  {
   "cell_type": "code",
   "execution_count": null,
   "metadata": {
    "collapsed": false,
    "scrolled": true
   },
   "outputs": [],
   "source": [
    "index_of_context = 8\n",
    "#all_data = splitedRdd_flat.map(lambda x: (x[0],x[1][index_of_context]))\n",
    "#all_data.take(10)\n",
    "all_appid_list = splitedRdd_flat.map(lambda x: x[0]).distinct().collect()\n",
    "#all_appid_list.take(10)\n",
    "all_data_list = splitedRdd_flat.map(lambda x: (x[0],x[1][index_of_context])).collect()\n",
    "context_model = splitedRdd_flat.map(lambda x: x[1][index_of_context]).distinct()\n",
    "\n",
    "def bayesian_model(line):\n",
    "    context_id = line\n",
    "    p_context = p_all_context_list[[x[0] for x in p_all_context_list].index(context_id)][1]\n",
    "    p_app = [(-1,0),(-1,0),(-1,0),(-1,0),(-1,0)]\n",
    "    for appid in all_appid_list:\n",
    "        num_appid = 0\n",
    "        num_appid_context = 0\n",
    "        for i in all_data_list:\n",
    "            if i[0] == appid:\n",
    "                num_appid = num_appid + 1.0\n",
    "                if i[1] == context_id:\n",
    "                    num_appid_context  = num_appid_context + 1.0  \n",
    "        if num_appid != 0:\n",
    "            p_contextAppid = num_appid_context/num_appid\n",
    "        else:\n",
    "            p_contextAppid = 0\n",
    "        \n",
    "        p_appi =  p_all_appid_list[[x[0] for x in p_all_appid_list].index(appid)][1]\n",
    "        if p_context != 0:\n",
    "            p = p_contextAppid * p_appi / p_context\n",
    "        else:\n",
    "            p = 0\n",
    "        p_app = topFiveSortedList(p_app,appid,p)    \n",
    "    return line,p_app\n",
    "\n",
    "context_model = context_model.map(bayesian_model)\n",
    "context_model_list= context_model.collect()\n",
    "#context_model_list[[x[0] for x in context_model_list].index(72320)][1]\n"
   ]
  },
  {
   "cell_type": "code",
   "execution_count": null,
   "metadata": {
    "collapsed": false
   },
   "outputs": [],
   "source": [
    "index_of_context = 8\n",
    "def bayesian_context(line):\n",
    "    listGroup = line[1]\n",
    "    l = len(listGroup)  \n",
    "    trainList = listGroup[0]      #0.8 train set\n",
    "    testList = listGroup[1]       #0.2 test set\n",
    "    trainList = [(t[0],t[1][index_of_context]) for t in trainList] #itemId,movingId\n",
    "    testList = [(t[0],t[1][index_of_context]) for t in testList]   #itemId,movingID\n",
    "    numTrain = len(trainList)\n",
    "    numTest = len(testList)\n",
    "    \n",
    "    scores_rr = 0.0\n",
    "    scores_ap = 0.0\n",
    "    scores_recall = [0.0, 0.0, 0.0, 0.0, 0.0]\n",
    "    for i in range(numTest):\n",
    "        context = testList[0][1]    \n",
    "        if context in [x[0] for x in context_model_list]:\n",
    "            p_app = context_model_list[[x[0] for x in context_model_list].index(context)][1]  \n",
    "        else:\n",
    "            p_app = [(-1,0),(-1,0),(-1,0),(-1,0),(-1,0)]\n",
    "            \n",
    "        testList_items = [t[0] for t in testList]               #take only id for test set\n",
    "        finalRecommender =  map(lambda x:x[0],p_app[:5])        #take only id for test set\n",
    "\n",
    "        scores_rr = evaluation_rr(testList_items, finalRecommender) + scores_rr\n",
    "        scores_ap = evaluation_ap(testList_items, finalRecommender) + scores_ap\n",
    "        scores_recall = map(lambda x,y :x+y, evaluation_recall(testList_items, finalRecommender), scores_recall)     \n",
    "        #trainList.append(testList[0])\n",
    "        testList.pop(0)       \n",
    "\n",
    "    if numTest != 0:\n",
    "        scores_rr = scores_rr / numTest\n",
    "        scores_ap = scores_ap / numTest\n",
    "        scores_recall = [x / numTest for x in scores_recall]\n",
    "    #return p_app\n",
    "    return scores_rr, scores_ap, scores_recall\n",
    "finalScore = splitedRddv2.map(bayesian_context)\n",
    "#finalScore.take(20)\n",
    "print_result(finalScore, 'bayesian_context')"
   ]
  },
  {
   "cell_type": "code",
   "execution_count": 64,
   "metadata": {
    "collapsed": false
   },
   "outputs": [
    {
     "name": "stdout",
     "output_type": "stream",
     "text": [
      "asdf\n"
     ]
    }
   ],
   "source": [
    "a = [(1,[3,3]),(2,[4,4])]\n",
    "b = a[[x[0] for x in a].index(1)][1]\n",
    "if 1 in [x[0] for x in a]:\n",
    "    print \"asdf\"\n"
   ]
  },
  {
   "cell_type": "code",
   "execution_count": 77,
   "metadata": {
    "collapsed": false
   },
   "outputs": [
    {
     "data": {
      "text/plain": [
       "True"
      ]
     },
     "execution_count": 77,
     "metadata": {},
     "output_type": "execute_result"
    }
   ],
   "source": [
    "a = [1,2,3]\n",
    "1 in a"
   ]
  },
  {
   "cell_type": "code",
   "execution_count": null,
   "metadata": {
    "collapsed": true
   },
   "outputs": [],
   "source": []
  }
 ],
 "metadata": {
  "kernelspec": {
   "display_name": "Python 2",
   "language": "python",
   "name": "python2"
  },
  "language_info": {
   "codemirror_mode": {
    "name": "ipython",
    "version": 2
   },
   "file_extension": ".py",
   "mimetype": "text/x-python",
   "name": "python",
   "nbconvert_exporter": "python",
   "pygments_lexer": "ipython2",
   "version": "2.7.10"
  }
 },
 "nbformat": 4,
 "nbformat_minor": 0
}
