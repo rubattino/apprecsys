{
 "cells": [
  {
   "cell_type": "code",
   "execution_count": 12,
   "metadata": {
    "collapsed": false
   },
   "outputs": [
    {
     "data": {
      "text/plain": [
       "[[([1.0], 0.1506849315068493, 1.0),\n",
       "  ([0.4782608695652174, 1.5217391304347827],\n",
       "   0.3150684931506849,\n",
       "   0.6195652173913043),\n",
       "  ([0.25287356321839083,\n",
       "    0.8045977011494253,\n",
       "    0.9195402298850575,\n",
       "    1.0114942528735633,\n",
       "    1.0114942528735633],\n",
       "   0.3515981735159817,\n",
       "   0.40641025641025663),\n",
       "  ([0.2234762979683973,\n",
       "    0.7110609480812641,\n",
       "    0.8126410835214447,\n",
       "    0.8939051918735892,\n",
       "    0.8939051918735892,\n",
       "    0.9548532731376975,\n",
       "    1.036117381489842,\n",
       "    1.0970654627539504,\n",
       "    1.1580135440180588,\n",
       "    1.2189616252821671],\n",
       "   0.38008806262230915,\n",
       "   0.21813462226996067)]]"
      ]
     },
     "execution_count": 12,
     "metadata": {},
     "output_type": "execute_result"
    }
   ],
   "source": [
    "execfile(\"../script/simulate.py\")\n"
   ]
  },
  {
   "cell_type": "code",
   "execution_count": 13,
   "metadata": {
    "collapsed": false
   },
   "outputs": [
    {
     "data": {
      "text/plain": [
       "591"
      ]
     },
     "execution_count": 13,
     "metadata": {},
     "output_type": "execute_result"
    }
   ],
   "source": [
    "resultsRdd.count()"
   ]
  },
  {
   "cell_type": "code",
   "execution_count": null,
   "metadata": {
    "collapsed": true
   },
   "outputs": [],
   "source": []
  }
 ],
 "metadata": {
  "kernelspec": {
   "display_name": "Python 2",
   "language": "python",
   "name": "python2"
  },
  "language_info": {
   "codemirror_mode": {
    "name": "ipython",
    "version": 2
   },
   "file_extension": ".py",
   "mimetype": "text/x-python",
   "name": "python",
   "nbconvert_exporter": "python",
   "pygments_lexer": "ipython2",
   "version": "2.7.10"
  }
 },
 "nbformat": 4,
 "nbformat_minor": 0
}
