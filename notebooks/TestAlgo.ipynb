{
 "cells": [
  {
   "cell_type": "code",
   "execution_count": 6,
   "metadata": {
    "collapsed": false
   },
   "outputs": [],
   "source": [
    "execfile(\"../script/context.py\")"
   ]
  },
  {
   "cell_type": "code",
   "execution_count": null,
   "metadata": {
    "collapsed": false
   },
   "outputs": [],
   "source": [
    "confin = parseDataRunAll(\"events.txt\")\n",
    "f = open('output.txt','w')\n",
    "f.write(\" \".join(str(x) for x in confin))\n",
    "f.write('\\n')\n",
    "f.close()"
   ]
  },
  {
   "cell_type": "code",
   "execution_count": 5,
   "metadata": {
    "collapsed": false
   },
   "outputs": [],
   "source": []
  },
  {
   "cell_type": "code",
   "execution_count": 27,
   "metadata": {
    "collapsed": false
   },
   "outputs": [
    {
     "data": {
      "text/plain": [
       "[2, 1, 3]"
      ]
     },
     "execution_count": 27,
     "metadata": {},
     "output_type": "execute_result"
    }
   ],
   "source": [
    "class Sorted_List:\n",
    "    def __init__(self, maxsize, compare_func):\n",
    "        self.lst = []\n",
    "        self.size = maxsize\n",
    "        self.func = compare_func # f(x,y) returns true if x > y else false\n",
    "    \n",
    "    def add(self,el):\n",
    "        #binary sort-insert\n",
    "        i_begin = 0\n",
    "        i_end = len(self.lst)\n",
    "        while i_begin < i_end:\n",
    "            i = (i_begin + i_end)/2\n",
    "            if self.func(self.lst[i],el):\n",
    "                i_begin = i + 1\n",
    "            else:\n",
    "                i_end = i - 1\n",
    "        self.lst.insert(i_begin, el)\n",
    "        if len(self.lst) > self.size:\n",
    "            del(self.lst[-1])\n",
    "x = Sorted_List(5, lambda x,y: x<y)\n",
    "x.add(1)\n",
    "\n",
    "\n",
    "x.add(3)\n",
    "x.add(2)\n",
    "x.lst"
   ]
  },
  {
   "cell_type": "code",
   "execution_count": null,
   "metadata": {
    "collapsed": true
   },
   "outputs": [],
   "source": []
  },
  {
   "cell_type": "code",
   "execution_count": null,
   "metadata": {
    "collapsed": true
   },
   "outputs": [],
   "source": []
  }
 ],
 "metadata": {
  "kernelspec": {
   "display_name": "Python 2",
   "language": "python",
   "name": "python2"
  },
  "language_info": {
   "codemirror_mode": {
    "name": "ipython",
    "version": 2
   },
   "file_extension": ".py",
   "mimetype": "text/x-python",
   "name": "python",
   "nbconvert_exporter": "python",
   "pygments_lexer": "ipython2",
   "version": "2.7.10"
  }
 },
 "nbformat": 4,
 "nbformat_minor": 0
}
